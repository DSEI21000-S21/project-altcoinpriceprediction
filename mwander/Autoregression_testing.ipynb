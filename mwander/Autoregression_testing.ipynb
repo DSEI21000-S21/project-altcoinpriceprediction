{
 "cells": [
  {
   "cell_type": "markdown",
   "metadata": {},
   "source": [
    "# ARIMA / Autoregression"
   ]
  },
  {
   "cell_type": "code",
   "execution_count": 2,
   "metadata": {},
   "outputs": [],
   "source": [
    "import numpy as np\n",
    "import pandas as pd\n",
    "import matplotlib.pyplot as plt\n",
    "from statsmodels.tsa.ar_model import AutoReg\n",
    "from sklearn.model_selection import train_test_split\n",
    "from sklearn.metrics import mean_squared_error\n",
    "import seaborn as sns"
   ]
  },
  {
   "cell_type": "code",
   "execution_count": 60,
   "metadata": {},
   "outputs": [
    {
     "data": {
      "text/html": [
       "<div>\n",
       "<style scoped>\n",
       "    .dataframe tbody tr th:only-of-type {\n",
       "        vertical-align: middle;\n",
       "    }\n",
       "\n",
       "    .dataframe tbody tr th {\n",
       "        vertical-align: top;\n",
       "    }\n",
       "\n",
       "    .dataframe thead th {\n",
       "        text-align: right;\n",
       "    }\n",
       "</style>\n",
       "<table border=\"1\" class=\"dataframe\">\n",
       "  <thead>\n",
       "    <tr style=\"text-align: right;\">\n",
       "      <th></th>\n",
       "      <th>Name</th>\n",
       "      <th>Symbol</th>\n",
       "      <th>High</th>\n",
       "      <th>Low</th>\n",
       "      <th>Open</th>\n",
       "      <th>Close</th>\n",
       "      <th>Volume</th>\n",
       "      <th>Marketcap</th>\n",
       "    </tr>\n",
       "    <tr>\n",
       "      <th>Date</th>\n",
       "      <th></th>\n",
       "      <th></th>\n",
       "      <th></th>\n",
       "      <th></th>\n",
       "      <th></th>\n",
       "      <th></th>\n",
       "      <th></th>\n",
       "      <th></th>\n",
       "    </tr>\n",
       "  </thead>\n",
       "  <tbody>\n",
       "    <tr>\n",
       "      <th>2017-10-02</th>\n",
       "      <td>Cardano</td>\n",
       "      <td>ADA</td>\n",
       "      <td>0.030088</td>\n",
       "      <td>0.019969</td>\n",
       "      <td>0.024607</td>\n",
       "      <td>0.025932</td>\n",
       "      <td>57641300.0</td>\n",
       "      <td>6.288991e+08</td>\n",
       "    </tr>\n",
       "    <tr>\n",
       "      <th>2017-10-03</th>\n",
       "      <td>Cardano</td>\n",
       "      <td>ADA</td>\n",
       "      <td>0.027425</td>\n",
       "      <td>0.020690</td>\n",
       "      <td>0.025757</td>\n",
       "      <td>0.020816</td>\n",
       "      <td>16997800.0</td>\n",
       "      <td>5.396927e+08</td>\n",
       "    </tr>\n",
       "    <tr>\n",
       "      <th>2017-10-04</th>\n",
       "      <td>Cardano</td>\n",
       "      <td>ADA</td>\n",
       "      <td>0.022806</td>\n",
       "      <td>0.020864</td>\n",
       "      <td>0.020864</td>\n",
       "      <td>0.021931</td>\n",
       "      <td>9000050.0</td>\n",
       "      <td>5.686195e+08</td>\n",
       "    </tr>\n",
       "    <tr>\n",
       "      <th>2017-10-05</th>\n",
       "      <td>Cardano</td>\n",
       "      <td>ADA</td>\n",
       "      <td>0.022154</td>\n",
       "      <td>0.020859</td>\n",
       "      <td>0.021951</td>\n",
       "      <td>0.021489</td>\n",
       "      <td>5562510.0</td>\n",
       "      <td>5.571390e+08</td>\n",
       "    </tr>\n",
       "    <tr>\n",
       "      <th>2017-10-06</th>\n",
       "      <td>Cardano</td>\n",
       "      <td>ADA</td>\n",
       "      <td>0.021542</td>\n",
       "      <td>0.018360</td>\n",
       "      <td>0.021359</td>\n",
       "      <td>0.018539</td>\n",
       "      <td>7780710.0</td>\n",
       "      <td>4.806646e+08</td>\n",
       "    </tr>\n",
       "  </tbody>\n",
       "</table>\n",
       "</div>"
      ],
      "text/plain": [
       "               Name Symbol      High       Low      Open     Close  \\\n",
       "Date                                                                 \n",
       "2017-10-02  Cardano    ADA  0.030088  0.019969  0.024607  0.025932   \n",
       "2017-10-03  Cardano    ADA  0.027425  0.020690  0.025757  0.020816   \n",
       "2017-10-04  Cardano    ADA  0.022806  0.020864  0.020864  0.021931   \n",
       "2017-10-05  Cardano    ADA  0.022154  0.020859  0.021951  0.021489   \n",
       "2017-10-06  Cardano    ADA  0.021542  0.018360  0.021359  0.018539   \n",
       "\n",
       "                Volume     Marketcap  \n",
       "Date                                  \n",
       "2017-10-02  57641300.0  6.288991e+08  \n",
       "2017-10-03  16997800.0  5.396927e+08  \n",
       "2017-10-04   9000050.0  5.686195e+08  \n",
       "2017-10-05   5562510.0  5.571390e+08  \n",
       "2017-10-06   7780710.0  4.806646e+08  "
      ]
     },
     "execution_count": 60,
     "metadata": {},
     "output_type": "execute_result"
    }
   ],
   "source": [
    "df = pd.read_csv('../data/cryptocurrencypricehistory/coin_Cardano.csv')\n",
    "df['Date'] = pd.to_datetime(df['Date']).dt.date\n",
    "df = df.set_index(pd.DatetimeIndex(df['Date'])).drop('Date', axis=1).drop('SNo', axis=1)\n",
    "df.head()"
   ]
  },
  {
   "cell_type": "code",
   "execution_count": 6,
   "metadata": {},
   "outputs": [
    {
     "data": {
      "text/plain": [
       "<AxesSubplot:xlabel='y(t)', ylabel='y(t + 1)'>"
      ]
     },
     "execution_count": 6,
     "metadata": {},
     "output_type": "execute_result"
    },
    {
     "data": {
      "image/png": "[encoded data removed]",
      "text/plain": [
       "<Figure size 432x288 with 1 Axes>"
      ]
     },
     "metadata": {
      "needs_background": "light"
     },
     "output_type": "display_data"
    }
   ],
   "source": [
    "pd.plotting.lag_plot(np.log(df['Close']))"
   ]
  },
  {
   "cell_type": "markdown",
   "metadata": {},
   "source": [
    "The correlation in the lag plot (lag 1) suggests that an autoregressive model is appropriate."
   ]
  },
  {
   "cell_type": "code",
   "execution_count": 5,
   "metadata": {},
   "outputs": [
    {
     "data": {
      "text/plain": [
       "<AxesSubplot:xlabel='Lag', ylabel='Autocorrelation'>"
      ]
     },
     "execution_count": 5,
     "metadata": {},
     "output_type": "execute_result"
    },
    {
     "data": {
      "image/png": "[encoded data removed]",
      "text/plain": [
       "<Figure size 432x288 with 1 Axes>"
      ]
     },
     "metadata": {
      "needs_background": "light"
     },
     "output_type": "display_data"
    }
   ],
   "source": [
    "pd.plotting.autocorrelation_plot(np.log(df['Close']))"
   ]
  },
  {
   "cell_type": "markdown",
   "metadata": {},
   "source": [
    "## Check Stationarity"
   ]
  },
  {
   "cell_type": "code",
   "execution_count": 111,
   "metadata": {},
   "outputs": [
    {
     "name": "stdout",
     "output_type": "stream",
     "text": [
      "ADF-Statistic: -2.128483247175606\n",
      "p-value: 0.2332166300161242\n",
      "Critical Values {'1%': -3.435699433298302, '5%': -2.863902271843875, '10%': -2.5680277086214076}\n"
     ]
    }
   ],
   "source": [
    "from statsmodels.tsa.stattools import adfuller\n",
    "adf_test = adfuller(df['Close'].apply(np.log).values)\n",
    "print('ADF-Statistic:',adf_test[0])\n",
    "print('p-value:',adf_test[1])\n",
    "print('Critical Values', adf_test[4])"
   ]
  },
  {
   "cell_type": "markdown",
   "metadata": {},
   "source": [
    "This suggests that the close price of ADA is not stationary."
   ]
  },
  {
   "cell_type": "markdown",
   "metadata": {},
   "source": [
    "## Autoregression"
   ]
  },
  {
   "cell_type": "code",
   "execution_count": 51,
   "metadata": {},
   "outputs": [],
   "source": [
    "#X = df.drop('Close', axis=1).iloc[:,2:].apply(np.log).values\n",
    "X = df['Close'].apply(np.log).values\n",
    "forecast = 30\n",
    "X_train, X_test = X[1:len(X)-forecast], X[len(X)-forecast:]"
   ]
  },
  {
   "cell_type": "code",
   "execution_count": 53,
   "metadata": {},
   "outputs": [
    {
     "name": "stdout",
     "output_type": "stream",
     "text": [
      "Coefficients:[-0.00837354  0.995675  ]\n"
     ]
    }
   ],
   "source": [
    "autoreg = AutoReg(X_train, lags=1)\n",
    "autoreg_fit = autoreg.fit()\n",
    "print('Coefficients:{}'.format(autoreg_fit.params))"
   ]
  },
  {
   "cell_type": "code",
   "execution_count": 54,
   "metadata": {},
   "outputs": [
    {
     "data": {
      "text/plain": [
       "array([-1.06472956, -1.06849814, -1.07225042, -1.07598648, -1.07970637,\n",
       "       -1.08341018, -1.08709797, -1.09076981, -1.09442577, -1.09806591,\n",
       "       -1.10169031, -1.10529904, -1.10889216, -1.11246974, -1.11603184,\n",
       "       -1.11957854, -1.1231099 , -1.12662599, -1.13012687, -1.13361261,\n",
       "       -1.13708327, -1.14053892, -1.14397963, -1.14740545, -1.15081646,\n",
       "       -1.15421272, -1.15759428, -1.16096123, -1.16431361, -1.16765149])"
      ]
     },
     "execution_count": 54,
     "metadata": {},
     "output_type": "execute_result"
    }
   ],
   "source": [
    "X_hat = autoreg_fit.predict(start=len(X_train), end=len(X_train)+len(X_test)-1,dynamic=False)\n",
    "X_hat"
   ]
  },
  {
   "cell_type": "code",
   "execution_count": 55,
   "metadata": {},
   "outputs": [
    {
     "data": {
      "text/plain": [
       "array([-1.05517615, -1.0144033 , -1.06450757, -0.91122053, -0.85273608,\n",
       "       -0.81780458, -0.8185939 , -0.62013156, -0.46539744, -0.41062157,\n",
       "       -0.38197699, -0.35166446, -0.07222829, -0.07500235, -0.07732673,\n",
       "       -0.09902579, -0.16438111, -0.14964692, -0.13816965, -0.115501  ,\n",
       "       -0.08979501, -0.07510174,  0.11596624,  0.0957824 ,  0.09453787,\n",
       "       -0.04634855,  0.05036666,  0.07614237,  0.21600243,  0.28130701])"
      ]
     },
     "execution_count": 55,
     "metadata": {},
     "output_type": "execute_result"
    }
   ],
   "source": [
    "X_test"
   ]
  },
  {
   "cell_type": "code",
   "execution_count": 56,
   "metadata": {},
   "outputs": [
    {
     "data": {
      "text/plain": [
       "[<matplotlib.lines.Line2D at 0x26d637445e0>]"
      ]
     },
     "execution_count": 56,
     "metadata": {},
     "output_type": "execute_result"
    },
    {
     "data": {
      "image/png": "[encoded data removed]",
      "text/plain": [
       "<Figure size 432x288 with 1 Axes>"
      ]
     },
     "metadata": {
      "needs_background": "light"
     },
     "output_type": "display_data"
    }
   ],
   "source": [
    "plt.plot(X_test)\n",
    "plt.plot(X_hat)"
   ]
  },
  {
   "cell_type": "markdown",
   "metadata": {},
   "source": [
    "## Vector Autoregression"
   ]
  },
  {
   "cell_type": "code",
   "execution_count": 91,
   "metadata": {},
   "outputs": [],
   "source": [
    "from statsmodels.tsa.vector_ar.var_model import VAR"
   ]
  },
  {
   "cell_type": "code",
   "execution_count": 92,
   "metadata": {},
   "outputs": [],
   "source": [
    "X = df.drop('Volume', axis=1).iloc[:,2:].apply(np.log).values\n",
    "forecast = 30\n",
    "X_train, X_test = X[1:len(X)-forecast], X[len(X)-forecast:]"
   ]
  },
  {
   "cell_type": "code",
   "execution_count": 93,
   "metadata": {},
   "outputs": [
    {
     "name": "stdout",
     "output_type": "stream",
     "text": [
      "Coefficients:[[-8.35071863e-01 -1.30088076e+00 -1.47225971e-02 -1.82200807e+00\n",
      "  -1.79210308e+00]\n",
      " [ 3.53201062e-01 -3.18078859e-01  1.98995652e-03  1.80310863e-01\n",
      "   1.78764324e-01]\n",
      " [-3.38567101e-01  1.21195082e-01 -4.45723121e-03 -1.51943090e-01\n",
      "  -1.50451521e-01]\n",
      " [-4.68524782e-02  3.48500891e-02  1.44267617e-02  3.01739943e-02\n",
      "   2.93111091e-02]\n",
      " [ 9.94200056e-01  1.09645158e+00  9.87625092e-01  8.57321622e-01\n",
      "  -1.40445223e-01]\n",
      " [ 3.49770143e-02  5.16622031e-02  6.21421276e-04  7.44177803e-02\n",
      "   1.07319268e+00]]\n"
     ]
    }
   ],
   "source": [
    "varmod = VAR(X_train, dates=df.index.values, freq='D')\n",
    "varmod_fit = varmod.fit()\n",
    "print('Coefficients:{}'.format(varmod_fit.params))"
   ]
  },
  {
   "cell_type": "code",
   "execution_count": 98,
   "metadata": {},
   "outputs": [
    {
     "data": {
      "text/plain": [
       "array([[-0.99397224, -1.12393785, -1.06173258, -1.05521369, 23.10574217],\n",
       "       [-0.99679437, -1.12123359, -1.05480538, -1.04767365, 23.11330093],\n",
       "       [-0.99127059, -1.11110899, -1.04727169, -1.04135764, 23.11964566],\n",
       "       [-0.98659911, -1.1041234 , -1.04095535, -1.03578567, 23.12525274],\n",
       "       [-0.9818744 , -1.09814348, -1.03537956, -1.03061994, 23.1304569 ],\n",
       "       [-0.97717367, -1.09279443, -1.03021134, -1.02569241, 23.13542482],\n",
       "       [-0.97249382, -1.08780179, -1.02528162, -1.02090745, 23.14025135],\n",
       "       [-0.96783617, -1.08301764, -1.02049469, -1.01621203, 23.14498905],\n",
       "       [-0.96320123, -1.07835944, -1.01579744, -1.01157664, 23.14966721],\n",
       "       [-0.95858921, -1.0737813 , -1.01116027, -1.00698479, 23.15430218],\n",
       "       [-0.95400018, -1.06925764, -1.00656669, -1.00242727, 23.15890308],\n",
       "       [-0.94943411, -1.06477419, -1.00200748, -0.99789891, 23.16347506],\n",
       "       [-0.94489091, -1.06032297, -0.99747743, -0.99339675, 23.16802103],\n",
       "       [-0.94037048, -1.05589948, -0.99297361, -0.98891911, 23.17254268],\n",
       "       [-0.9358727 , -1.05150115, -0.98849432, -0.98446498, 23.177041  ],\n",
       "       [-0.93139743, -1.04712651, -0.98403854, -0.98003374, 23.1815166 ],\n",
       "       [-0.92694456, -1.04277467, -0.97960567, -0.97562499, 23.18596989],\n",
       "       [-0.92251394, -1.03844507, -0.97519529, -0.97123844, 23.19040114],\n",
       "       [-0.91810543, -1.03413736, -0.97080712, -0.96687387, 23.19481058],\n",
       "       [-0.91371891, -1.02985128, -0.96644095, -0.96253111, 23.19919837],\n",
       "       [-0.90935423, -1.02558662, -0.96209659, -0.95821   , 23.20356469],\n",
       "       [-0.90501127, -1.02134321, -0.95777389, -0.95391039, 23.20790966],\n",
       "       [-0.90068989, -1.01712089, -0.95347269, -0.94963213, 23.21223344],\n",
       "       [-0.89638995, -1.01291954, -0.94919285, -0.9453751 , 23.21653616],\n",
       "       [-0.89211134, -1.008739  , -0.94493425, -0.94113916, 23.22081795],\n",
       "       [-0.88785391, -1.00457915, -0.94069675, -0.93692417, 23.22507893],\n",
       "       [-0.88361753, -1.00043987, -0.93648022, -0.93273002, 23.22931924],\n",
       "       [-0.87940208, -0.99632101, -0.93228452, -0.92855657, 23.233539  ],\n",
       "       [-0.87520743, -0.99222247, -0.92810954, -0.9244037 , 23.23773834],\n",
       "       [-0.87103344, -0.9881441 , -0.92395513, -0.92027127, 23.24191739]])"
      ]
     },
     "execution_count": 98,
     "metadata": {},
     "output_type": "execute_result"
    }
   ],
   "source": [
    "yhat = varmod_fit.forecast(X_train, steps=30)\n",
    "yhat"
   ]
  },
  {
   "cell_type": "code",
   "execution_count": 102,
   "metadata": {},
   "outputs": [
    {
     "data": {
      "text/plain": [
       "[<matplotlib.lines.Line2D at 0x26d638eaca0>]"
      ]
     },
     "execution_count": 102,
     "metadata": {},
     "output_type": "execute_result"
    },
    {
     "data": {
      "image/png": "[encoded data removed]",
      "text/plain": [
       "<Figure size 432x288 with 1 Axes>"
      ]
     },
     "metadata": {
      "needs_background": "light"
     },
     "output_type": "display_data"
    }
   ],
   "source": [
    "plt.plot(X_test[:,3])\n",
    "plt.plot(yhat[:,3])"
   ]
  },
  {
   "cell_type": "code",
   "execution_count": null,
   "metadata": {},
   "outputs": [],
   "source": [
    "Auto"
   ]
  }
 ],
 "metadata": {
  "kernelspec": {
   "display_name": "Python 3",
   "language": "python",
   "name": "python3"
  },
  "language_info": {
   "codemirror_mode": {
    "name": "ipython",
    "version": 3
   },
   "file_extension": ".py",
   "mimetype": "text/x-python",
   "name": "python",
   "nbconvert_exporter": "python",
   "pygments_lexer": "ipython3",
   "version": "3.8.5"
  }
 },
 "nbformat": 4,
 "nbformat_minor": 4
}
