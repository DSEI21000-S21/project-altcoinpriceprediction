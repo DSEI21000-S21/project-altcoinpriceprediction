{
 "cells": [
  {
   "cell_type": "code",
   "execution_count": 181,
   "metadata": {},
   "outputs": [],
   "source": [
    "import numpy as np\n",
    "import pandas as pd\n",
    "import matplotlib.pyplot as plt\n",
    "from statsmodels.tsa.ar_model import AutoReg\n",
    "from sklearn.svm import SVR"
   ]
  },
  {
   "cell_type": "code",
   "execution_count": 182,
   "metadata": {},
   "outputs": [],
   "source": [
    "df = pd.read_csv('AltCoinPricePrediction/Data/cryptocurrencypricehistory/coin_Cardano.csv')"
   ]
  },
  {
   "cell_type": "code",
   "execution_count": 183,
   "metadata": {},
   "outputs": [
    {
     "data": {
      "text/html": [
       "<div>\n",
       "<style scoped>\n",
       "    .dataframe tbody tr th:only-of-type {\n",
       "        vertical-align: middle;\n",
       "    }\n",
       "\n",
       "    .dataframe tbody tr th {\n",
       "        vertical-align: top;\n",
       "    }\n",
       "\n",
       "    .dataframe thead th {\n",
       "        text-align: right;\n",
       "    }\n",
       "</style>\n",
       "<table border=\"1\" class=\"dataframe\">\n",
       "  <thead>\n",
       "    <tr style=\"text-align: right;\">\n",
       "      <th></th>\n",
       "      <th>SNo</th>\n",
       "      <th>Name</th>\n",
       "      <th>Symbol</th>\n",
       "      <th>Date</th>\n",
       "      <th>High</th>\n",
       "      <th>Low</th>\n",
       "      <th>Open</th>\n",
       "      <th>Close</th>\n",
       "      <th>Volume</th>\n",
       "      <th>Marketcap</th>\n",
       "    </tr>\n",
       "  </thead>\n",
       "  <tbody>\n",
       "    <tr>\n",
       "      <th>0</th>\n",
       "      <td>1</td>\n",
       "      <td>Cardano</td>\n",
       "      <td>ADA</td>\n",
       "      <td>2017-10-02 23:59:59</td>\n",
       "      <td>0.030088</td>\n",
       "      <td>0.019969</td>\n",
       "      <td>0.024607</td>\n",
       "      <td>0.025932</td>\n",
       "      <td>57641300.0</td>\n",
       "      <td>6.288991e+08</td>\n",
       "    </tr>\n",
       "    <tr>\n",
       "      <th>1</th>\n",
       "      <td>2</td>\n",
       "      <td>Cardano</td>\n",
       "      <td>ADA</td>\n",
       "      <td>2017-10-03 23:59:59</td>\n",
       "      <td>0.027425</td>\n",
       "      <td>0.020690</td>\n",
       "      <td>0.025757</td>\n",
       "      <td>0.020816</td>\n",
       "      <td>16997800.0</td>\n",
       "      <td>5.396927e+08</td>\n",
       "    </tr>\n",
       "    <tr>\n",
       "      <th>2</th>\n",
       "      <td>3</td>\n",
       "      <td>Cardano</td>\n",
       "      <td>ADA</td>\n",
       "      <td>2017-10-04 23:59:59</td>\n",
       "      <td>0.022806</td>\n",
       "      <td>0.020864</td>\n",
       "      <td>0.020864</td>\n",
       "      <td>0.021931</td>\n",
       "      <td>9000050.0</td>\n",
       "      <td>5.686195e+08</td>\n",
       "    </tr>\n",
       "    <tr>\n",
       "      <th>3</th>\n",
       "      <td>4</td>\n",
       "      <td>Cardano</td>\n",
       "      <td>ADA</td>\n",
       "      <td>2017-10-05 23:59:59</td>\n",
       "      <td>0.022154</td>\n",
       "      <td>0.020859</td>\n",
       "      <td>0.021951</td>\n",
       "      <td>0.021489</td>\n",
       "      <td>5562510.0</td>\n",
       "      <td>5.571390e+08</td>\n",
       "    </tr>\n",
       "    <tr>\n",
       "      <th>4</th>\n",
       "      <td>5</td>\n",
       "      <td>Cardano</td>\n",
       "      <td>ADA</td>\n",
       "      <td>2017-10-06 23:59:59</td>\n",
       "      <td>0.021542</td>\n",
       "      <td>0.018360</td>\n",
       "      <td>0.021359</td>\n",
       "      <td>0.018539</td>\n",
       "      <td>7780710.0</td>\n",
       "      <td>4.806646e+08</td>\n",
       "    </tr>\n",
       "  </tbody>\n",
       "</table>\n",
       "</div>"
      ],
      "text/plain": [
       "   SNo     Name Symbol                 Date      High       Low      Open  \\\n",
       "0    1  Cardano    ADA  2017-10-02 23:59:59  0.030088  0.019969  0.024607   \n",
       "1    2  Cardano    ADA  2017-10-03 23:59:59  0.027425  0.020690  0.025757   \n",
       "2    3  Cardano    ADA  2017-10-04 23:59:59  0.022806  0.020864  0.020864   \n",
       "3    4  Cardano    ADA  2017-10-05 23:59:59  0.022154  0.020859  0.021951   \n",
       "4    5  Cardano    ADA  2017-10-06 23:59:59  0.021542  0.018360  0.021359   \n",
       "\n",
       "      Close      Volume     Marketcap  \n",
       "0  0.025932  57641300.0  6.288991e+08  \n",
       "1  0.020816  16997800.0  5.396927e+08  \n",
       "2  0.021931   9000050.0  5.686195e+08  \n",
       "3  0.021489   5562510.0  5.571390e+08  \n",
       "4  0.018539   7780710.0  4.806646e+08  "
      ]
     },
     "execution_count": 183,
     "metadata": {},
     "output_type": "execute_result"
    }
   ],
   "source": [
    "df.head()"
   ]
  },
  {
   "cell_type": "code",
   "execution_count": 184,
   "metadata": {},
   "outputs": [
    {
     "name": "stdout",
     "output_type": "stream",
     "text": [
      "<class 'pandas.core.frame.DataFrame'>\n",
      "RangeIndex: 1245 entries, 0 to 1244\n",
      "Data columns (total 10 columns):\n",
      " #   Column     Non-Null Count  Dtype  \n",
      "---  ------     --------------  -----  \n",
      " 0   SNo        1245 non-null   int64  \n",
      " 1   Name       1245 non-null   object \n",
      " 2   Symbol     1245 non-null   object \n",
      " 3   Date       1245 non-null   object \n",
      " 4   High       1245 non-null   float64\n",
      " 5   Low        1245 non-null   float64\n",
      " 6   Open       1245 non-null   float64\n",
      " 7   Close      1245 non-null   float64\n",
      " 8   Volume     1245 non-null   float64\n",
      " 9   Marketcap  1245 non-null   float64\n",
      "dtypes: float64(6), int64(1), object(3)\n",
      "memory usage: 97.4+ KB\n"
     ]
    }
   ],
   "source": [
    "df.info()"
   ]
  },
  {
   "cell_type": "code",
   "execution_count": 185,
   "metadata": {},
   "outputs": [
    {
     "data": {
      "text/html": [
       "<div>\n",
       "<style scoped>\n",
       "    .dataframe tbody tr th:only-of-type {\n",
       "        vertical-align: middle;\n",
       "    }\n",
       "\n",
       "    .dataframe tbody tr th {\n",
       "        vertical-align: top;\n",
       "    }\n",
       "\n",
       "    .dataframe thead th {\n",
       "        text-align: right;\n",
       "    }\n",
       "</style>\n",
       "<table border=\"1\" class=\"dataframe\">\n",
       "  <thead>\n",
       "    <tr style=\"text-align: right;\">\n",
       "      <th></th>\n",
       "      <th>Name</th>\n",
       "      <th>Symbol</th>\n",
       "      <th>High</th>\n",
       "      <th>Low</th>\n",
       "      <th>Open</th>\n",
       "      <th>Close</th>\n",
       "      <th>Volume</th>\n",
       "      <th>Marketcap</th>\n",
       "    </tr>\n",
       "    <tr>\n",
       "      <th>Date</th>\n",
       "      <th></th>\n",
       "      <th></th>\n",
       "      <th></th>\n",
       "      <th></th>\n",
       "      <th></th>\n",
       "      <th></th>\n",
       "      <th></th>\n",
       "      <th></th>\n",
       "    </tr>\n",
       "  </thead>\n",
       "  <tbody>\n",
       "    <tr>\n",
       "      <th>2017-10-02 23:59:59</th>\n",
       "      <td>Cardano</td>\n",
       "      <td>ADA</td>\n",
       "      <td>0.030088</td>\n",
       "      <td>0.019969</td>\n",
       "      <td>0.024607</td>\n",
       "      <td>0.025932</td>\n",
       "      <td>57641300.0</td>\n",
       "      <td>6.288991e+08</td>\n",
       "    </tr>\n",
       "    <tr>\n",
       "      <th>2017-10-03 23:59:59</th>\n",
       "      <td>Cardano</td>\n",
       "      <td>ADA</td>\n",
       "      <td>0.027425</td>\n",
       "      <td>0.020690</td>\n",
       "      <td>0.025757</td>\n",
       "      <td>0.020816</td>\n",
       "      <td>16997800.0</td>\n",
       "      <td>5.396927e+08</td>\n",
       "    </tr>\n",
       "    <tr>\n",
       "      <th>2017-10-04 23:59:59</th>\n",
       "      <td>Cardano</td>\n",
       "      <td>ADA</td>\n",
       "      <td>0.022806</td>\n",
       "      <td>0.020864</td>\n",
       "      <td>0.020864</td>\n",
       "      <td>0.021931</td>\n",
       "      <td>9000050.0</td>\n",
       "      <td>5.686195e+08</td>\n",
       "    </tr>\n",
       "    <tr>\n",
       "      <th>2017-10-05 23:59:59</th>\n",
       "      <td>Cardano</td>\n",
       "      <td>ADA</td>\n",
       "      <td>0.022154</td>\n",
       "      <td>0.020859</td>\n",
       "      <td>0.021951</td>\n",
       "      <td>0.021489</td>\n",
       "      <td>5562510.0</td>\n",
       "      <td>5.571390e+08</td>\n",
       "    </tr>\n",
       "    <tr>\n",
       "      <th>2017-10-06 23:59:59</th>\n",
       "      <td>Cardano</td>\n",
       "      <td>ADA</td>\n",
       "      <td>0.021542</td>\n",
       "      <td>0.018360</td>\n",
       "      <td>0.021359</td>\n",
       "      <td>0.018539</td>\n",
       "      <td>7780710.0</td>\n",
       "      <td>4.806646e+08</td>\n",
       "    </tr>\n",
       "    <tr>\n",
       "      <th>2017-10-07 23:59:59</th>\n",
       "      <td>Cardano</td>\n",
       "      <td>ADA</td>\n",
       "      <td>0.021050</td>\n",
       "      <td>0.017620</td>\n",
       "      <td>0.018414</td>\n",
       "      <td>0.020941</td>\n",
       "      <td>7411240.0</td>\n",
       "      <td>5.429362e+08</td>\n",
       "    </tr>\n",
       "    <tr>\n",
       "      <th>2017-10-08 23:59:59</th>\n",
       "      <td>Cardano</td>\n",
       "      <td>ADA</td>\n",
       "      <td>0.023598</td>\n",
       "      <td>0.020147</td>\n",
       "      <td>0.020929</td>\n",
       "      <td>0.020477</td>\n",
       "      <td>7727460.0</td>\n",
       "      <td>5.309138e+08</td>\n",
       "    </tr>\n",
       "    <tr>\n",
       "      <th>2017-10-09 23:59:59</th>\n",
       "      <td>Cardano</td>\n",
       "      <td>ADA</td>\n",
       "      <td>0.022807</td>\n",
       "      <td>0.020342</td>\n",
       "      <td>0.020344</td>\n",
       "      <td>0.022114</td>\n",
       "      <td>4663310.0</td>\n",
       "      <td>5.733435e+08</td>\n",
       "    </tr>\n",
       "    <tr>\n",
       "      <th>2017-10-10 23:59:59</th>\n",
       "      <td>Cardano</td>\n",
       "      <td>ADA</td>\n",
       "      <td>0.022446</td>\n",
       "      <td>0.021279</td>\n",
       "      <td>0.022112</td>\n",
       "      <td>0.021531</td>\n",
       "      <td>2725600.0</td>\n",
       "      <td>5.582435e+08</td>\n",
       "    </tr>\n",
       "    <tr>\n",
       "      <th>2017-10-11 23:59:59</th>\n",
       "      <td>Cardano</td>\n",
       "      <td>ADA</td>\n",
       "      <td>0.022576</td>\n",
       "      <td>0.020976</td>\n",
       "      <td>0.021480</td>\n",
       "      <td>0.022520</td>\n",
       "      <td>3606720.0</td>\n",
       "      <td>5.838647e+08</td>\n",
       "    </tr>\n",
       "  </tbody>\n",
       "</table>\n",
       "</div>"
      ],
      "text/plain": [
       "                        Name Symbol      High       Low      Open     Close  \\\n",
       "Date                                                                          \n",
       "2017-10-02 23:59:59  Cardano    ADA  0.030088  0.019969  0.024607  0.025932   \n",
       "2017-10-03 23:59:59  Cardano    ADA  0.027425  0.020690  0.025757  0.020816   \n",
       "2017-10-04 23:59:59  Cardano    ADA  0.022806  0.020864  0.020864  0.021931   \n",
       "2017-10-05 23:59:59  Cardano    ADA  0.022154  0.020859  0.021951  0.021489   \n",
       "2017-10-06 23:59:59  Cardano    ADA  0.021542  0.018360  0.021359  0.018539   \n",
       "2017-10-07 23:59:59  Cardano    ADA  0.021050  0.017620  0.018414  0.020941   \n",
       "2017-10-08 23:59:59  Cardano    ADA  0.023598  0.020147  0.020929  0.020477   \n",
       "2017-10-09 23:59:59  Cardano    ADA  0.022807  0.020342  0.020344  0.022114   \n",
       "2017-10-10 23:59:59  Cardano    ADA  0.022446  0.021279  0.022112  0.021531   \n",
       "2017-10-11 23:59:59  Cardano    ADA  0.022576  0.020976  0.021480  0.022520   \n",
       "\n",
       "                         Volume     Marketcap  \n",
       "Date                                           \n",
       "2017-10-02 23:59:59  57641300.0  6.288991e+08  \n",
       "2017-10-03 23:59:59  16997800.0  5.396927e+08  \n",
       "2017-10-04 23:59:59   9000050.0  5.686195e+08  \n",
       "2017-10-05 23:59:59   5562510.0  5.571390e+08  \n",
       "2017-10-06 23:59:59   7780710.0  4.806646e+08  \n",
       "2017-10-07 23:59:59   7411240.0  5.429362e+08  \n",
       "2017-10-08 23:59:59   7727460.0  5.309138e+08  \n",
       "2017-10-09 23:59:59   4663310.0  5.733435e+08  \n",
       "2017-10-10 23:59:59   2725600.0  5.582435e+08  \n",
       "2017-10-11 23:59:59   3606720.0  5.838647e+08  "
      ]
     },
     "execution_count": 185,
     "metadata": {},
     "output_type": "execute_result"
    }
   ],
   "source": [
    "df = df.set_index(pd.DatetimeIndex(df['Date'])).drop('Date', axis=1).drop('SNo', axis=1)\n",
    "df.head(10)"
   ]
  },
  {
   "cell_type": "code",
   "execution_count": 32,
   "metadata": {},
   "outputs": [
    {
     "data": {
      "text/plain": [
       "<AxesSubplot:xlabel='Date'>"
      ]
     },
     "execution_count": 32,
     "metadata": {},
     "output_type": "execute_result"
    },
    {
     "data": {
      "image/png": "[encoded data removed]",
      "text/plain": [
       "<Figure size 432x288 with 1 Axes>"
      ]
     },
     "metadata": {
      "needs_background": "light"
     },
     "output_type": "display_data"
    }
   ],
   "source": [
    "df.loc[:, ['Close']].plot()"
   ]
  },
  {
   "cell_type": "code",
   "execution_count": 33,
   "metadata": {},
   "outputs": [
    {
     "data": {
      "text/plain": [
       "<AxesSubplot:xlabel='Date'>"
      ]
     },
     "execution_count": 33,
     "metadata": {},
     "output_type": "execute_result"
    },
    {
     "data": {
      "image/png": "[encoded data removed]",
      "text/plain": [
       "<Figure size 432x288 with 1 Axes>"
      ]
     },
     "metadata": {
      "needs_background": "light"
     },
     "output_type": "display_data"
    }
   ],
   "source": [
    "df.loc[:, ['Volume']].plot()"
   ]
  },
  {
   "cell_type": "code",
   "execution_count": 188,
   "metadata": {},
   "outputs": [
    {
     "data": {
      "text/html": [
       "<div>\n",
       "<style scoped>\n",
       "    .dataframe tbody tr th:only-of-type {\n",
       "        vertical-align: middle;\n",
       "    }\n",
       "\n",
       "    .dataframe tbody tr th {\n",
       "        vertical-align: top;\n",
       "    }\n",
       "\n",
       "    .dataframe thead th {\n",
       "        text-align: right;\n",
       "    }\n",
       "</style>\n",
       "<table border=\"1\" class=\"dataframe\">\n",
       "  <thead>\n",
       "    <tr style=\"text-align: right;\">\n",
       "      <th></th>\n",
       "      <th>High</th>\n",
       "      <th>Low</th>\n",
       "      <th>Open</th>\n",
       "      <th>Close</th>\n",
       "      <th>Volume</th>\n",
       "      <th>Marketcap</th>\n",
       "    </tr>\n",
       "  </thead>\n",
       "  <tbody>\n",
       "    <tr>\n",
       "      <th>count</th>\n",
       "      <td>1245.000000</td>\n",
       "      <td>1245.000000</td>\n",
       "      <td>1245.000000</td>\n",
       "      <td>1245.000000</td>\n",
       "      <td>1.245000e+03</td>\n",
       "      <td>1.245000e+03</td>\n",
       "    </tr>\n",
       "    <tr>\n",
       "      <th>mean</th>\n",
       "      <td>0.146055</td>\n",
       "      <td>0.129342</td>\n",
       "      <td>0.137758</td>\n",
       "      <td>0.138757</td>\n",
       "      <td>4.729622e+08</td>\n",
       "      <td>3.788101e+09</td>\n",
       "    </tr>\n",
       "    <tr>\n",
       "      <th>std</th>\n",
       "      <td>0.190901</td>\n",
       "      <td>0.159500</td>\n",
       "      <td>0.174933</td>\n",
       "      <td>0.177812</td>\n",
       "      <td>1.427985e+09</td>\n",
       "      <td>5.099696e+09</td>\n",
       "    </tr>\n",
       "    <tr>\n",
       "      <th>min</th>\n",
       "      <td>0.021050</td>\n",
       "      <td>0.017620</td>\n",
       "      <td>0.018414</td>\n",
       "      <td>0.018539</td>\n",
       "      <td>1.739460e+06</td>\n",
       "      <td>4.806646e+08</td>\n",
       "    </tr>\n",
       "    <tr>\n",
       "      <th>25%</th>\n",
       "      <td>0.045570</td>\n",
       "      <td>0.042981</td>\n",
       "      <td>0.044286</td>\n",
       "      <td>0.044328</td>\n",
       "      <td>4.642072e+07</td>\n",
       "      <td>1.149308e+09</td>\n",
       "    </tr>\n",
       "    <tr>\n",
       "      <th>50%</th>\n",
       "      <td>0.083514</td>\n",
       "      <td>0.077631</td>\n",
       "      <td>0.080869</td>\n",
       "      <td>0.080952</td>\n",
       "      <td>1.011906e+08</td>\n",
       "      <td>2.102088e+09</td>\n",
       "    </tr>\n",
       "    <tr>\n",
       "      <th>75%</th>\n",
       "      <td>0.149314</td>\n",
       "      <td>0.138102</td>\n",
       "      <td>0.143086</td>\n",
       "      <td>0.143573</td>\n",
       "      <td>2.576860e+08</td>\n",
       "      <td>3.779666e+09</td>\n",
       "    </tr>\n",
       "    <tr>\n",
       "      <th>max</th>\n",
       "      <td>1.476653</td>\n",
       "      <td>1.234138</td>\n",
       "      <td>1.242145</td>\n",
       "      <td>1.324860</td>\n",
       "      <td>1.914198e+10</td>\n",
       "      <td>4.121970e+10</td>\n",
       "    </tr>\n",
       "  </tbody>\n",
       "</table>\n",
       "</div>"
      ],
      "text/plain": [
       "              High          Low         Open        Close        Volume  \\\n",
       "count  1245.000000  1245.000000  1245.000000  1245.000000  1.245000e+03   \n",
       "mean      0.146055     0.129342     0.137758     0.138757  4.729622e+08   \n",
       "std       0.190901     0.159500     0.174933     0.177812  1.427985e+09   \n",
       "min       0.021050     0.017620     0.018414     0.018539  1.739460e+06   \n",
       "25%       0.045570     0.042981     0.044286     0.044328  4.642072e+07   \n",
       "50%       0.083514     0.077631     0.080869     0.080952  1.011906e+08   \n",
       "75%       0.149314     0.138102     0.143086     0.143573  2.576860e+08   \n",
       "max       1.476653     1.234138     1.242145     1.324860  1.914198e+10   \n",
       "\n",
       "          Marketcap  \n",
       "count  1.245000e+03  \n",
       "mean   3.788101e+09  \n",
       "std    5.099696e+09  \n",
       "min    4.806646e+08  \n",
       "25%    1.149308e+09  \n",
       "50%    2.102088e+09  \n",
       "75%    3.779666e+09  \n",
       "max    4.121970e+10  "
      ]
     },
     "execution_count": 188,
     "metadata": {},
     "output_type": "execute_result"
    }
   ],
   "source": [
    "df.describe()"
   ]
  },
  {
   "cell_type": "code",
   "execution_count": 35,
   "metadata": {},
   "outputs": [],
   "source": [
    "from sklearn.linear_model import LinearRegression"
   ]
  },
  {
   "cell_type": "code",
   "execution_count": 161,
   "metadata": {},
   "outputs": [],
   "source": [
    "X = df.loc[:, ['Open', 'High', 'Low', 'Volume']].values\n",
    "y = df.loc[:, 'Close'].values"
   ]
  },
  {
   "cell_type": "code",
   "execution_count": 37,
   "metadata": {},
   "outputs": [
    {
     "data": {
      "text/plain": [
       "[<matplotlib.lines.Line2D at 0x1bda5b80a60>]"
      ]
     },
     "execution_count": 37,
     "metadata": {},
     "output_type": "execute_result"
    },
    {
     "data": {
      "image/png": "[encoded data removed]",
      "text/plain": [
       "<Figure size 432x288 with 1 Axes>"
      ]
     },
     "metadata": {
      "needs_background": "light"
     },
     "output_type": "display_data"
    }
   ],
   "source": [
    "linreg = LinearRegression()\n",
    "linreg.fit(X, y)\n",
    "plt.plot(linreg.predict(X))"
   ]
  },
  {
   "cell_type": "code",
   "execution_count": 190,
   "metadata": {},
   "outputs": [
    {
     "data": {
      "text/plain": [
       "<AxesSubplot:xlabel='y(t)', ylabel='y(t + 1)'>"
      ]
     },
     "execution_count": 190,
     "metadata": {},
     "output_type": "execute_result"
    },
    {
     "data": {
      "image/png": "[encoded data removed]",
      "text/plain": [
       "<Figure size 432x288 with 1 Axes>"
      ]
     },
     "metadata": {
      "needs_background": "light"
     },
     "output_type": "display_data"
    }
   ],
   "source": [
    "pd.plotting.lag_plot(df['Close'])"
   ]
  },
  {
   "cell_type": "markdown",
   "metadata": {},
   "source": [
    "The closing prices appear to be highly correlated with each other."
   ]
  },
  {
   "cell_type": "code",
   "execution_count": 189,
   "metadata": {},
   "outputs": [
    {
     "data": {
      "text/plain": [
       "<AxesSubplot:xlabel='Lag', ylabel='Autocorrelation'>"
      ]
     },
     "execution_count": 189,
     "metadata": {},
     "output_type": "execute_result"
    },
    {
     "data": {
      "image/png": "[encoded data removed]",
      "text/plain": [
       "<Figure size 432x288 with 1 Axes>"
      ]
     },
     "metadata": {
      "needs_background": "light"
     },
     "output_type": "display_data"
    }
   ],
   "source": [
    "pd.plotting.autocorrelation_plot(df['Close'])"
   ]
  },
  {
   "cell_type": "code",
   "execution_count": null,
   "metadata": {},
   "outputs": [],
   "source": []
  }
 ],
 "metadata": {
  "kernelspec": {
   "display_name": "Python 3",
   "language": "python",
   "name": "python3"
  },
  "language_info": {
   "codemirror_mode": {
    "name": "ipython",
    "version": 3
   },
   "file_extension": ".py",
   "mimetype": "text/x-python",
   "name": "python",
   "nbconvert_exporter": "python",
   "pygments_lexer": "ipython3",
   "version": "3.8.5"
  }
 },
 "nbformat": 4,
 "nbformat_minor": 4
}
