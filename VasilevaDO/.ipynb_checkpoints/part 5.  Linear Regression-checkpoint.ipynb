{
 "cells": [
  {
   "cell_type": "code",
   "execution_count": 35,
   "metadata": {},
   "outputs": [],
   "source": [
    "import numpy as np \n",
    "from sklearn.svm import SVR\n",
    "from sklearn.linear_model import LinearRegression\n",
    "import pandas as pd\n",
    "from sklearn.model_selection import train_test_split"
   ]
  },
  {
   "cell_type": "code",
   "execution_count": 4,
   "metadata": {},
   "outputs": [],
   "source": [
    "df = pd.read_csv('coin_Cardano.csv',header=0, parse_dates=[0])"
   ]
  },
  {
   "cell_type": "code",
   "execution_count": 5,
   "metadata": {},
   "outputs": [
    {
     "data": {
      "text/html": [
       "<div>\n",
       "<style scoped>\n",
       "    .dataframe tbody tr th:only-of-type {\n",
       "        vertical-align: middle;\n",
       "    }\n",
       "\n",
       "    .dataframe tbody tr th {\n",
       "        vertical-align: top;\n",
       "    }\n",
       "\n",
       "    .dataframe thead th {\n",
       "        text-align: right;\n",
       "    }\n",
       "</style>\n",
       "<table border=\"1\" class=\"dataframe\">\n",
       "  <thead>\n",
       "    <tr style=\"text-align: right;\">\n",
       "      <th></th>\n",
       "      <th>SNo</th>\n",
       "      <th>Name</th>\n",
       "      <th>Symbol</th>\n",
       "      <th>Date</th>\n",
       "      <th>High</th>\n",
       "      <th>Low</th>\n",
       "      <th>Open</th>\n",
       "      <th>Close</th>\n",
       "      <th>Volume</th>\n",
       "      <th>Marketcap</th>\n",
       "    </tr>\n",
       "  </thead>\n",
       "  <tbody>\n",
       "    <tr>\n",
       "      <th>0</th>\n",
       "      <td>1</td>\n",
       "      <td>Cardano</td>\n",
       "      <td>ADA</td>\n",
       "      <td>2017-10-02 23:59:59</td>\n",
       "      <td>0.030088</td>\n",
       "      <td>0.019969</td>\n",
       "      <td>0.024607</td>\n",
       "      <td>0.025932</td>\n",
       "      <td>57641300.0</td>\n",
       "      <td>6.288991e+08</td>\n",
       "    </tr>\n",
       "    <tr>\n",
       "      <th>1</th>\n",
       "      <td>2</td>\n",
       "      <td>Cardano</td>\n",
       "      <td>ADA</td>\n",
       "      <td>2017-10-03 23:59:59</td>\n",
       "      <td>0.027425</td>\n",
       "      <td>0.020690</td>\n",
       "      <td>0.025757</td>\n",
       "      <td>0.020816</td>\n",
       "      <td>16997800.0</td>\n",
       "      <td>5.396927e+08</td>\n",
       "    </tr>\n",
       "    <tr>\n",
       "      <th>2</th>\n",
       "      <td>3</td>\n",
       "      <td>Cardano</td>\n",
       "      <td>ADA</td>\n",
       "      <td>2017-10-04 23:59:59</td>\n",
       "      <td>0.022806</td>\n",
       "      <td>0.020864</td>\n",
       "      <td>0.020864</td>\n",
       "      <td>0.021931</td>\n",
       "      <td>9000050.0</td>\n",
       "      <td>5.686195e+08</td>\n",
       "    </tr>\n",
       "    <tr>\n",
       "      <th>3</th>\n",
       "      <td>4</td>\n",
       "      <td>Cardano</td>\n",
       "      <td>ADA</td>\n",
       "      <td>2017-10-05 23:59:59</td>\n",
       "      <td>0.022154</td>\n",
       "      <td>0.020859</td>\n",
       "      <td>0.021951</td>\n",
       "      <td>0.021489</td>\n",
       "      <td>5562510.0</td>\n",
       "      <td>5.571390e+08</td>\n",
       "    </tr>\n",
       "    <tr>\n",
       "      <th>4</th>\n",
       "      <td>5</td>\n",
       "      <td>Cardano</td>\n",
       "      <td>ADA</td>\n",
       "      <td>2017-10-06 23:59:59</td>\n",
       "      <td>0.021542</td>\n",
       "      <td>0.018360</td>\n",
       "      <td>0.021359</td>\n",
       "      <td>0.018539</td>\n",
       "      <td>7780710.0</td>\n",
       "      <td>4.806646e+08</td>\n",
       "    </tr>\n",
       "  </tbody>\n",
       "</table>\n",
       "</div>"
      ],
      "text/plain": [
       "  SNo     Name Symbol                 Date      High       Low      Open  \\\n",
       "0   1  Cardano    ADA  2017-10-02 23:59:59  0.030088  0.019969  0.024607   \n",
       "1   2  Cardano    ADA  2017-10-03 23:59:59  0.027425  0.020690  0.025757   \n",
       "2   3  Cardano    ADA  2017-10-04 23:59:59  0.022806  0.020864  0.020864   \n",
       "3   4  Cardano    ADA  2017-10-05 23:59:59  0.022154  0.020859  0.021951   \n",
       "4   5  Cardano    ADA  2017-10-06 23:59:59  0.021542  0.018360  0.021359   \n",
       "\n",
       "      Close      Volume     Marketcap  \n",
       "0  0.025932  57641300.0  6.288991e+08  \n",
       "1  0.020816  16997800.0  5.396927e+08  \n",
       "2  0.021931   9000050.0  5.686195e+08  \n",
       "3  0.021489   5562510.0  5.571390e+08  \n",
       "4  0.018539   7780710.0  4.806646e+08  "
      ]
     },
     "execution_count": 5,
     "metadata": {},
     "output_type": "execute_result"
    }
   ],
   "source": [
    "df.head()"
   ]
  },
  {
   "cell_type": "code",
   "execution_count": 6,
   "metadata": {},
   "outputs": [],
   "source": [
    "df['Date'] = pd.to_datetime(df['Date'])\n",
    "df.set_index('Date', inplace=True)"
   ]
  },
  {
   "cell_type": "code",
   "execution_count": 7,
   "metadata": {},
   "outputs": [],
   "source": [
    "df = df[['Close']]"
   ]
  },
  {
   "cell_type": "code",
   "execution_count": 8,
   "metadata": {},
   "outputs": [
    {
     "data": {
      "text/html": [
       "<div>\n",
       "<style scoped>\n",
       "    .dataframe tbody tr th:only-of-type {\n",
       "        vertical-align: middle;\n",
       "    }\n",
       "\n",
       "    .dataframe tbody tr th {\n",
       "        vertical-align: top;\n",
       "    }\n",
       "\n",
       "    .dataframe thead th {\n",
       "        text-align: right;\n",
       "    }\n",
       "</style>\n",
       "<table border=\"1\" class=\"dataframe\">\n",
       "  <thead>\n",
       "    <tr style=\"text-align: right;\">\n",
       "      <th></th>\n",
       "      <th>Close</th>\n",
       "    </tr>\n",
       "    <tr>\n",
       "      <th>Date</th>\n",
       "      <th></th>\n",
       "    </tr>\n",
       "  </thead>\n",
       "  <tbody>\n",
       "    <tr>\n",
       "      <th>2017-10-02 23:59:59</th>\n",
       "      <td>0.025932</td>\n",
       "    </tr>\n",
       "    <tr>\n",
       "      <th>2017-10-03 23:59:59</th>\n",
       "      <td>0.020816</td>\n",
       "    </tr>\n",
       "    <tr>\n",
       "      <th>2017-10-04 23:59:59</th>\n",
       "      <td>0.021931</td>\n",
       "    </tr>\n",
       "    <tr>\n",
       "      <th>2017-10-05 23:59:59</th>\n",
       "      <td>0.021489</td>\n",
       "    </tr>\n",
       "    <tr>\n",
       "      <th>2017-10-06 23:59:59</th>\n",
       "      <td>0.018539</td>\n",
       "    </tr>\n",
       "  </tbody>\n",
       "</table>\n",
       "</div>"
      ],
      "text/plain": [
       "                        Close\n",
       "Date                         \n",
       "2017-10-02 23:59:59  0.025932\n",
       "2017-10-03 23:59:59  0.020816\n",
       "2017-10-04 23:59:59  0.021931\n",
       "2017-10-05 23:59:59  0.021489\n",
       "2017-10-06 23:59:59  0.018539"
      ]
     },
     "execution_count": 8,
     "metadata": {},
     "output_type": "execute_result"
    }
   ],
   "source": [
    "df.head()"
   ]
  },
  {
   "cell_type": "code",
   "execution_count": 24,
   "metadata": {},
   "outputs": [
    {
     "name": "stdout",
     "output_type": "stream",
     "text": [
      "                        Close  Prediction\n",
      "Date                                     \n",
      "2021-02-23 23:59:59  0.954709    1.079116\n",
      "2021-02-24 23:59:59  1.051657    1.241105\n",
      "2021-02-25 23:59:59  1.079116    1.324860\n",
      "2021-02-26 23:59:59  1.241105         NaN\n",
      "2021-02-27 23:59:59  1.324860         NaN\n"
     ]
    }
   ],
   "source": [
    "# a variablle for predicting 'n' days out into the future\n",
    "forecast_out = 2 \n",
    "#create another column (the target) shifted 'n' units up \n",
    "df['Prediction'] = df['Close'].shift(-forecast_out)\n",
    "print(df.tail())"
   ]
  },
  {
   "cell_type": "code",
   "execution_count": 25,
   "metadata": {},
   "outputs": [
    {
     "name": "stdout",
     "output_type": "stream",
     "text": [
      "[[0.0259318 ]\n",
      " [0.0208158 ]\n",
      " [0.0219315 ]\n",
      " ...\n",
      " [0.95470914]\n",
      " [1.05165663]\n",
      " [1.0791162 ]]\n"
     ]
    }
   ],
   "source": [
    "#creating the independend data set (X)\n",
    "#convert dataframe to a numpy array\n",
    "X = np.array(df.drop(['Prediction'],1))\n",
    "#remove last '2' rows\n",
    "X = X[:-forecast_out]\n",
    "print(X)"
   ]
  },
  {
   "cell_type": "code",
   "execution_count": 28,
   "metadata": {},
   "outputs": [
    {
     "name": "stdout",
     "output_type": "stream",
     "text": [
      "[0.0219315  0.0214887  0.0185391  ... 1.0791162  1.24110539 1.32486029]\n"
     ]
    }
   ],
   "source": [
    "#create the dependent data set (y)\n",
    "y = np.array(df['Prediction'])\n",
    "y = y[:-forecast_out]\n",
    "print(y)"
   ]
  },
  {
   "cell_type": "code",
   "execution_count": 30,
   "metadata": {},
   "outputs": [],
   "source": [
    "x_train, x_test, y_train, y_test = train_test_split(X, y, test_size=0.2)"
   ]
  },
  {
   "cell_type": "code",
   "execution_count": 32,
   "metadata": {},
   "outputs": [
    {
     "data": {
      "text/plain": [
       "SVR(C=1000.0, gamma=0.1)"
      ]
     },
     "execution_count": 32,
     "metadata": {},
     "output_type": "execute_result"
    }
   ],
   "source": [
    "#create and train SVM\n",
    "svr = SVR(kernel='rbf', C=1e3, gamma=0.1)\n",
    "svr.fit(x_train, y_train)"
   ]
  },
  {
   "cell_type": "code",
   "execution_count": 33,
   "metadata": {},
   "outputs": [
    {
     "name": "stdout",
     "output_type": "stream",
     "text": [
      "svm confidence:  0.9248331591256465\n"
     ]
    }
   ],
   "source": [
    "#testing model\n",
    "svm_confidence = svr.score(x_test, y_test)\n",
    "print('svm confidence: ', svm_confidence )"
   ]
  },
  {
   "cell_type": "code",
   "execution_count": 37,
   "metadata": {},
   "outputs": [
    {
     "data": {
      "text/plain": [
       "LinearRegression()"
      ]
     },
     "execution_count": 37,
     "metadata": {},
     "output_type": "execute_result"
    }
   ],
   "source": [
    "lr = LinearRegression()\n",
    "lr.fit(x_train, y_train)"
   ]
  },
  {
   "cell_type": "code",
   "execution_count": 38,
   "metadata": {},
   "outputs": [
    {
     "name": "stdout",
     "output_type": "stream",
     "text": [
      "lr_confidence:  0.9625443419944493\n"
     ]
    }
   ],
   "source": [
    "lr_confidence = lr.score(x_test, y_test)\n",
    "print('lr_confidence: ', lr_confidence )"
   ]
  },
  {
   "cell_type": "code",
   "execution_count": 44,
   "metadata": {},
   "outputs": [
    {
     "name": "stdout",
     "output_type": "stream",
     "text": [
      "[[1.24110539]\n",
      " [1.32486029]]\n"
     ]
    }
   ],
   "source": [
    "# set x_forecast equal to the last 2 rows of the original data set from Close column\n",
    "x_forecast = np.array(df.drop(['Prediction'],1))[-forecast_out:]\n",
    "print(x_forecast)"
   ]
  },
  {
   "cell_type": "code",
   "execution_count": 45,
   "metadata": {},
   "outputs": [
    {
     "name": "stdout",
     "output_type": "stream",
     "text": [
      "[1.28336252 1.37012558]\n"
     ]
    }
   ],
   "source": [
    "# print lr model prediction for the next 2 days\n",
    "lr_prediction = lr.predict(x_forecast)\n",
    "print(lr_prediction)"
   ]
  },
  {
   "cell_type": "code",
   "execution_count": 47,
   "metadata": {},
   "outputs": [
    {
     "name": "stdout",
     "output_type": "stream",
     "text": [
      "[1.14292813 1.18713122]\n"
     ]
    }
   ],
   "source": [
    "# print svm model prediction for the next 2 days\n",
    "svm_prediction = svr.predict(x_forecast)\n",
    "print(svm_prediction)"
   ]
  },
  {
   "cell_type": "code",
   "execution_count": null,
   "metadata": {},
   "outputs": [],
   "source": []
  }
 ],
 "metadata": {
  "kernelspec": {
   "display_name": "Python 3",
   "language": "python",
   "name": "python3"
  },
  "language_info": {
   "codemirror_mode": {
    "name": "ipython",
    "version": 3
   },
   "file_extension": ".py",
   "mimetype": "text/x-python",
   "name": "python",
   "nbconvert_exporter": "python",
   "pygments_lexer": "ipython3",
   "version": "3.8.3"
  }
 },
 "nbformat": 4,
 "nbformat_minor": 4
}
