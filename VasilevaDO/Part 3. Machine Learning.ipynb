{
 "cells": [
  {
   "cell_type": "markdown",
   "metadata": {},
   "source": [
    "# Part 3. Machine Learning\n"
   ]
  },
  {
   "cell_type": "markdown",
   "metadata": {},
   "source": [
    "## Import libraries"
   ]
  },
  {
   "cell_type": "code",
   "execution_count": 19,
   "metadata": {},
   "outputs": [],
   "source": [
    "import os\n",
    "import pandas as pd\n",
    "import matplotlib.pyplot as plt\n",
    "import matplotlib.patches as patches\n",
    "import seaborn as sns\n",
    "import warnings\n",
    "import numpy as np\n",
    "from numpy import array\n",
    "warnings.filterwarnings('ignore')"
   ]
  },
  {
   "cell_type": "code",
   "execution_count": 2,
   "metadata": {},
   "outputs": [],
   "source": [
    "import statsmodels.api as sm\n",
    "from statsmodels.tsa.arima_model import ARIMA\n",
    "from statsmodels.tsa.statespace.sarimax import SARIMAX\n",
    "from statsmodels.graphics.tsaplots import plot_pacf, plot_acf\n",
    "from sklearn.metrics import mean_squared_error, confusion_matrix, f1_score, accuracy_score\n",
    "from pandas.plotting import autocorrelation_plot"
   ]
  },
  {
   "cell_type": "code",
   "execution_count": 3,
   "metadata": {},
   "outputs": [],
   "source": [
    "np.random.seed(42)"
   ]
  },
  {
   "cell_type": "markdown",
   "metadata": {},
   "source": [
    "## Data loading"
   ]
  },
  {
   "cell_type": "code",
   "execution_count": 4,
   "metadata": {},
   "outputs": [],
   "source": [
    "bit_data=pd.read_csv('bit_data.csv',header=0, parse_dates=[0])"
   ]
  },
  {
   "cell_type": "code",
   "execution_count": 6,
   "metadata": {},
   "outputs": [],
   "source": [
    "bit_data['Date'] = pd.to_datetime(bit_data['Date'])\n",
    "bit_data.set_index('Date', inplace=True)"
   ]
  },
  {
   "cell_type": "code",
   "execution_count": 7,
   "metadata": {},
   "outputs": [
    {
     "data": {
      "text/html": [
       "<div>\n",
       "<style scoped>\n",
       "    .dataframe tbody tr th:only-of-type {\n",
       "        vertical-align: middle;\n",
       "    }\n",
       "\n",
       "    .dataframe tbody tr th {\n",
       "        vertical-align: top;\n",
       "    }\n",
       "\n",
       "    .dataframe thead th {\n",
       "        text-align: right;\n",
       "    }\n",
       "</style>\n",
       "<table border=\"1\" class=\"dataframe\">\n",
       "  <thead>\n",
       "    <tr style=\"text-align: right;\">\n",
       "      <th></th>\n",
       "      <th>Name</th>\n",
       "      <th>Symbol</th>\n",
       "      <th>High</th>\n",
       "      <th>Low</th>\n",
       "      <th>Open</th>\n",
       "      <th>Close</th>\n",
       "      <th>Volume</th>\n",
       "      <th>Marketcap</th>\n",
       "      <th>Return</th>\n",
       "      <th>Change</th>\n",
       "      <th>Volatility</th>\n",
       "      <th>MA7</th>\n",
       "      <th>MA21</th>\n",
       "      <th>Momentum</th>\n",
       "      <th>MACD</th>\n",
       "      <th>Signal</th>\n",
       "      <th>Upper_band</th>\n",
       "      <th>Lower_band</th>\n",
       "    </tr>\n",
       "    <tr>\n",
       "      <th>Date</th>\n",
       "      <th></th>\n",
       "      <th></th>\n",
       "      <th></th>\n",
       "      <th></th>\n",
       "      <th></th>\n",
       "      <th></th>\n",
       "      <th></th>\n",
       "      <th></th>\n",
       "      <th></th>\n",
       "      <th></th>\n",
       "      <th></th>\n",
       "      <th></th>\n",
       "      <th></th>\n",
       "      <th></th>\n",
       "      <th></th>\n",
       "      <th></th>\n",
       "      <th></th>\n",
       "      <th></th>\n",
       "    </tr>\n",
       "  </thead>\n",
       "  <tbody>\n",
       "    <tr>\n",
       "      <th>2013-05-19 23:59:59</th>\n",
       "      <td>Bitcoin</td>\n",
       "      <td>BTC</td>\n",
       "      <td>124.500000</td>\n",
       "      <td>119.570999</td>\n",
       "      <td>123.210999</td>\n",
       "      <td>121.989998</td>\n",
       "      <td>0.0</td>\n",
       "      <td>1.363205e+09</td>\n",
       "      <td>-0.010</td>\n",
       "      <td>-1.508003</td>\n",
       "      <td>8.471155</td>\n",
       "      <td>118.709001</td>\n",
       "      <td>117.159143</td>\n",
       "      <td>115.760002</td>\n",
       "      <td>-3.645462</td>\n",
       "      <td>-5.658709</td>\n",
       "      <td>137.200466</td>\n",
       "      <td>97.117819</td>\n",
       "    </tr>\n",
       "    <tr>\n",
       "      <th>2013-05-20 23:59:59</th>\n",
       "      <td>Bitcoin</td>\n",
       "      <td>BTC</td>\n",
       "      <td>123.621002</td>\n",
       "      <td>120.120003</td>\n",
       "      <td>122.500000</td>\n",
       "      <td>122.000000</td>\n",
       "      <td>0.0</td>\n",
       "      <td>1.363710e+09</td>\n",
       "      <td>-0.004</td>\n",
       "      <td>0.010002</td>\n",
       "      <td>8.256357</td>\n",
       "      <td>119.283286</td>\n",
       "      <td>116.085810</td>\n",
       "      <td>120.014999</td>\n",
       "      <td>-3.142245</td>\n",
       "      <td>-5.155416</td>\n",
       "      <td>131.946473</td>\n",
       "      <td>100.225146</td>\n",
       "    </tr>\n",
       "    <tr>\n",
       "      <th>2013-05-21 23:59:59</th>\n",
       "      <td>Bitcoin</td>\n",
       "      <td>BTC</td>\n",
       "      <td>123.000000</td>\n",
       "      <td>121.209999</td>\n",
       "      <td>122.019997</td>\n",
       "      <td>122.879997</td>\n",
       "      <td>0.0</td>\n",
       "      <td>1.374013e+09</td>\n",
       "      <td>0.007</td>\n",
       "      <td>0.879997</td>\n",
       "      <td>8.080808</td>\n",
       "      <td>120.909000</td>\n",
       "      <td>115.318190</td>\n",
       "      <td>120.498001</td>\n",
       "      <td>-2.641979</td>\n",
       "      <td>-4.652728</td>\n",
       "      <td>127.699871</td>\n",
       "      <td>102.936510</td>\n",
       "    </tr>\n",
       "    <tr>\n",
       "      <th>2013-05-22 23:59:59</th>\n",
       "      <td>Bitcoin</td>\n",
       "      <td>BTC</td>\n",
       "      <td>124.000999</td>\n",
       "      <td>122.000000</td>\n",
       "      <td>122.889999</td>\n",
       "      <td>123.889000</td>\n",
       "      <td>0.0</td>\n",
       "      <td>1.385779e+09</td>\n",
       "      <td>0.008</td>\n",
       "      <td>1.009003</td>\n",
       "      <td>7.948854</td>\n",
       "      <td>122.290285</td>\n",
       "      <td>115.646714</td>\n",
       "      <td>118.989998</td>\n",
       "      <td>-2.139434</td>\n",
       "      <td>-4.150069</td>\n",
       "      <td>128.569000</td>\n",
       "      <td>102.724428</td>\n",
       "    </tr>\n",
       "    <tr>\n",
       "      <th>2013-05-23 23:59:59</th>\n",
       "      <td>Bitcoin</td>\n",
       "      <td>BTC</td>\n",
       "      <td>126.933998</td>\n",
       "      <td>123.099998</td>\n",
       "      <td>123.800003</td>\n",
       "      <td>126.699997</td>\n",
       "      <td>0.0</td>\n",
       "      <td>1.417770e+09</td>\n",
       "      <td>0.023</td>\n",
       "      <td>2.810997</td>\n",
       "      <td>7.969404</td>\n",
       "      <td>123.424570</td>\n",
       "      <td>116.670048</td>\n",
       "      <td>119.000000</td>\n",
       "      <td>-1.497082</td>\n",
       "      <td>-3.619472</td>\n",
       "      <td>129.524510</td>\n",
       "      <td>103.815585</td>\n",
       "    </tr>\n",
       "  </tbody>\n",
       "</table>\n",
       "</div>"
      ],
      "text/plain": [
       "                        Name Symbol        High         Low        Open  \\\n",
       "Date                                                                      \n",
       "2013-05-19 23:59:59  Bitcoin    BTC  124.500000  119.570999  123.210999   \n",
       "2013-05-20 23:59:59  Bitcoin    BTC  123.621002  120.120003  122.500000   \n",
       "2013-05-21 23:59:59  Bitcoin    BTC  123.000000  121.209999  122.019997   \n",
       "2013-05-22 23:59:59  Bitcoin    BTC  124.000999  122.000000  122.889999   \n",
       "2013-05-23 23:59:59  Bitcoin    BTC  126.933998  123.099998  123.800003   \n",
       "\n",
       "                          Close  Volume     Marketcap  Return    Change  \\\n",
       "Date                                                                      \n",
       "2013-05-19 23:59:59  121.989998     0.0  1.363205e+09  -0.010 -1.508003   \n",
       "2013-05-20 23:59:59  122.000000     0.0  1.363710e+09  -0.004  0.010002   \n",
       "2013-05-21 23:59:59  122.879997     0.0  1.374013e+09   0.007  0.879997   \n",
       "2013-05-22 23:59:59  123.889000     0.0  1.385779e+09   0.008  1.009003   \n",
       "2013-05-23 23:59:59  126.699997     0.0  1.417770e+09   0.023  2.810997   \n",
       "\n",
       "                     Volatility         MA7        MA21    Momentum      MACD  \\\n",
       "Date                                                                            \n",
       "2013-05-19 23:59:59    8.471155  118.709001  117.159143  115.760002 -3.645462   \n",
       "2013-05-20 23:59:59    8.256357  119.283286  116.085810  120.014999 -3.142245   \n",
       "2013-05-21 23:59:59    8.080808  120.909000  115.318190  120.498001 -2.641979   \n",
       "2013-05-22 23:59:59    7.948854  122.290285  115.646714  118.989998 -2.139434   \n",
       "2013-05-23 23:59:59    7.969404  123.424570  116.670048  119.000000 -1.497082   \n",
       "\n",
       "                       Signal  Upper_band  Lower_band  \n",
       "Date                                                   \n",
       "2013-05-19 23:59:59 -5.658709  137.200466   97.117819  \n",
       "2013-05-20 23:59:59 -5.155416  131.946473  100.225146  \n",
       "2013-05-21 23:59:59 -4.652728  127.699871  102.936510  \n",
       "2013-05-22 23:59:59 -4.150069  128.569000  102.724428  \n",
       "2013-05-23 23:59:59 -3.619472  129.524510  103.815585  "
      ]
     },
     "execution_count": 7,
     "metadata": {},
     "output_type": "execute_result"
    }
   ],
   "source": [
    "bit_data.head()"
   ]
  },
  {
   "cell_type": "markdown",
   "metadata": {},
   "source": [
    "## 1. ARIMA\n"
   ]
  },
  {
   "cell_type": "markdown",
   "metadata": {},
   "source": [
    "AutoRegressive Integrated Moving Average (ARIMA) is a model that captures a suite of different standard temporal structures in time series data.\n",
    "\n",
    "p: The number of lag observations included in the model, also called the lag order.\n",
    "\n",
    "d: The number of times that the raw observations are differenced, also called the degree of differencing.\n",
    "\n",
    "q: The size of the moving average window, also called the order of moving average.\n",
    "\n",
    "We will split train and test data to evaluate performance of ARIMA model."
   ]
  },
  {
   "cell_type": "code",
   "execution_count": 14,
   "metadata": {},
   "outputs": [
    {
     "name": "stdout",
     "output_type": "stream",
     "text": [
      "Bitcoin historical data contains 2842 entries\n"
     ]
    },
    {
     "data": {
      "text/html": [
       "<div>\n",
       "<style scoped>\n",
       "    .dataframe tbody tr th:only-of-type {\n",
       "        vertical-align: middle;\n",
       "    }\n",
       "\n",
       "    .dataframe tbody tr th {\n",
       "        vertical-align: top;\n",
       "    }\n",
       "\n",
       "    .dataframe thead th {\n",
       "        text-align: right;\n",
       "    }\n",
       "</style>\n",
       "<table border=\"1\" class=\"dataframe\">\n",
       "  <thead>\n",
       "    <tr style=\"text-align: right;\">\n",
       "      <th></th>\n",
       "      <th>Return</th>\n",
       "    </tr>\n",
       "    <tr>\n",
       "      <th>Date</th>\n",
       "      <th></th>\n",
       "    </tr>\n",
       "  </thead>\n",
       "  <tbody>\n",
       "    <tr>\n",
       "      <th>2013-05-19 23:59:59</th>\n",
       "      <td>-0.010</td>\n",
       "    </tr>\n",
       "    <tr>\n",
       "      <th>2013-05-20 23:59:59</th>\n",
       "      <td>-0.004</td>\n",
       "    </tr>\n",
       "    <tr>\n",
       "      <th>2013-05-21 23:59:59</th>\n",
       "      <td>0.007</td>\n",
       "    </tr>\n",
       "    <tr>\n",
       "      <th>2013-05-22 23:59:59</th>\n",
       "      <td>0.008</td>\n",
       "    </tr>\n",
       "    <tr>\n",
       "      <th>2013-05-23 23:59:59</th>\n",
       "      <td>0.023</td>\n",
       "    </tr>\n",
       "  </tbody>\n",
       "</table>\n",
       "</div>"
      ],
      "text/plain": [
       "                     Return\n",
       "Date                       \n",
       "2013-05-19 23:59:59  -0.010\n",
       "2013-05-20 23:59:59  -0.004\n",
       "2013-05-21 23:59:59   0.007\n",
       "2013-05-22 23:59:59   0.008\n",
       "2013-05-23 23:59:59   0.023"
      ]
     },
     "execution_count": 14,
     "metadata": {},
     "output_type": "execute_result"
    }
   ],
   "source": [
    "print('Bitcoin historical data contains {} entries'.format(bit_data.shape[0]))\n",
    "bit_data[['Return']].head()"
   ]
  },
  {
   "cell_type": "markdown",
   "metadata": {},
   "source": [
    "## Autocorrelation"
   ]
  },
  {
   "cell_type": "code",
   "execution_count": 17,
   "metadata": {},
   "outputs": [
    {
     "data": {
      "image/png": "[encoded data removed]",
      "text/plain": [
       "<Figure size 1152x216 with 1 Axes>"
      ]
     },
     "metadata": {
      "needs_background": "light"
     },
     "output_type": "display_data"
    }
   ],
   "source": [
    "plt.rcParams['figure.figsize'] = (16, 3)\n",
    "plot_acf(bit_data.Return, lags=range(300))\n",
    "plt.show()"
   ]
  },
  {
   "cell_type": "markdown",
   "metadata": {},
   "source": [
    "Let's take a look at the Autocorrelation Function. The graph shows how time series data points correlate between each other. We should ignore first value in the graph that shows perfect correlation (value = 1), because it tells how data point is correlated to itself. What's important in this graph is how first data point is correlated to second, third and so on. We can see that it's so weak, it's close to zero. What does it mean to our analysis? It means that ARIMA is pretty much useless here, because it uses previous data points to predict following."
   ]
  },
  {
   "cell_type": "markdown",
   "metadata": {},
   "source": [
    "To make a conclusion we're going to try different orders and see how well they perform on a given data"
   ]
  },
  {
   "cell_type": "code",
   "execution_count": 21,
   "metadata": {},
   "outputs": [
    {
     "name": "stdout",
     "output_type": "stream",
     "text": [
      "(0, 0, 0) <== Wrong Order\n",
      "(1, 0, 0) <== Wrong Order\n",
      "(0, 1, 0) <== Wrong Order\n",
      "(0, 0, 1) <== Wrong Order\n",
      "(1, 1, 0) <== Wrong Order\n"
     ]
    }
   ],
   "source": [
    "# ARIMA orders\n",
    "orders = [(0,0,0),(1,0,0),(0,1,0),(0,0,1),(1,1,0)]\n",
    "\n",
    "# Splitting into train and test sets\n",
    "train = list(bit_data['Return'][1000:1900].values)\n",
    "test = list(bit_data['Return'][1900:2800].values)\n",
    "\n",
    "all_predictions = {}\n",
    "\n",
    "for order in orders:\n",
    "    \n",
    "    try:\n",
    "        # History will contain original train set, \n",
    "        # but with each iteration we will add one datapoint\n",
    "        # from the test set as we continue prediction\n",
    "        history = train.copy()\n",
    "        order_predictions = []\n",
    "        \n",
    "        for i in range(len(test)):\n",
    "            \n",
    "            model = ARIMA(history, order=order) # defining ARIMA model\n",
    "            model_fit = model.fit(disp=0) # fitting model\n",
    "            y_hat = model_fit.forecast() # predicting 'return'\n",
    "            order_predictions.append(y_hat[0][0]) # first element ([0][0]) is a prediction\n",
    "            history.append(test[i]) # simply adding following day 'return' value to the model    \n",
    "            print('Prediction: {} of {}'.format(i+1,len(test)), end='\\r')\n",
    "        \n",
    "        accuracy = accuracy_score( \n",
    "            functions.binary(test), \n",
    "            functions.binary(order_predictions) \n",
    "        )        \n",
    "        print('                             ', end='\\r')\n",
    "        print('{} - {:.1f}% accuracy'.format(order, round(accuracy, 3)*100), end='\\n')\n",
    "        all_predictions[order] = order_predictions\n",
    "    \n",
    "    except:\n",
    "        print(order, '<== Wrong Order', end='\\n')\n",
    "        pass"
   ]
  },
  {
   "cell_type": "code",
   "execution_count": null,
   "metadata": {},
   "outputs": [],
   "source": []
  }
 ],
 "metadata": {
  "kernelspec": {
   "display_name": "Python 3",
   "language": "python",
   "name": "python3"
  },
  "language_info": {
   "codemirror_mode": {
    "name": "ipython",
    "version": 3
   },
   "file_extension": ".py",
   "mimetype": "text/x-python",
   "name": "python",
   "nbconvert_exporter": "python",
   "pygments_lexer": "ipython3",
   "version": "3.8.3"
  }
 },
 "nbformat": 4,
 "nbformat_minor": 4
}
