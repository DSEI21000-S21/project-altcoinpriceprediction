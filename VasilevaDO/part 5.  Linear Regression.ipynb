{
 "cells": [
  {
   "cell_type": "code",
   "execution_count": 184,
   "metadata": {},
   "outputs": [],
   "source": [
    "import numpy as np \n",
    "from sklearn.linear_model import LinearRegression\n",
    "import pandas as pd\n",
    "from sklearn.model_selection import train_test_split\n",
    "import matplotlib.pyplot as plt\n",
    "import seaborn as sns\n",
    "from statsmodels.tsa.ar_model import AutoReg\n",
    "import matplotlib.dates as mdates\n",
    "import datetime\n",
    "from sklearn.metrics import mean_squared_error\n"
   ]
  },
  {
   "cell_type": "code",
   "execution_count": 162,
   "metadata": {},
   "outputs": [],
   "source": [
    "df = pd.read_csv('coin_Cardano.csv',header=0, parse_dates=[0])"
   ]
  },
  {
   "cell_type": "code",
   "execution_count": 163,
   "metadata": {},
   "outputs": [
    {
     "data": {
      "text/html": [
       "<div>\n",
       "<style scoped>\n",
       "    .dataframe tbody tr th:only-of-type {\n",
       "        vertical-align: middle;\n",
       "    }\n",
       "\n",
       "    .dataframe tbody tr th {\n",
       "        vertical-align: top;\n",
       "    }\n",
       "\n",
       "    .dataframe thead th {\n",
       "        text-align: right;\n",
       "    }\n",
       "</style>\n",
       "<table border=\"1\" class=\"dataframe\">\n",
       "  <thead>\n",
       "    <tr style=\"text-align: right;\">\n",
       "      <th></th>\n",
       "      <th>SNo</th>\n",
       "      <th>Name</th>\n",
       "      <th>Symbol</th>\n",
       "      <th>Date</th>\n",
       "      <th>High</th>\n",
       "      <th>Low</th>\n",
       "      <th>Open</th>\n",
       "      <th>Close</th>\n",
       "      <th>Volume</th>\n",
       "      <th>Marketcap</th>\n",
       "    </tr>\n",
       "  </thead>\n",
       "  <tbody>\n",
       "    <tr>\n",
       "      <th>0</th>\n",
       "      <td>1</td>\n",
       "      <td>Cardano</td>\n",
       "      <td>ADA</td>\n",
       "      <td>2017-10-02 23:59:59</td>\n",
       "      <td>0.030088</td>\n",
       "      <td>0.019969</td>\n",
       "      <td>0.024607</td>\n",
       "      <td>0.025932</td>\n",
       "      <td>57641300.0</td>\n",
       "      <td>6.288991e+08</td>\n",
       "    </tr>\n",
       "    <tr>\n",
       "      <th>1</th>\n",
       "      <td>2</td>\n",
       "      <td>Cardano</td>\n",
       "      <td>ADA</td>\n",
       "      <td>2017-10-03 23:59:59</td>\n",
       "      <td>0.027425</td>\n",
       "      <td>0.020690</td>\n",
       "      <td>0.025757</td>\n",
       "      <td>0.020816</td>\n",
       "      <td>16997800.0</td>\n",
       "      <td>5.396927e+08</td>\n",
       "    </tr>\n",
       "    <tr>\n",
       "      <th>2</th>\n",
       "      <td>3</td>\n",
       "      <td>Cardano</td>\n",
       "      <td>ADA</td>\n",
       "      <td>2017-10-04 23:59:59</td>\n",
       "      <td>0.022806</td>\n",
       "      <td>0.020864</td>\n",
       "      <td>0.020864</td>\n",
       "      <td>0.021931</td>\n",
       "      <td>9000050.0</td>\n",
       "      <td>5.686195e+08</td>\n",
       "    </tr>\n",
       "    <tr>\n",
       "      <th>3</th>\n",
       "      <td>4</td>\n",
       "      <td>Cardano</td>\n",
       "      <td>ADA</td>\n",
       "      <td>2017-10-05 23:59:59</td>\n",
       "      <td>0.022154</td>\n",
       "      <td>0.020859</td>\n",
       "      <td>0.021951</td>\n",
       "      <td>0.021489</td>\n",
       "      <td>5562510.0</td>\n",
       "      <td>5.571390e+08</td>\n",
       "    </tr>\n",
       "    <tr>\n",
       "      <th>4</th>\n",
       "      <td>5</td>\n",
       "      <td>Cardano</td>\n",
       "      <td>ADA</td>\n",
       "      <td>2017-10-06 23:59:59</td>\n",
       "      <td>0.021542</td>\n",
       "      <td>0.018360</td>\n",
       "      <td>0.021359</td>\n",
       "      <td>0.018539</td>\n",
       "      <td>7780710.0</td>\n",
       "      <td>4.806646e+08</td>\n",
       "    </tr>\n",
       "  </tbody>\n",
       "</table>\n",
       "</div>"
      ],
      "text/plain": [
       "  SNo     Name Symbol                 Date      High       Low      Open  \\\n",
       "0   1  Cardano    ADA  2017-10-02 23:59:59  0.030088  0.019969  0.024607   \n",
       "1   2  Cardano    ADA  2017-10-03 23:59:59  0.027425  0.020690  0.025757   \n",
       "2   3  Cardano    ADA  2017-10-04 23:59:59  0.022806  0.020864  0.020864   \n",
       "3   4  Cardano    ADA  2017-10-05 23:59:59  0.022154  0.020859  0.021951   \n",
       "4   5  Cardano    ADA  2017-10-06 23:59:59  0.021542  0.018360  0.021359   \n",
       "\n",
       "      Close      Volume     Marketcap  \n",
       "0  0.025932  57641300.0  6.288991e+08  \n",
       "1  0.020816  16997800.0  5.396927e+08  \n",
       "2  0.021931   9000050.0  5.686195e+08  \n",
       "3  0.021489   5562510.0  5.571390e+08  \n",
       "4  0.018539   7780710.0  4.806646e+08  "
      ]
     },
     "execution_count": 163,
     "metadata": {},
     "output_type": "execute_result"
    }
   ],
   "source": [
    "df.head()"
   ]
  },
  {
   "cell_type": "code",
   "execution_count": 164,
   "metadata": {},
   "outputs": [],
   "source": [
    "df['Date'] = pd.to_datetime(df['Date'])\n",
    "df.set_index('Date', inplace=True)"
   ]
  },
  {
   "cell_type": "code",
   "execution_count": 165,
   "metadata": {},
   "outputs": [],
   "source": [
    "df = df[['Close']]"
   ]
  },
  {
   "cell_type": "code",
   "execution_count": 166,
   "metadata": {},
   "outputs": [
    {
     "data": {
      "text/html": [
       "<div>\n",
       "<style scoped>\n",
       "    .dataframe tbody tr th:only-of-type {\n",
       "        vertical-align: middle;\n",
       "    }\n",
       "\n",
       "    .dataframe tbody tr th {\n",
       "        vertical-align: top;\n",
       "    }\n",
       "\n",
       "    .dataframe thead th {\n",
       "        text-align: right;\n",
       "    }\n",
       "</style>\n",
       "<table border=\"1\" class=\"dataframe\">\n",
       "  <thead>\n",
       "    <tr style=\"text-align: right;\">\n",
       "      <th></th>\n",
       "      <th>Close</th>\n",
       "    </tr>\n",
       "    <tr>\n",
       "      <th>Date</th>\n",
       "      <th></th>\n",
       "    </tr>\n",
       "  </thead>\n",
       "  <tbody>\n",
       "    <tr>\n",
       "      <th>2017-10-02 23:59:59</th>\n",
       "      <td>0.025932</td>\n",
       "    </tr>\n",
       "    <tr>\n",
       "      <th>2017-10-03 23:59:59</th>\n",
       "      <td>0.020816</td>\n",
       "    </tr>\n",
       "    <tr>\n",
       "      <th>2017-10-04 23:59:59</th>\n",
       "      <td>0.021931</td>\n",
       "    </tr>\n",
       "    <tr>\n",
       "      <th>2017-10-05 23:59:59</th>\n",
       "      <td>0.021489</td>\n",
       "    </tr>\n",
       "    <tr>\n",
       "      <th>2017-10-06 23:59:59</th>\n",
       "      <td>0.018539</td>\n",
       "    </tr>\n",
       "  </tbody>\n",
       "</table>\n",
       "</div>"
      ],
      "text/plain": [
       "                        Close\n",
       "Date                         \n",
       "2017-10-02 23:59:59  0.025932\n",
       "2017-10-03 23:59:59  0.020816\n",
       "2017-10-04 23:59:59  0.021931\n",
       "2017-10-05 23:59:59  0.021489\n",
       "2017-10-06 23:59:59  0.018539"
      ]
     },
     "execution_count": 166,
     "metadata": {},
     "output_type": "execute_result"
    }
   ],
   "source": [
    "df.head()"
   ]
  },
  {
   "cell_type": "code",
   "execution_count": 167,
   "metadata": {},
   "outputs": [
    {
     "name": "stdout",
     "output_type": "stream",
     "text": [
      "                        Close  Prediction\n",
      "Date                                     \n",
      "2021-02-23 23:59:59  0.954709    1.079116\n",
      "2021-02-24 23:59:59  1.051657    1.241105\n",
      "2021-02-25 23:59:59  1.079116    1.324860\n",
      "2021-02-26 23:59:59  1.241105         NaN\n",
      "2021-02-27 23:59:59  1.324860         NaN\n"
     ]
    }
   ],
   "source": [
    "# a variablle for predicting 'n' days out into the future\n",
    "forecast_out = 2 \n",
    "#create another column (the target) shifted 'n' units up \n",
    "df['Prediction'] = df['Close'].shift(-forecast_out)\n",
    "print(df.tail())"
   ]
  },
  {
   "cell_type": "code",
   "execution_count": 168,
   "metadata": {},
   "outputs": [
    {
     "name": "stdout",
     "output_type": "stream",
     "text": [
      "[[0.0259318 ]\n",
      " [0.0208158 ]\n",
      " [0.0219315 ]\n",
      " ...\n",
      " [0.95470914]\n",
      " [1.05165663]\n",
      " [1.0791162 ]]\n"
     ]
    }
   ],
   "source": [
    "#creating the independend data set (X)\n",
    "#convert dataframe to a numpy array\n",
    "X = np.array(df.drop(['Prediction'],1))\n",
    "#remove last '2' rows\n",
    "X = X[:-forecast_out]\n",
    "print(X)"
   ]
  },
  {
   "cell_type": "code",
   "execution_count": 169,
   "metadata": {},
   "outputs": [
    {
     "name": "stdout",
     "output_type": "stream",
     "text": [
      "[0.0219315  0.0214887  0.0185391  ... 1.0791162  1.24110539 1.32486029]\n"
     ]
    }
   ],
   "source": [
    "#create the dependent data set (y)\n",
    "y = np.array(df['Prediction'])\n",
    "y = y[:-forecast_out]\n",
    "print(y)"
   ]
  },
  {
   "cell_type": "code",
   "execution_count": 170,
   "metadata": {},
   "outputs": [],
   "source": [
    "x_train, x_test, y_train, y_test = train_test_split(X, y, test_size=0.2)"
   ]
  },
  {
   "cell_type": "code",
   "execution_count": 171,
   "metadata": {},
   "outputs": [
    {
     "data": {
      "text/plain": [
       "LinearRegression()"
      ]
     },
     "execution_count": 171,
     "metadata": {},
     "output_type": "execute_result"
    }
   ],
   "source": [
    "lr = LinearRegression()\n",
    "lr.fit(x_train, y_train)"
   ]
  },
  {
   "cell_type": "code",
   "execution_count": 172,
   "metadata": {},
   "outputs": [
    {
     "name": "stdout",
     "output_type": "stream",
     "text": [
      "lr_confidence:  0.9521854231708676\n"
     ]
    }
   ],
   "source": [
    "lr_confidence = lr.score(x_test, y_test)\n",
    "print('lr_confidence: ', lr_confidence )"
   ]
  },
  {
   "cell_type": "code",
   "execution_count": 173,
   "metadata": {},
   "outputs": [
    {
     "name": "stdout",
     "output_type": "stream",
     "text": [
      "[[1.24110539]\n",
      " [1.32486029]]\n"
     ]
    }
   ],
   "source": [
    "# set x_forecast equal to the last 2 rows of the original data set from Close column\n",
    "x_forecast = np.array(df.drop(['Prediction'],1))[-forecast_out:]\n",
    "print(x_forecast)"
   ]
  },
  {
   "cell_type": "code",
   "execution_count": 174,
   "metadata": {},
   "outputs": [
    {
     "name": "stdout",
     "output_type": "stream",
     "text": [
      "[1.25579087 1.3405315 ]\n"
     ]
    }
   ],
   "source": [
    "# print lr model prediction for the next  days\n",
    "lr_prediction = lr.predict(x_forecast)\n",
    "print(lr_prediction)"
   ]
  },
  {
   "cell_type": "code",
   "execution_count": 175,
   "metadata": {},
   "outputs": [
    {
     "data": {
      "text/html": [
       "<div>\n",
       "<style scoped>\n",
       "    .dataframe tbody tr th:only-of-type {\n",
       "        vertical-align: middle;\n",
       "    }\n",
       "\n",
       "    .dataframe tbody tr th {\n",
       "        vertical-align: top;\n",
       "    }\n",
       "\n",
       "    .dataframe thead th {\n",
       "        text-align: right;\n",
       "    }\n",
       "</style>\n",
       "<table border=\"1\" class=\"dataframe\">\n",
       "  <thead>\n",
       "    <tr style=\"text-align: right;\">\n",
       "      <th></th>\n",
       "      <th>Close</th>\n",
       "      <th>Prediction</th>\n",
       "    </tr>\n",
       "    <tr>\n",
       "      <th>Date</th>\n",
       "      <th></th>\n",
       "      <th></th>\n",
       "    </tr>\n",
       "  </thead>\n",
       "  <tbody>\n",
       "    <tr>\n",
       "      <th>2017-10-02 23:59:59</th>\n",
       "      <td>0.025932</td>\n",
       "      <td>0.021931</td>\n",
       "    </tr>\n",
       "    <tr>\n",
       "      <th>2017-10-03 23:59:59</th>\n",
       "      <td>0.020816</td>\n",
       "      <td>0.021489</td>\n",
       "    </tr>\n",
       "    <tr>\n",
       "      <th>2017-10-04 23:59:59</th>\n",
       "      <td>0.021931</td>\n",
       "      <td>0.018539</td>\n",
       "    </tr>\n",
       "    <tr>\n",
       "      <th>2017-10-05 23:59:59</th>\n",
       "      <td>0.021489</td>\n",
       "      <td>0.020941</td>\n",
       "    </tr>\n",
       "    <tr>\n",
       "      <th>2017-10-06 23:59:59</th>\n",
       "      <td>0.018539</td>\n",
       "      <td>0.020477</td>\n",
       "    </tr>\n",
       "  </tbody>\n",
       "</table>\n",
       "</div>"
      ],
      "text/plain": [
       "                        Close  Prediction\n",
       "Date                                     \n",
       "2017-10-02 23:59:59  0.025932    0.021931\n",
       "2017-10-03 23:59:59  0.020816    0.021489\n",
       "2017-10-04 23:59:59  0.021931    0.018539\n",
       "2017-10-05 23:59:59  0.021489    0.020941\n",
       "2017-10-06 23:59:59  0.018539    0.020477"
      ]
     },
     "execution_count": 175,
     "metadata": {},
     "output_type": "execute_result"
    }
   ],
   "source": [
    "df.head()"
   ]
  },
  {
   "cell_type": "code",
   "execution_count": 176,
   "metadata": {},
   "outputs": [
    {
     "data": {
      "text/plain": [
       "<matplotlib.axes._subplots.AxesSubplot at 0x7ff0fe50dee0>"
      ]
     },
     "execution_count": 176,
     "metadata": {},
     "output_type": "execute_result"
    },
    {
     "data": {
      "image/png": "[encoded data removed]",
      "text/plain": [
       "<Figure size 432x288 with 1 Axes>"
      ]
     },
     "metadata": {},
     "output_type": "display_data"
    }
   ],
   "source": [
    "df.plot()"
   ]
  },
  {
   "cell_type": "code",
   "execution_count": 146,
   "metadata": {},
   "outputs": [],
   "source": [
    "def ma21(crypto):\n",
    "    return crypto.Close.rolling(21).mean()\n",
    "# Bollinger Bands    \n",
    "def bollinger_bands(crypto, window=21):\n",
    "    rolling_mean = crypto.Close.rolling(window).mean()\n",
    "    rolling_std = crypto.Close.rolling(window).std()\n",
    "    upper_band = rolling_mean + (rolling_std*2)\n",
    "    lower_band = rolling_mean - (rolling_std*2)\n",
    "    return upper_band, lower_band"
   ]
  },
  {
   "cell_type": "code",
   "execution_count": 147,
   "metadata": {},
   "outputs": [],
   "source": [
    "df['MACD'] = df.Close.ewm(span=12, adjust=False).mean() - df.Close.ewm(span=26, adjust=False).mean()\n",
    "df['Signal'] = df['MACD'].ewm(span=9, adjust=False).mean()\n",
    "df['MA21'] = ma21(df)\n",
    "df['Upper_band'], df['Lower_band'] = bollinger_bands(df)\n",
    "df.dropna(inplace=True)"
   ]
  },
  {
   "cell_type": "code",
   "execution_count": 148,
   "metadata": {},
   "outputs": [],
   "source": [
    "def trading_history(stock, net, std=2):    \n",
    "    \n",
    "    # Bollinger band plot with EMA and original historical data\n",
    "    plt.figure(figsize=(16,5))\n",
    "    plt.style.use('seaborn-whitegrid')\n",
    "    plt.plot(stock.index, stock.Close, color='#3388cf', label='Price')\n",
    "    plt.plot(stock.index, stock.MA21, color='#ad6eff', label='Moving Average (21 days)')\n",
    "    plt.plot(stock.index, stock.Upper_band, color='#ffbd74', alpha=0.3)\n",
    "    plt.plot(stock.index, stock.Lower_band, color='#ffa33f', alpha=0.3)\n",
    "    plt.fill_between(stock.index, stock.Upper_band, stock.Lower_band, color='#ffa33f', alpha=0.1, label='Bollinger Band ({} STD)'.format(std))\n",
    "    \n",
    "    plt.title('Trading History', fontSize=15)\n",
    "    plt.ylabel('Price', fontSize=12)\n",
    "    plt.xlim([stock.index.min(), stock.index.max()])\n",
    "    \n",
    "    for i in net:\n",
    "        if i[2] == 1: color = '#ff005e'\n",
    "        else: color = '#4bd81d'\n",
    "        plt.plot_date(i[0], i[1], color=color)\n",
    "        \n",
    "    plt.plot_date([],[],label='Buy', c='#ff005e')\n",
    "    plt.plot_date([],[],label='Sell', c='#4bd81d')\n",
    "        \n",
    "    plt.legend(frameon=True, loc=1, ncol=1, fontsize=10, borderpad=.6)\n",
    "    plt.show()"
   ]
  },
  {
   "cell_type": "code",
   "execution_count": 149,
   "metadata": {},
   "outputs": [],
   "source": [
    "def macd_trading(stock, budget=15000, show_graph=True, show_return=True):\n",
    "    \n",
    "    state_check = lambda x, y: 1 if x > y else 0\n",
    "    stock = stock.reset_index()    \n",
    "    money = budget\n",
    "    prev_state = state_check(stock.loc[0].MACD, stock.loc[0].Signal)\n",
    "    stock_amt = 0\n",
    "    net = []\n",
    "\n",
    "    for i in range(1, len(stock)):\n",
    "\n",
    "        today = stock.iloc[i]\n",
    "        state = state_check(today.MACD, today.Signal)\n",
    "\n",
    "        if state != prev_state:\n",
    "\n",
    "            # BUY\n",
    "            if (today.MACD > today.Signal) and (money != 0):\n",
    "                stock_amt = int(money / today.Close)\n",
    "                money = 0\n",
    "                net.append([today.Date, today.Close, 1, stock_amt * today.Close])\n",
    "\n",
    "            # SELL\n",
    "            if (today.MACD < today.Signal) and (stock_amt != 0):\n",
    "                money = stock_amt * today.Close\n",
    "                stock_amt = 0\n",
    "                net.append([today.Date, today.Close, 0, money])\n",
    "\n",
    "        prev_state = state\n",
    "    \n",
    "    profit = net[-1][3] - budget\n",
    "    \n",
    "    if show_return == True:\n",
    "        print('Number of Trades: {}'.format(len(net)))\n",
    "        print('Time Frame: {} days'.format((net[-1][0] - net[0][0]).days))\n",
    "        print('Profit: ${:.2f} | {}%'.format(profit, round(profit/budget*100, 2)))\n",
    "\n",
    "    if show_graph == True:\n",
    "        trading_history(stock.set_index('Date'), net)\n",
    "\n",
    "    return profit, net "
   ]
  },
  {
   "cell_type": "code",
   "execution_count": 159,
   "metadata": {},
   "outputs": [
    {
     "name": "stdout",
     "output_type": "stream",
     "text": [
      "Number of Trades: 4\n",
      "Time Frame: 34 days\n",
      "Profit: $10849.38 | 72.33%\n"
     ]
    },
    {
     "data": {
      "image/png": "[encoded data removed]",
      "text/plain": [
       "<Figure size 1152x360 with 1 Axes>"
      ]
     },
     "metadata": {},
     "output_type": "display_data"
    }
   ],
   "source": [
    "profit, trades = macd_trading(df.loc['2020-12':'2021-02'])"
   ]
  },
  {
   "cell_type": "code",
   "execution_count": 110,
   "metadata": {},
   "outputs": [
    {
     "data": {
      "text/html": [
       "<div>\n",
       "<style scoped>\n",
       "    .dataframe tbody tr th:only-of-type {\n",
       "        vertical-align: middle;\n",
       "    }\n",
       "\n",
       "    .dataframe tbody tr th {\n",
       "        vertical-align: top;\n",
       "    }\n",
       "\n",
       "    .dataframe thead th {\n",
       "        text-align: right;\n",
       "    }\n",
       "</style>\n",
       "<table border=\"1\" class=\"dataframe\">\n",
       "  <thead>\n",
       "    <tr style=\"text-align: right;\">\n",
       "      <th></th>\n",
       "      <th>Close</th>\n",
       "      <th>Prediction</th>\n",
       "      <th>MACD</th>\n",
       "      <th>Signal</th>\n",
       "      <th>MA21</th>\n",
       "      <th>Upper_band</th>\n",
       "      <th>Lower_band</th>\n",
       "    </tr>\n",
       "    <tr>\n",
       "      <th>Date</th>\n",
       "      <th></th>\n",
       "      <th></th>\n",
       "      <th></th>\n",
       "      <th></th>\n",
       "      <th></th>\n",
       "      <th></th>\n",
       "      <th></th>\n",
       "    </tr>\n",
       "  </thead>\n",
       "  <tbody>\n",
       "    <tr>\n",
       "      <th>2021-02-21 23:59:59</th>\n",
       "      <td>1.100520</td>\n",
       "      <td>0.954709</td>\n",
       "      <td>0.162134</td>\n",
       "      <td>0.144908</td>\n",
       "      <td>0.769127</td>\n",
       "      <td>1.211663</td>\n",
       "      <td>0.326591</td>\n",
       "    </tr>\n",
       "    <tr>\n",
       "      <th>2021-02-22 23:59:59</th>\n",
       "      <td>1.099151</td>\n",
       "      <td>1.051657</td>\n",
       "      <td>0.165147</td>\n",
       "      <td>0.148956</td>\n",
       "      <td>0.802323</td>\n",
       "      <td>1.233648</td>\n",
       "      <td>0.370998</td>\n",
       "    </tr>\n",
       "    <tr>\n",
       "      <th>2021-02-23 23:59:59</th>\n",
       "      <td>0.954709</td>\n",
       "      <td>1.079116</td>\n",
       "      <td>0.154102</td>\n",
       "      <td>0.149985</td>\n",
       "      <td>0.827488</td>\n",
       "      <td>1.227162</td>\n",
       "      <td>0.427814</td>\n",
       "    </tr>\n",
       "    <tr>\n",
       "      <th>2021-02-24 23:59:59</th>\n",
       "      <td>1.051657</td>\n",
       "      <td>1.241105</td>\n",
       "      <td>0.151426</td>\n",
       "      <td>0.150273</td>\n",
       "      <td>0.856548</td>\n",
       "      <td>1.225912</td>\n",
       "      <td>0.487184</td>\n",
       "    </tr>\n",
       "    <tr>\n",
       "      <th>2021-02-25 23:59:59</th>\n",
       "      <td>1.079116</td>\n",
       "      <td>1.324860</td>\n",
       "      <td>0.149795</td>\n",
       "      <td>0.150178</td>\n",
       "      <td>0.886932</td>\n",
       "      <td>1.215462</td>\n",
       "      <td>0.558401</td>\n",
       "    </tr>\n",
       "  </tbody>\n",
       "</table>\n",
       "</div>"
      ],
      "text/plain": [
       "                        Close  Prediction      MACD    Signal      MA21  \\\n",
       "Date                                                                      \n",
       "2021-02-21 23:59:59  1.100520    0.954709  0.162134  0.144908  0.769127   \n",
       "2021-02-22 23:59:59  1.099151    1.051657  0.165147  0.148956  0.802323   \n",
       "2021-02-23 23:59:59  0.954709    1.079116  0.154102  0.149985  0.827488   \n",
       "2021-02-24 23:59:59  1.051657    1.241105  0.151426  0.150273  0.856548   \n",
       "2021-02-25 23:59:59  1.079116    1.324860  0.149795  0.150178  0.886932   \n",
       "\n",
       "                     Upper_band  Lower_band  \n",
       "Date                                         \n",
       "2021-02-21 23:59:59    1.211663    0.326591  \n",
       "2021-02-22 23:59:59    1.233648    0.370998  \n",
       "2021-02-23 23:59:59    1.227162    0.427814  \n",
       "2021-02-24 23:59:59    1.225912    0.487184  \n",
       "2021-02-25 23:59:59    1.215462    0.558401  "
      ]
     },
     "execution_count": 110,
     "metadata": {},
     "output_type": "execute_result"
    }
   ],
   "source": [
    "df.tail()"
   ]
  },
  {
   "cell_type": "code",
   "execution_count": 177,
   "metadata": {},
   "outputs": [],
   "source": [
    "def hit_rate(true, pred):\n",
    "    is_neg = lambda x: 0 if x > 0 else 1\n",
    "    pos_true = []\n",
    "    pos_hat = []\n",
    "    for t in range(len(true)-1):\n",
    "        pos_true.append(is_neg(np.sign(true[t] - true[t+1])))\n",
    "        pos_hat.append(is_neg(np.sign(pred[t] - pred[t+1])))\n",
    "    subtracted = np.abs(np.subtract(pos_hat, pos_true))\n",
    "    rate = 1 - sum(subtracted)/len(subtracted)\n",
    "    return rate\n",
    "\n",
    "def find_returns(true, pred):\n",
    "    ret_true = []\n",
    "    ret_hat = []\n",
    "    for t in range(len(true)-1):\n",
    "        ret_true.append(((true[t+1] - true[t])/true[t])*100)\n",
    "        ret_hat.append(((pred[t+1] - pred[t])/pred[t])*100)\n",
    "    mse = mean_squared_error(ret_true, ret_hat)\n",
    "    return ret_true, ret_hat, mse\n",
    "        \n",
    "\n",
    "def model_selection(data, forecast, dates, optimization='RET'):\n",
    "    X_train, X_test = data[1:len(data)-forecast], data[len(data)-forecast:]\n",
    "    dates_test = dates[len(dates)-forecast:]\n",
    "    # find lag values which maximize hit rate\n",
    "    rates = []\n",
    "    for lag in range(1,int(len(X_train)/2)-1):\n",
    "        autoreg = AutoReg(X_train, lags=lag, old_names=True).fit()\n",
    "        X_hat = autoreg.forecast(forecast)\n",
    "        rates.append(hit_rate(X_test, X_hat))\n",
    "    \n",
    "    max_hit_lags = [i for i, j in enumerate(rates) if j == max(rates)]\n",
    "    \n",
    "    # find lag values which maximize correct returns\n",
    "    returns = []\n",
    "    for lag in max_hit_lags:\n",
    "        autoreg = AutoReg(X_train, lags=lag, old_names=True).fit()\n",
    "        X_hat = np.exp(autoreg.forecast(forecast))\n",
    "        returns.append(find_returns(np.exp(X_test), X_hat))\n",
    "    \n",
    "    if optimization == 'RET':\n",
    "        mses = [ret[2] for ret in returns]\n",
    "        min_mse_lags = [max_hit_lags[i] for i,j in enumerate(mses) if j == min(mses)]\n",
    "        \n",
    "    elif optimization == 'MSE':\n",
    "        # find lag values which minimize close price MSE\n",
    "        mses = []\n",
    "        for lag in max_hit_lags:\n",
    "            autoreg = AutoReg(X_train, lags=lag, old_names=True).fit()\n",
    "            X_hat = autoreg.forecast(forecast)\n",
    "            mses.append(mean_squared_error(X_test, X_hat))\n",
    "    \n",
    "        min_mse_lags = [max_hit_lags[i] for i, j in enumerate(mses) if j == min(mses)]\n",
    "    \n",
    "    best_returns = [returns[i] for i,j in enumerate(mses) if j == min(mses)]\n",
    "    \n",
    "    # Fit model\n",
    "    lag_order = min_mse_lags[0]\n",
    "    autoreg = AutoReg(X_train, lags=lag_order, old_names=True).fit()\n",
    "    X_hat = autoreg.forecast(forecast)\n",
    "    \n",
    "    df_returns = pd.DataFrame(data={'returns_true':best_returns[0][0] , 'returns_pred':best_returns[0][1]})\n",
    "    \n",
    "    fig, ax = plt.subplots()\n",
    "    fig.gca().xaxis.set_major_formatter(mdates.DateFormatter('%m/%d/%Y'))\n",
    "    #plt.gca().xaxis.set_major_locator(mdates.DayLocator())\n",
    "    ax.plot(dates_test, np.exp(X_test), marker='o', label='Observed')\n",
    "    ax.plot(dates_test, np.exp(X_hat), marker='o', label='Predicted')\n",
    "    fig.suptitle(f'{len(X_test)}-Day Prediction (Test Set)')\n",
    "    ax.set_ylabel('Close Price (USD)')\n",
    "    ax.set_xlabel('Date')\n",
    "    ax.tick_params('x', labelsize=10)\n",
    "    ax.legend()\n",
    "    fig.autofmt_xdate()\n",
    "    \n",
    "    print(\"Lag:\", lag_order)\n",
    "    print(\"Hit rate:\", rates[lag_order])\n",
    "    print(\"Mean Squared Error:\", min(mses))\n",
    "    print(df_returns.head())\n",
    "    \n",
    "    \n",
    "    return min_mse_lags[0]"
   ]
  },
  {
   "cell_type": "code",
   "execution_count": 178,
   "metadata": {},
   "outputs": [],
   "source": [
    "def hilo(pred_data):\n",
    "    actions = []\n",
    "    bought = False\n",
    "    for t in range(len(pred_data)):\n",
    "        if t == (len(pred_data)-1):\n",
    "            if pred_data[t] > pred_data[t-1]:\n",
    "                if bought:\n",
    "                    actions.append((pred_data[t], 'sell'))\n",
    "            else:\n",
    "                if bought:\n",
    "                    pass\n",
    "                else:\n",
    "                    actions.append((pred_data[t], 'wait'))\n",
    "            continue\n",
    "        if pred_data[t+1] >= pred_data[t]:\n",
    "            if bought:\n",
    "                actions.append((pred_data[t], 'hold'))\n",
    "            else:\n",
    "                actions.append((pred_data[t], 'buy'))\n",
    "                bought = True\n",
    "        else:\n",
    "            if bought:\n",
    "                actions.append((pred_data[t], 'sell'))\n",
    "                bought = False\n",
    "            else:\n",
    "                actions.append((pred_data[t], 'wait'))\n",
    "    return actions\n",
    "\n",
    "def transactions(actions, returns, capital, fee=0.01):\n",
    "    money = capital\n",
    "    holdings = []\n",
    "    total_percent = 0.0\n",
    "    cost = capital\n",
    "    r = 0\n",
    "    for action in actions:\n",
    "        if 'buy' in action[1]:\n",
    "            cost += fee*money\n",
    "            total_percent += returns[r]\n",
    "            holdings.append(money)\n",
    "        elif 'sell' in action[1]:\n",
    "            money = money + (money*(total_percent/100))\n",
    "            cost += fee*money\n",
    "            total_percent = 0.0\n",
    "            holdings.append(money)\n",
    "        elif 'hold' in action[1]:\n",
    "            total_percent += returns[r]\n",
    "            holdings.append(money + (money*(total_percent/100)))\n",
    "        else:\n",
    "            holdings.append(money)\n",
    "        r += 1\n",
    "    return holdings, money - capital - (cost-capital), cost\n",
    "            \n",
    "def short_term_trade_ar(data, forecast, capital, dates, optimization='RET'):\n",
    "    \n",
    "    action_colors = {\n",
    "        'buy': 'b',\n",
    "        'sell': 'g',\n",
    "        'hold': 'y',\n",
    "        'wait': 'r'\n",
    "    }\n",
    "    \n",
    "    # model selection (lag order based on minimization)\n",
    "    lag_order = model_selection(data, forecast, dates, optimization)\n",
    "    \n",
    "    autoreg = AutoReg(X, lags=lag_order, old_names=True).fit()\n",
    "    X_hat = np.exp(autoreg.forecast(forecast))\n",
    "    \n",
    "    # plotting new out-of-set prediction\n",
    "    forecasted_dates = [dates[-1] + datetime.timedelta(days=t) for t in range(1,forecast+1)]\n",
    "    \n",
    "    trade_actions = hilo(X_hat)\n",
    "    \n",
    "    fig, ax = plt.subplots()\n",
    "    fig.gca().xaxis.set_major_formatter(mdates.DateFormatter('%m/%d/%Y'))\n",
    "    #plt.gca().xaxis.set_major_locator(mdates.DayLocator())\n",
    "    ax.plot(forecasted_dates,X_hat, marker='o')\n",
    "    ax.set_xlabel('Date')\n",
    "    ax.set_ylabel('Close Price (USD)')\n",
    "    fig.suptitle(f'{forecast}-Day Forecast (Future Days)')\n",
    "    ax.tick_params('x', labelsize=10)\n",
    "    fig.autofmt_xdate()\n",
    "    \n",
    "    returns = []\n",
    "    for t in range(len(X_hat)-1):\n",
    "        returns.append(((X_hat[t+1] - X_hat[t])/X_hat[t])*100)\n",
    "        \n",
    "    prices, profit, cost = transactions(trade_actions, returns, capital)\n",
    "    print(f\"Profit (USD): {profit}\")\n",
    "    print(f\"Trade Costs (USD): {cost}\")\n",
    "    \n",
    "    df_actions = pd.DataFrame(trade_actions, columns=['close','action'])\n",
    "    df_actions['percent_change'] = [0.0] + returns\n",
    "    df_actions['value'] = prices\n",
    "    df_actions.index = forecasted_dates\n",
    "    \n",
    "    fig, ax = plt.subplots()\n",
    "    fig.gca().xaxis.set_major_formatter(mdates.DateFormatter('%m/%d/%Y'))\n",
    "    #plt.gca().xaxis.set_major_locator(mdates.DayLocator())\n",
    "    already_used = set()\n",
    "    for p in range(len(forecasted_dates)):\n",
    "        if df_actions['action'][p] not in already_used:\n",
    "            ax.scatter(forecasted_dates[p], df_actions['value'][p], \n",
    "                       c=action_colors[df_actions['action'][p]], \n",
    "                       label=df_actions['action'][p])\n",
    "            already_used.add(df_actions['action'][p])\n",
    "        else:\n",
    "            ax.scatter(forecasted_dates[p], df_actions['value'][p], \n",
    "                       c=action_colors[df_actions['action'][p]])\n",
    "    ax.plot(forecasted_dates, df_actions['value'], zorder=0)\n",
    "    ax.set_xlabel('Date')\n",
    "    ax.set_ylabel('Value (USD)')\n",
    "    fig.suptitle(f'{forecast}-Day Forecast Trading')\n",
    "    ax.tick_params('x', labelsize=10)\n",
    "    fig.autofmt_xdate()\n",
    "    ax.legend()\n",
    "    \n",
    "    return trade_actions, df_actions, profit, capital"
   ]
  },
  {
   "cell_type": "code",
   "execution_count": 182,
   "metadata": {},
   "outputs": [
    {
     "ename": "TypeError",
     "evalue": "__init__() got an unexpected keyword argument 'old_names'",
     "output_type": "error",
     "traceback": [
      "\u001b[0;31m---------------------------------------------------------------------------\u001b[0m",
      "\u001b[0;31mTypeError\u001b[0m                                 Traceback (most recent call last)",
      "\u001b[0;32m<ipython-input-182-b746e0119dfd>\u001b[0m in \u001b[0;36m<module>\u001b[0;34m\u001b[0m\n\u001b[1;32m      1\u001b[0m \u001b[0mX\u001b[0m \u001b[0;34m=\u001b[0m \u001b[0mdf\u001b[0m\u001b[0;34m[\u001b[0m\u001b[0;34m'Close'\u001b[0m\u001b[0;34m]\u001b[0m\u001b[0;34m.\u001b[0m\u001b[0mapply\u001b[0m\u001b[0;34m(\u001b[0m\u001b[0mnp\u001b[0m\u001b[0;34m.\u001b[0m\u001b[0mlog\u001b[0m\u001b[0;34m)\u001b[0m\u001b[0;34m.\u001b[0m\u001b[0mvalues\u001b[0m\u001b[0;34m\u001b[0m\u001b[0;34m\u001b[0m\u001b[0m\n\u001b[0;32m----> 2\u001b[0;31m \u001b[0mhilo_info\u001b[0m\u001b[0;34m,\u001b[0m \u001b[0mdf_actions\u001b[0m\u001b[0;34m,\u001b[0m \u001b[0mprofit\u001b[0m\u001b[0;34m,\u001b[0m \u001b[0mcost\u001b[0m \u001b[0;34m=\u001b[0m \u001b[0mshort_term_trade_ar\u001b[0m\u001b[0;34m(\u001b[0m\u001b[0mX\u001b[0m\u001b[0;34m,\u001b[0m \u001b[0;36m7\u001b[0m\u001b[0;34m,\u001b[0m \u001b[0;36m100\u001b[0m\u001b[0;34m,\u001b[0m \u001b[0mdf\u001b[0m\u001b[0;34m.\u001b[0m\u001b[0mindex\u001b[0m\u001b[0;34m,\u001b[0m \u001b[0;34m'RET'\u001b[0m\u001b[0;34m)\u001b[0m\u001b[0;34m\u001b[0m\u001b[0;34m\u001b[0m\u001b[0m\n\u001b[0m",
      "\u001b[0;32m<ipython-input-178-6a755feaae5c>\u001b[0m in \u001b[0;36mshort_term_trade_ar\u001b[0;34m(data, forecast, capital, dates, optimization)\u001b[0m\n\u001b[1;32m     61\u001b[0m \u001b[0;34m\u001b[0m\u001b[0m\n\u001b[1;32m     62\u001b[0m     \u001b[0;31m# model selection (lag order based on minimization)\u001b[0m\u001b[0;34m\u001b[0m\u001b[0;34m\u001b[0m\u001b[0;34m\u001b[0m\u001b[0m\n\u001b[0;32m---> 63\u001b[0;31m     \u001b[0mlag_order\u001b[0m \u001b[0;34m=\u001b[0m \u001b[0mmodel_selection\u001b[0m\u001b[0;34m(\u001b[0m\u001b[0mdata\u001b[0m\u001b[0;34m,\u001b[0m \u001b[0mforecast\u001b[0m\u001b[0;34m,\u001b[0m \u001b[0mdates\u001b[0m\u001b[0;34m,\u001b[0m \u001b[0moptimization\u001b[0m\u001b[0;34m)\u001b[0m\u001b[0;34m\u001b[0m\u001b[0;34m\u001b[0m\u001b[0m\n\u001b[0m\u001b[1;32m     64\u001b[0m \u001b[0;34m\u001b[0m\u001b[0m\n\u001b[1;32m     65\u001b[0m     \u001b[0mautoreg\u001b[0m \u001b[0;34m=\u001b[0m \u001b[0mAutoReg\u001b[0m\u001b[0;34m(\u001b[0m\u001b[0mX\u001b[0m\u001b[0;34m,\u001b[0m \u001b[0mlags\u001b[0m\u001b[0;34m=\u001b[0m\u001b[0mlag_order\u001b[0m\u001b[0;34m,\u001b[0m \u001b[0mold_names\u001b[0m\u001b[0;34m=\u001b[0m\u001b[0;32mTrue\u001b[0m\u001b[0;34m)\u001b[0m\u001b[0;34m.\u001b[0m\u001b[0mfit\u001b[0m\u001b[0;34m(\u001b[0m\u001b[0;34m)\u001b[0m\u001b[0;34m\u001b[0m\u001b[0;34m\u001b[0m\u001b[0m\n",
      "\u001b[0;32m<ipython-input-177-08209422b6e1>\u001b[0m in \u001b[0;36mmodel_selection\u001b[0;34m(data, forecast, dates, optimization)\u001b[0m\n\u001b[1;32m     26\u001b[0m     \u001b[0mrates\u001b[0m \u001b[0;34m=\u001b[0m \u001b[0;34m[\u001b[0m\u001b[0;34m]\u001b[0m\u001b[0;34m\u001b[0m\u001b[0;34m\u001b[0m\u001b[0m\n\u001b[1;32m     27\u001b[0m     \u001b[0;32mfor\u001b[0m \u001b[0mlag\u001b[0m \u001b[0;32min\u001b[0m \u001b[0mrange\u001b[0m\u001b[0;34m(\u001b[0m\u001b[0;36m1\u001b[0m\u001b[0;34m,\u001b[0m\u001b[0mint\u001b[0m\u001b[0;34m(\u001b[0m\u001b[0mlen\u001b[0m\u001b[0;34m(\u001b[0m\u001b[0mX_train\u001b[0m\u001b[0;34m)\u001b[0m\u001b[0;34m/\u001b[0m\u001b[0;36m2\u001b[0m\u001b[0;34m)\u001b[0m\u001b[0;34m-\u001b[0m\u001b[0;36m1\u001b[0m\u001b[0;34m)\u001b[0m\u001b[0;34m:\u001b[0m\u001b[0;34m\u001b[0m\u001b[0;34m\u001b[0m\u001b[0m\n\u001b[0;32m---> 28\u001b[0;31m         \u001b[0mautoreg\u001b[0m \u001b[0;34m=\u001b[0m \u001b[0mAutoReg\u001b[0m\u001b[0;34m(\u001b[0m\u001b[0mX_train\u001b[0m\u001b[0;34m,\u001b[0m \u001b[0mlags\u001b[0m\u001b[0;34m=\u001b[0m\u001b[0mlag\u001b[0m\u001b[0;34m,\u001b[0m \u001b[0mold_names\u001b[0m\u001b[0;34m=\u001b[0m\u001b[0;32mTrue\u001b[0m\u001b[0;34m)\u001b[0m\u001b[0;34m.\u001b[0m\u001b[0mfit\u001b[0m\u001b[0;34m(\u001b[0m\u001b[0;34m)\u001b[0m\u001b[0;34m\u001b[0m\u001b[0;34m\u001b[0m\u001b[0m\n\u001b[0m\u001b[1;32m     29\u001b[0m         \u001b[0mX_hat\u001b[0m \u001b[0;34m=\u001b[0m \u001b[0mautoreg\u001b[0m\u001b[0;34m.\u001b[0m\u001b[0mforecast\u001b[0m\u001b[0;34m(\u001b[0m\u001b[0mforecast\u001b[0m\u001b[0;34m)\u001b[0m\u001b[0;34m\u001b[0m\u001b[0;34m\u001b[0m\u001b[0m\n\u001b[1;32m     30\u001b[0m         \u001b[0mrates\u001b[0m\u001b[0;34m.\u001b[0m\u001b[0mappend\u001b[0m\u001b[0;34m(\u001b[0m\u001b[0mhit_rate\u001b[0m\u001b[0;34m(\u001b[0m\u001b[0mX_test\u001b[0m\u001b[0;34m,\u001b[0m \u001b[0mX_hat\u001b[0m\u001b[0;34m)\u001b[0m\u001b[0;34m)\u001b[0m\u001b[0;34m\u001b[0m\u001b[0;34m\u001b[0m\u001b[0m\n",
      "\u001b[0;31mTypeError\u001b[0m: __init__() got an unexpected keyword argument 'old_names'"
     ]
    }
   ],
   "source": [
    "X = df['Close'].apply(np.log).values\n",
    "hilo_info, df_actions, profit, cost = short_term_trade_ar(X, 7, 100, df.index, 'RET')"
   ]
  },
  {
   "cell_type": "code",
   "execution_count": 185,
   "metadata": {},
   "outputs": [
    {
     "ename": "FileNotFoundError",
     "evalue": "[Errno 2] No such file or directory: 'key'",
     "output_type": "error",
     "traceback": [
      "\u001b[0;31m---------------------------------------------------------------------------\u001b[0m",
      "\u001b[0;31mFileNotFoundError\u001b[0m                         Traceback (most recent call last)",
      "\u001b[0;32m<ipython-input-185-9a28654f821d>\u001b[0m in \u001b[0;36m<module>\u001b[0;34m\u001b[0m\n\u001b[1;32m      2\u001b[0m \u001b[0;32mimport\u001b[0m \u001b[0mjson\u001b[0m\u001b[0;34m\u001b[0m\u001b[0;34m\u001b[0m\u001b[0m\n\u001b[1;32m      3\u001b[0m \u001b[0;34m\u001b[0m\u001b[0m\n\u001b[0;32m----> 4\u001b[0;31m \u001b[0;32mwith\u001b[0m \u001b[0mopen\u001b[0m\u001b[0;34m(\u001b[0m\u001b[0;34m'key'\u001b[0m\u001b[0;34m,\u001b[0m \u001b[0;34m'r'\u001b[0m\u001b[0;34m)\u001b[0m \u001b[0;32mas\u001b[0m \u001b[0mfile\u001b[0m\u001b[0;34m:\u001b[0m\u001b[0;34m\u001b[0m\u001b[0;34m\u001b[0m\u001b[0m\n\u001b[0m\u001b[1;32m      5\u001b[0m     \u001b[0mckey\u001b[0m \u001b[0;34m=\u001b[0m \u001b[0mfile\u001b[0m\u001b[0;34m.\u001b[0m\u001b[0mread\u001b[0m\u001b[0;34m(\u001b[0m\u001b[0;34m)\u001b[0m\u001b[0;34m\u001b[0m\u001b[0;34m\u001b[0m\u001b[0m\n\u001b[1;32m      6\u001b[0m \u001b[0msymbol_id\u001b[0m \u001b[0;34m=\u001b[0m \u001b[0;34m'ADA'\u001b[0m\u001b[0;34m\u001b[0m\u001b[0;34m\u001b[0m\u001b[0m\n",
      "\u001b[0;31mFileNotFoundError\u001b[0m: [Errno 2] No such file or directory: 'key'"
     ]
    }
   ],
   "source": [
    "import requests\n",
    "import json\n",
    "\n",
    "with open('key', 'r') as file:\n",
    "    ckey = file.read()\n",
    "symbol_id = 'ADA'\n",
    "period_id = '1DAY'\n",
    "time_start = '2019-05-03T00:00:00'\n",
    "time_end = '2021-05-09T00:00:00'\n",
    "limit = '1000'\n",
    "\n",
    "url = f'https://rest.coinapi.io/v1/ohlcv/{symbol_id}/USD/history?period_id={period_id}&time_start={time_start}&time_end={time_end}&limit={limit}'\n",
    "#url = 'https://rest.coinapi.io/v1/symbols'\n",
    "\n",
    "headers = {\n",
    "  'Accepts': 'application/json',\n",
    "  'X-CoinAPI-Key': ckey,\n",
    "}\n",
    "\n",
    "\n",
    "response = requests.get(url, headers=headers)\n",
    "data = json.loads(response.text)"
   ]
  },
  {
   "cell_type": "code",
   "execution_count": null,
   "metadata": {},
   "outputs": [],
   "source": []
  }
 ],
 "metadata": {
  "kernelspec": {
   "display_name": "Python 3",
   "language": "python",
   "name": "python3"
  },
  "language_info": {
   "codemirror_mode": {
    "name": "ipython",
    "version": 3
   },
   "file_extension": ".py",
   "mimetype": "text/x-python",
   "name": "python",
   "nbconvert_exporter": "python",
   "pygments_lexer": "ipython3",
   "version": "3.8.3"
  }
 },
 "nbformat": 4,
 "nbformat_minor": 4
}
