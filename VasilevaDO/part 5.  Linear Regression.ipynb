{
 "cells": [
  {
   "cell_type": "code",
   "execution_count": 184,
   "metadata": {},
   "outputs": [],
   "source": [
    "import numpy as np \n",
    "from sklearn.linear_model import LinearRegression\n",
    "import pandas as pd\n",
    "from sklearn.model_selection import train_test_split\n",
    "import matplotlib.pyplot as plt\n",
    "import seaborn as sns\n",
    "from statsmodels.tsa.ar_model import AutoReg\n",
    "import matplotlib.dates as mdates\n",
    "import datetime\n",
    "from sklearn.metrics import mean_squared_error\n"
   ]
  },
  {
   "cell_type": "code",
   "execution_count": 162,
   "metadata": {},
   "outputs": [],
   "source": [
    "df = pd.read_csv('coin_Cardano.csv',header=0, parse_dates=[0])"
   ]
  },
  {
   "cell_type": "code",
   "execution_count": 163,
   "metadata": {},
   "outputs": [
    {
     "data": {
      "text/html": [
       "<div>\n",
       "<style scoped>\n",
       "    .dataframe tbody tr th:only-of-type {\n",
       "        vertical-align: middle;\n",
       "    }\n",
       "\n",
       "    .dataframe tbody tr th {\n",
       "        vertical-align: top;\n",
       "    }\n",
       "\n",
       "    .dataframe thead th {\n",
       "        text-align: right;\n",
       "    }\n",
       "</style>\n",
       "<table border=\"1\" class=\"dataframe\">\n",
       "  <thead>\n",
       "    <tr style=\"text-align: right;\">\n",
       "      <th></th>\n",
       "      <th>SNo</th>\n",
       "      <th>Name</th>\n",
       "      <th>Symbol</th>\n",
       "      <th>Date</th>\n",
       "      <th>High</th>\n",
       "      <th>Low</th>\n",
       "      <th>Open</th>\n",
       "      <th>Close</th>\n",
       "      <th>Volume</th>\n",
       "      <th>Marketcap</th>\n",
       "    </tr>\n",
       "  </thead>\n",
       "  <tbody>\n",
       "    <tr>\n",
       "      <th>0</th>\n",
       "      <td>1</td>\n",
       "      <td>Cardano</td>\n",
       "      <td>ADA</td>\n",
       "      <td>2017-10-02 23:59:59</td>\n",
       "      <td>0.030088</td>\n",
       "      <td>0.019969</td>\n",
       "      <td>0.024607</td>\n",
       "      <td>0.025932</td>\n",
       "      <td>57641300.0</td>\n",
       "      <td>6.288991e+08</td>\n",
       "    </tr>\n",
       "    <tr>\n",
       "      <th>1</th>\n",
       "      <td>2</td>\n",
       "      <td>Cardano</td>\n",
       "      <td>ADA</td>\n",
       "      <td>2017-10-03 23:59:59</td>\n",
       "      <td>0.027425</td>\n",
       "      <td>0.020690</td>\n",
       "      <td>0.025757</td>\n",
       "      <td>0.020816</td>\n",
       "      <td>16997800.0</td>\n",
       "      <td>5.396927e+08</td>\n",
       "    </tr>\n",
       "    <tr>\n",
       "      <th>2</th>\n",
       "      <td>3</td>\n",
       "      <td>Cardano</td>\n",
       "      <td>ADA</td>\n",
       "      <td>2017-10-04 23:59:59</td>\n",
       "      <td>0.022806</td>\n",
       "      <td>0.020864</td>\n",
       "      <td>0.020864</td>\n",
       "      <td>0.021931</td>\n",
       "      <td>9000050.0</td>\n",
       "      <td>5.686195e+08</td>\n",
       "    </tr>\n",
       "    <tr>\n",
       "      <th>3</th>\n",
       "      <td>4</td>\n",
       "      <td>Cardano</td>\n",
       "      <td>ADA</td>\n",
       "      <td>2017-10-05 23:59:59</td>\n",
       "      <td>0.022154</td>\n",
       "      <td>0.020859</td>\n",
       "      <td>0.021951</td>\n",
       "      <td>0.021489</td>\n",
       "      <td>5562510.0</td>\n",
       "      <td>5.571390e+08</td>\n",
       "    </tr>\n",
       "    <tr>\n",
       "      <th>4</th>\n",
       "      <td>5</td>\n",
       "      <td>Cardano</td>\n",
       "      <td>ADA</td>\n",
       "      <td>2017-10-06 23:59:59</td>\n",
       "      <td>0.021542</td>\n",
       "      <td>0.018360</td>\n",
       "      <td>0.021359</td>\n",
       "      <td>0.018539</td>\n",
       "      <td>7780710.0</td>\n",
       "      <td>4.806646e+08</td>\n",
       "    </tr>\n",
       "  </tbody>\n",
       "</table>\n",
       "</div>"
      ],
      "text/plain": [
       "  SNo     Name Symbol                 Date      High       Low      Open  \\\n",
       "0   1  Cardano    ADA  2017-10-02 23:59:59  0.030088  0.019969  0.024607   \n",
       "1   2  Cardano    ADA  2017-10-03 23:59:59  0.027425  0.020690  0.025757   \n",
       "2   3  Cardano    ADA  2017-10-04 23:59:59  0.022806  0.020864  0.020864   \n",
       "3   4  Cardano    ADA  2017-10-05 23:59:59  0.022154  0.020859  0.021951   \n",
       "4   5  Cardano    ADA  2017-10-06 23:59:59  0.021542  0.018360  0.021359   \n",
       "\n",
       "      Close      Volume     Marketcap  \n",
       "0  0.025932  57641300.0  6.288991e+08  \n",
       "1  0.020816  16997800.0  5.396927e+08  \n",
       "2  0.021931   9000050.0  5.686195e+08  \n",
       "3  0.021489   5562510.0  5.571390e+08  \n",
       "4  0.018539   7780710.0  4.806646e+08  "
      ]
     },
     "execution_count": 163,
     "metadata": {},
     "output_type": "execute_result"
    }
   ],
   "source": [
    "df.head()"
   ]
  },
  {
   "cell_type": "code",
   "execution_count": 164,
   "metadata": {},
   "outputs": [],
   "source": [
    "df['Date'] = pd.to_datetime(df['Date'])\n",
    "df.set_index('Date', inplace=True)"
   ]
  },
  {
   "cell_type": "code",
   "execution_count": 165,
   "metadata": {},
   "outputs": [],
   "source": [
    "df = df[['Close']]"
   ]
  },
  {
   "cell_type": "code",
   "execution_count": 166,
   "metadata": {},
   "outputs": [
    {
     "data": {
      "text/html": [
       "<div>\n",
       "<style scoped>\n",
       "    .dataframe tbody tr th:only-of-type {\n",
       "        vertical-align: middle;\n",
       "    }\n",
       "\n",
       "    .dataframe tbody tr th {\n",
       "        vertical-align: top;\n",
       "    }\n",
       "\n",
       "    .dataframe thead th {\n",
       "        text-align: right;\n",
       "    }\n",
       "</style>\n",
       "<table border=\"1\" class=\"dataframe\">\n",
       "  <thead>\n",
       "    <tr style=\"text-align: right;\">\n",
       "      <th></th>\n",
       "      <th>Close</th>\n",
       "    </tr>\n",
       "    <tr>\n",
       "      <th>Date</th>\n",
       "      <th></th>\n",
       "    </tr>\n",
       "  </thead>\n",
       "  <tbody>\n",
       "    <tr>\n",
       "      <th>2017-10-02 23:59:59</th>\n",
       "      <td>0.025932</td>\n",
       "    </tr>\n",
       "    <tr>\n",
       "      <th>2017-10-03 23:59:59</th>\n",
       "      <td>0.020816</td>\n",
       "    </tr>\n",
       "    <tr>\n",
       "      <th>2017-10-04 23:59:59</th>\n",
       "      <td>0.021931</td>\n",
       "    </tr>\n",
       "    <tr>\n",
       "      <th>2017-10-05 23:59:59</th>\n",
       "      <td>0.021489</td>\n",
       "    </tr>\n",
       "    <tr>\n",
       "      <th>2017-10-06 23:59:59</th>\n",
       "      <td>0.018539</td>\n",
       "    </tr>\n",
       "  </tbody>\n",
       "</table>\n",
       "</div>"
      ],
      "text/plain": [
       "                        Close\n",
       "Date                         \n",
       "2017-10-02 23:59:59  0.025932\n",
       "2017-10-03 23:59:59  0.020816\n",
       "2017-10-04 23:59:59  0.021931\n",
       "2017-10-05 23:59:59  0.021489\n",
       "2017-10-06 23:59:59  0.018539"
      ]
     },
     "execution_count": 166,
     "metadata": {},
     "output_type": "execute_result"
    }
   ],
   "source": [
    "df.head()"
   ]
  },
  {
   "cell_type": "code",
   "execution_count": 167,
   "metadata": {},
   "outputs": [
    {
     "name": "stdout",
     "output_type": "stream",
     "text": [
      "                        Close  Prediction\n",
      "Date                                     \n",
      "2021-02-23 23:59:59  0.954709    1.079116\n",
      "2021-02-24 23:59:59  1.051657    1.241105\n",
      "2021-02-25 23:59:59  1.079116    1.324860\n",
      "2021-02-26 23:59:59  1.241105         NaN\n",
      "2021-02-27 23:59:59  1.324860         NaN\n"
     ]
    }
   ],
   "source": [
    "# a variablle for predicting 'n' days out into the future\n",
    "forecast_out = 2 \n",
    "#create another column (the target) shifted 'n' units up \n",
    "df['Prediction'] = df['Close'].shift(-forecast_out)\n",
    "print(df.tail())"
   ]
  },
  {
   "cell_type": "code",
   "execution_count": 193,
   "metadata": {},
   "outputs": [
    {
     "name": "stdout",
     "output_type": "stream",
     "text": [
      "[[0.0259318 ]\n",
      " [0.0208158 ]\n",
      " [0.0219315 ]\n",
      " ...\n",
      " [0.95470914]\n",
      " [1.05165663]\n",
      " [1.0791162 ]]\n"
     ]
    }
   ],
   "source": [
    "#creating the independend data set (X)\n",
    "#convert dataframe to a numpy array\n",
    "X = np.array(df.drop(['Prediction'],1))\n",
    "#remove last '2' rows\n",
    "X = X[:-forecast_out]\n",
    "print(X)"
   ]
  },
  {
   "cell_type": "code",
   "execution_count": 194,
   "metadata": {},
   "outputs": [
    {
     "name": "stdout",
     "output_type": "stream",
     "text": [
      "[0.0219315  0.0214887  0.0185391  ... 1.0791162  1.24110539 1.32486029]\n"
     ]
    }
   ],
   "source": [
    "#create the dependent data set (y)\n",
    "y = np.array(df['Prediction'])\n",
    "y = y[:-forecast_out]\n",
    "print(y)"
   ]
  },
  {
   "cell_type": "code",
   "execution_count": 195,
   "metadata": {},
   "outputs": [],
   "source": [
    "x_train, x_test, y_train, y_test = train_test_split(X, y, test_size=0.2)"
   ]
  },
  {
   "cell_type": "code",
   "execution_count": 196,
   "metadata": {},
   "outputs": [
    {
     "data": {
      "text/plain": [
       "LinearRegression()"
      ]
     },
     "execution_count": 196,
     "metadata": {},
     "output_type": "execute_result"
    }
   ],
   "source": [
    "lr = LinearRegression()\n",
    "lr.fit(x_train, y_train)"
   ]
  },
  {
   "cell_type": "code",
   "execution_count": 197,
   "metadata": {},
   "outputs": [
    {
     "name": "stdout",
     "output_type": "stream",
     "text": [
      "lr_confidence:  0.9727939773460534\n"
     ]
    }
   ],
   "source": [
    "lr_confidence = lr.score(x_test, y_test)\n",
    "print('lr_confidence: ', lr_confidence )"
   ]
  },
  {
   "cell_type": "code",
   "execution_count": 198,
   "metadata": {},
   "outputs": [
    {
     "name": "stdout",
     "output_type": "stream",
     "text": [
      "[[1.24110539]\n",
      " [1.32486029]]\n"
     ]
    }
   ],
   "source": [
    "# set x_forecast equal to the last 2 rows of the original data set from Close column\n",
    "x_forecast = np.array(df.drop(['Prediction'],1))[-forecast_out:]\n",
    "print(x_forecast)"
   ]
  },
  {
   "cell_type": "code",
   "execution_count": 199,
   "metadata": {},
   "outputs": [
    {
     "name": "stdout",
     "output_type": "stream",
     "text": [
      "[1.25469306 1.33935069]\n"
     ]
    }
   ],
   "source": [
    "# print lr model prediction for the next 2 days\n",
    "lr_prediction = lr.predict(x_forecast)\n",
    "print(lr_prediction)"
   ]
  },
  {
   "cell_type": "code",
   "execution_count": 200,
   "metadata": {},
   "outputs": [
    {
     "data": {
      "text/html": [
       "<div>\n",
       "<style scoped>\n",
       "    .dataframe tbody tr th:only-of-type {\n",
       "        vertical-align: middle;\n",
       "    }\n",
       "\n",
       "    .dataframe tbody tr th {\n",
       "        vertical-align: top;\n",
       "    }\n",
       "\n",
       "    .dataframe thead th {\n",
       "        text-align: right;\n",
       "    }\n",
       "</style>\n",
       "<table border=\"1\" class=\"dataframe\">\n",
       "  <thead>\n",
       "    <tr style=\"text-align: right;\">\n",
       "      <th></th>\n",
       "      <th>Close</th>\n",
       "      <th>Prediction</th>\n",
       "    </tr>\n",
       "    <tr>\n",
       "      <th>Date</th>\n",
       "      <th></th>\n",
       "      <th></th>\n",
       "    </tr>\n",
       "  </thead>\n",
       "  <tbody>\n",
       "    <tr>\n",
       "      <th>2017-10-02 23:59:59</th>\n",
       "      <td>0.025932</td>\n",
       "      <td>0.021931</td>\n",
       "    </tr>\n",
       "    <tr>\n",
       "      <th>2017-10-03 23:59:59</th>\n",
       "      <td>0.020816</td>\n",
       "      <td>0.021489</td>\n",
       "    </tr>\n",
       "    <tr>\n",
       "      <th>2017-10-04 23:59:59</th>\n",
       "      <td>0.021931</td>\n",
       "      <td>0.018539</td>\n",
       "    </tr>\n",
       "    <tr>\n",
       "      <th>2017-10-05 23:59:59</th>\n",
       "      <td>0.021489</td>\n",
       "      <td>0.020941</td>\n",
       "    </tr>\n",
       "    <tr>\n",
       "      <th>2017-10-06 23:59:59</th>\n",
       "      <td>0.018539</td>\n",
       "      <td>0.020477</td>\n",
       "    </tr>\n",
       "  </tbody>\n",
       "</table>\n",
       "</div>"
      ],
      "text/plain": [
       "                        Close  Prediction\n",
       "Date                                     \n",
       "2017-10-02 23:59:59  0.025932    0.021931\n",
       "2017-10-03 23:59:59  0.020816    0.021489\n",
       "2017-10-04 23:59:59  0.021931    0.018539\n",
       "2017-10-05 23:59:59  0.021489    0.020941\n",
       "2017-10-06 23:59:59  0.018539    0.020477"
      ]
     },
     "execution_count": 200,
     "metadata": {},
     "output_type": "execute_result"
    }
   ],
   "source": [
    "df.head()"
   ]
  },
  {
   "cell_type": "code",
   "execution_count": 201,
   "metadata": {},
   "outputs": [
    {
     "data": {
      "text/plain": [
       "<matplotlib.axes._subplots.AxesSubplot at 0x7ff0fe3f0a90>"
      ]
     },
     "execution_count": 201,
     "metadata": {},
     "output_type": "execute_result"
    },
    {
     "data": {
      "image/png": "[encoded data removed]",
      "text/plain": [
       "<Figure size 432x288 with 1 Axes>"
      ]
     },
     "metadata": {},
     "output_type": "display_data"
    }
   ],
   "source": [
    "df.plot()"
   ]
  },
  {
   "cell_type": "code",
   "execution_count": 206,
   "metadata": {},
   "outputs": [],
   "source": [
    "def ma21(crypto):\n",
    "    return crypto.Close.rolling(21).mean()"
   ]
  },
  {
   "cell_type": "code",
   "execution_count": 207,
   "metadata": {},
   "outputs": [],
   "source": [
    "df['MACD'] = df.Close.ewm(span=12, adjust=False).mean() - df.Close.ewm(span=26, adjust=False).mean()\n",
    "df['Signal'] = df['MACD'].ewm(span=9, adjust=False).mean()\n",
    "df['MA21'] = ma21(df)\n",
    "df['Upper_band'], df['Lower_band'] = bollinger_bands(df)\n",
    "df.dropna(inplace=True)"
   ]
  },
  {
   "cell_type": "code",
   "execution_count": 208,
   "metadata": {},
   "outputs": [],
   "source": [
    "def trading_history(stock, net, std=2):    \n",
    "    \n",
    "    # Bollinger band plot with EMA and original historical data\n",
    "    plt.figure(figsize=(16,5))\n",
    "    plt.style.use('seaborn-whitegrid')\n",
    "    plt.plot(stock.index, stock.Close, color='#3388cf', label='Price')\n",
    "    plt.plot(stock.index, stock.MA21, color='#ad6eff', label='Moving Average (21 days)')\n",
    "    plt.plot(stock.index, stock.Upper_band, color='#ffbd74', alpha=0.3)\n",
    "    plt.plot(stock.index, stock.Lower_band, color='#ffa33f', alpha=0.3)\n",
    "    plt.fill_between(stock.index, stock.Upper_band, stock.Lower_band, color='#ffa33f', alpha=0.1, label='Bollinger Band ({} STD)'.format(std))\n",
    "    \n",
    "    plt.title('Trading History', fontSize=15)\n",
    "    plt.ylabel('Price', fontSize=12)\n",
    "    plt.xlim([stock.index.min(), stock.index.max()])\n",
    "    \n",
    "    for i in net:\n",
    "        if i[2] == 1: color = '#ff005e'\n",
    "        else: color = '#4bd81d'\n",
    "        plt.plot_date(i[0], i[1], color=color)\n",
    "        \n",
    "    plt.plot_date([],[],label='Buy', c='#ff005e')\n",
    "    plt.plot_date([],[],label='Sell', c='#4bd81d')\n",
    "        \n",
    "    plt.legend(frameon=True, loc=1, ncol=1, fontsize=10, borderpad=.6)\n",
    "    plt.show()"
   ]
  },
  {
   "cell_type": "code",
   "execution_count": 209,
   "metadata": {},
   "outputs": [],
   "source": [
    "def macd_trading(stock, budget=15000, show_graph=True, show_return=True):\n",
    "    \n",
    "    state_check = lambda x, y: 1 if x > y else 0\n",
    "    stock = stock.reset_index()    \n",
    "    money = budget\n",
    "    prev_state = state_check(stock.loc[0].MACD, stock.loc[0].Signal)\n",
    "    stock_amt = 0\n",
    "    net = []\n",
    "\n",
    "    for i in range(1, len(stock)):\n",
    "\n",
    "        today = stock.iloc[i]\n",
    "        state = state_check(today.MACD, today.Signal)\n",
    "\n",
    "        if state != prev_state:\n",
    "\n",
    "            # BUY\n",
    "            if (today.MACD > today.Signal) and (money != 0):\n",
    "                stock_amt = int(money / today.Close)\n",
    "                money = 0\n",
    "                net.append([today.Date, today.Close, 1, stock_amt * today.Close])\n",
    "\n",
    "            # SELL\n",
    "            if (today.MACD < today.Signal) and (stock_amt != 0):\n",
    "                money = stock_amt * today.Close\n",
    "                stock_amt = 0\n",
    "                net.append([today.Date, today.Close, 0, money])\n",
    "\n",
    "        prev_state = state\n",
    "    \n",
    "    profit = net[-1][3] - budget\n",
    "    \n",
    "    if show_return == True:\n",
    "        print('Number of Trades: {}'.format(len(net)))\n",
    "        print('Time Frame: {} days'.format((net[-1][0] - net[0][0]).days))\n",
    "        print('Profit: ${:.2f} | {}%'.format(profit, round(profit/budget*100, 2)))\n",
    "\n",
    "    if show_graph == True:\n",
    "        trading_history(stock.set_index('Date'), net)\n",
    "\n",
    "    return profit, net "
   ]
  },
  {
   "cell_type": "code",
   "execution_count": 210,
   "metadata": {},
   "outputs": [
    {
     "name": "stdout",
     "output_type": "stream",
     "text": [
      "Number of Trades: 4\n",
      "Time Frame: 34 days\n",
      "Profit: $10849.38 | 72.33%\n"
     ]
    },
    {
     "data": {
      "image/png": "[encoded data removed]",
      "text/plain": [
       "<Figure size 1152x360 with 1 Axes>"
      ]
     },
     "metadata": {},
     "output_type": "display_data"
    }
   ],
   "source": [
    "profit, trades = macd_trading(df.loc['2020-12':'2021-01'])"
   ]
  },
  {
   "cell_type": "code",
   "execution_count": 211,
   "metadata": {},
   "outputs": [
    {
     "data": {
      "text/html": [
       "<div>\n",
       "<style scoped>\n",
       "    .dataframe tbody tr th:only-of-type {\n",
       "        vertical-align: middle;\n",
       "    }\n",
       "\n",
       "    .dataframe tbody tr th {\n",
       "        vertical-align: top;\n",
       "    }\n",
       "\n",
       "    .dataframe thead th {\n",
       "        text-align: right;\n",
       "    }\n",
       "</style>\n",
       "<table border=\"1\" class=\"dataframe\">\n",
       "  <thead>\n",
       "    <tr style=\"text-align: right;\">\n",
       "      <th></th>\n",
       "      <th>Close</th>\n",
       "      <th>Prediction</th>\n",
       "      <th>MACD</th>\n",
       "      <th>Signal</th>\n",
       "      <th>Upper_band</th>\n",
       "      <th>Lower_band</th>\n",
       "      <th>MA21</th>\n",
       "    </tr>\n",
       "    <tr>\n",
       "      <th>Date</th>\n",
       "      <th></th>\n",
       "      <th></th>\n",
       "      <th></th>\n",
       "      <th></th>\n",
       "      <th></th>\n",
       "      <th></th>\n",
       "      <th></th>\n",
       "    </tr>\n",
       "  </thead>\n",
       "  <tbody>\n",
       "    <tr>\n",
       "      <th>2021-02-21 23:59:59</th>\n",
       "      <td>1.100520</td>\n",
       "      <td>0.954709</td>\n",
       "      <td>0.162134</td>\n",
       "      <td>0.144908</td>\n",
       "      <td>1.211663</td>\n",
       "      <td>0.326591</td>\n",
       "      <td>0.769127</td>\n",
       "    </tr>\n",
       "    <tr>\n",
       "      <th>2021-02-22 23:59:59</th>\n",
       "      <td>1.099151</td>\n",
       "      <td>1.051657</td>\n",
       "      <td>0.165147</td>\n",
       "      <td>0.148956</td>\n",
       "      <td>1.233648</td>\n",
       "      <td>0.370998</td>\n",
       "      <td>0.802323</td>\n",
       "    </tr>\n",
       "    <tr>\n",
       "      <th>2021-02-23 23:59:59</th>\n",
       "      <td>0.954709</td>\n",
       "      <td>1.079116</td>\n",
       "      <td>0.154102</td>\n",
       "      <td>0.149985</td>\n",
       "      <td>1.227162</td>\n",
       "      <td>0.427814</td>\n",
       "      <td>0.827488</td>\n",
       "    </tr>\n",
       "    <tr>\n",
       "      <th>2021-02-24 23:59:59</th>\n",
       "      <td>1.051657</td>\n",
       "      <td>1.241105</td>\n",
       "      <td>0.151426</td>\n",
       "      <td>0.150273</td>\n",
       "      <td>1.225912</td>\n",
       "      <td>0.487184</td>\n",
       "      <td>0.856548</td>\n",
       "    </tr>\n",
       "    <tr>\n",
       "      <th>2021-02-25 23:59:59</th>\n",
       "      <td>1.079116</td>\n",
       "      <td>1.324860</td>\n",
       "      <td>0.149795</td>\n",
       "      <td>0.150178</td>\n",
       "      <td>1.215462</td>\n",
       "      <td>0.558401</td>\n",
       "      <td>0.886932</td>\n",
       "    </tr>\n",
       "  </tbody>\n",
       "</table>\n",
       "</div>"
      ],
      "text/plain": [
       "                        Close  Prediction      MACD    Signal  Upper_band  \\\n",
       "Date                                                                        \n",
       "2021-02-21 23:59:59  1.100520    0.954709  0.162134  0.144908    1.211663   \n",
       "2021-02-22 23:59:59  1.099151    1.051657  0.165147  0.148956    1.233648   \n",
       "2021-02-23 23:59:59  0.954709    1.079116  0.154102  0.149985    1.227162   \n",
       "2021-02-24 23:59:59  1.051657    1.241105  0.151426  0.150273    1.225912   \n",
       "2021-02-25 23:59:59  1.079116    1.324860  0.149795  0.150178    1.215462   \n",
       "\n",
       "                     Lower_band      MA21  \n",
       "Date                                       \n",
       "2021-02-21 23:59:59    0.326591  0.769127  \n",
       "2021-02-22 23:59:59    0.370998  0.802323  \n",
       "2021-02-23 23:59:59    0.427814  0.827488  \n",
       "2021-02-24 23:59:59    0.487184  0.856548  \n",
       "2021-02-25 23:59:59    0.558401  0.886932  "
      ]
     },
     "execution_count": 211,
     "metadata": {},
     "output_type": "execute_result"
    }
   ],
   "source": [
    "df.tail()"
   ]
  },
  {
   "cell_type": "code",
   "execution_count": 212,
   "metadata": {},
   "outputs": [],
   "source": [
    "def bb_trading(stock, budget=15000, u=0.03, l=0.03, show_graph=True, show_return=True):\n",
    "    \n",
    "    money = budget\n",
    "    stock = stock.reset_index()\n",
    "    net = []\n",
    "    for i in range(len(stock)):\n",
    "        today = stock.iloc[i]\n",
    "        \n",
    "        # Buy\n",
    "        if (today.Close < today.MA21) and (abs(1 - today.Close / today.Lower_band) < u):\n",
    "            if money > 0:\n",
    "                stock_amt = int(money / today.Close)\n",
    "                money = 0\n",
    "                net.append([today.Date, today.Close, 1, stock_amt * today.Close])\n",
    "\n",
    "        # Sell        \n",
    "        if (today.Close > today.MA21) and (abs(1 - today.Upper_band / today.Close) < l):\n",
    "            if money == 0:\n",
    "                money = stock_amt * today.Close\n",
    "                stock_amt = 0\n",
    "                net.append([today.Date, today.Close, 0, money])\n",
    "        \n",
    "    profit = net[-1][3] - budget\n",
    "    \n",
    "    if show_return == True:\n",
    "        print('Number of Trades: {}'.format(len(net)))\n",
    "        print('Time Frame: {} days'.format((net[-1][0] - net[0][0]).days))\n",
    "        print('Profit: ${:.2f} | {}%'.format(profit, round(profit/budget*100, 2)))\n",
    "\n",
    "    if show_graph == True:\n",
    "        trading_history(stock.set_index('Date'), net)\n",
    "\n",
    "    return profit, net"
   ]
  },
  {
   "cell_type": "code",
   "execution_count": 220,
   "metadata": {},
   "outputs": [
    {
     "name": "stdout",
     "output_type": "stream",
     "text": [
      "Number of Trades: 2\n",
      "Time Frame: 5 days\n",
      "Profit: $4436.39 | 29.58%\n"
     ]
    },
    {
     "data": {
      "image/png": "[encoded data removed]",
      "text/plain": [
       "<Figure size 1152x360 with 1 Axes>"
      ]
     },
     "metadata": {},
     "output_type": "display_data"
    }
   ],
   "source": [
    "profit, trades = bb_trading(df.loc['2020-12':'2021-01'], u=0.03, l=0.03)"
   ]
  },
  {
   "cell_type": "code",
   "execution_count": null,
   "metadata": {},
   "outputs": [],
   "source": []
  }
 ],
 "metadata": {
  "kernelspec": {
   "display_name": "Python 3",
   "language": "python",
   "name": "python3"
  },
  "language_info": {
   "codemirror_mode": {
    "name": "ipython",
    "version": 3
   },
   "file_extension": ".py",
   "mimetype": "text/x-python",
   "name": "python",
   "nbconvert_exporter": "python",
   "pygments_lexer": "ipython3",
   "version": "3.8.3"
  }
 },
 "nbformat": 4,
 "nbformat_minor": 4
}
