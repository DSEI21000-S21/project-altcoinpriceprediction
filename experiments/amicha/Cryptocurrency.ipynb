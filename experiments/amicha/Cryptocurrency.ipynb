{
 "cells": [
  {
   "cell_type": "markdown",
   "metadata": {},
   "source": [
    "# What is cryptocurrency?"
   ]
  },
  {
   "cell_type": "markdown",
   "metadata": {},
   "source": [
    "A cryptocurrency (or “crypto”) is a digital currency that can be used to buy goods and services, but uses an online ledger with strong cryptography which exists in the a form of computerized database, to secure online transactions. \\Securing online transactions is important, and this is done by controlling the creation of additional coins, and verifying the transfer of coin ownership."
   ]
  },
  {
   "cell_type": "markdown",
   "metadata": {},
   "source": [
    "# Formal definition of cryptoccurency"
   ]
  },
  {
   "cell_type": "markdown",
   "metadata": {},
   "source": [
    "According to Jan Lansky, a cryptocurrency is a system that meets six conditions:\n",
    "1. Does not require a central authority - its state is maintained through distributed consensus\n",
    "2. Keeps an overview of cryptocurrency units and their ownership\n",
    "3. Defines whether new cryptocurrency units can be created. If new cryptocurrency units can be created, the system defines the circumstances of their origin and how to determine the ownership of these new units\n",
    "4. Ownership of cryptocurrency units can be proved exclusively cryptographically.\n",
    "5. Allows transactions to be performed in which ownership of the cryptographic units is changed. A transaction statement can only be issued by an entity proving the current ownership of these units.\n",
    "6. If two different instructions for changing the ownership of the same cryptographic units are simultaneously entered, the system performs at most one of them"
   ]
  },
  {
   "cell_type": "markdown",
   "metadata": {},
   "source": [
    "# Dataset info"
   ]
  },
  {
   "cell_type": "markdown",
   "metadata": {},
   "source": [
    "- Date : date of observation\n",
    "- Open : Opening price on the given day\n",
    "- High : Highest price on the given day\n",
    "- Low : Lowest price on the given day\n",
    "- Close : Closing price on the given day\n",
    "- Volume : Volume of transactions on the given day\n",
    "- Market Cap : Market capitalization in USD"
   ]
  },
  {
   "cell_type": "markdown",
   "metadata": {},
   "source": [
    "# Questions to answer"
   ]
  },
  {
   "cell_type": "markdown",
   "metadata": {},
   "source": [
    "1. How did the historical prices / market capitalizations of various currencies change over time?\n",
    "2. Predicting the future price of the currencies\n",
    "3. Which currencies are more volatile and which ones are more stable?\n",
    "4. How does the price fluctuations of currencies correlate with each other?\n",
    "5. Seasonal trend in the price fluctuations"
   ]
  },
  {
   "cell_type": "markdown",
   "metadata": {},
   "source": [
    "#### References\n",
    "1. Lansky, Jan (January 2018). \"Possible State Approaches to Cryptocurrencies\". Journal of Systems Integration. 9/1: 19–31. doi:10.20470/jsi.v9i1.335. Archived from the original on 12 February 2018. Retrieved 11 February 2018."
   ]
  }
 ],
 "metadata": {
  "kernelspec": {
   "display_name": "Python 3",
   "language": "python",
   "name": "python3"
  },
  "language_info": {
   "codemirror_mode": {
    "name": "ipython",
    "version": 3
   },
   "file_extension": ".py",
   "mimetype": "text/x-python",
   "name": "python",
   "nbconvert_exporter": "python",
   "pygments_lexer": "ipython3",
   "version": "3.8.5"
  }
 },
 "nbformat": 4,
 "nbformat_minor": 4
}
