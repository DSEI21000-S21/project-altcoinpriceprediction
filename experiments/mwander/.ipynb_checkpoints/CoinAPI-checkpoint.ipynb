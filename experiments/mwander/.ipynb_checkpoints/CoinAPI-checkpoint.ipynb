{
 "cells": [
  {
   "cell_type": "markdown",
   "id": "77c97dfb",
   "metadata": {},
   "source": [
    "# CoinAPI"
   ]
  },
  {
   "cell_type": "code",
   "execution_count": 73,
   "id": "eea9003b",
   "metadata": {},
   "outputs": [],
   "source": [
    "import numpy as np\n",
    "import pandas as pd\n",
    "import matplotlib.pyplot as plt\n",
    "from sklearn.model_selection import train_test_split\n",
    "from sklearn.metrics import mean_squared_error\n",
    "import seaborn as sns\n",
    "from statsmodels.tsa.ar_model import AutoReg"
   ]
  },
  {
   "cell_type": "code",
   "execution_count": 65,
   "id": "237885b9",
   "metadata": {},
   "outputs": [],
   "source": [
    "import requests\n",
    "import json\n",
    "\n",
    "symbol_id = 'ADA'\n",
    "period_id = '1DAY'\n",
    "time_start = '2019-05-03T00:00:00'\n",
    "time_end = '2021-05-04T00:00:00'\n",
    "limit = '1000'\n",
    "\n",
    "url = f'https://rest.coinapi.io/v1/ohlcv/{symbol_id}/USD/history?period_id={period_id}&time_start={time_start}&time_end={time_end}&limit={limit}'\n",
    "#url = 'https://rest.coinapi.io/v1/symbols'\n",
    "\n",
    "headers = {\n",
    "  'Accepts': 'application/json',\n",
    "  'X-CoinAPI-Key': 'B578CC73-E598-48F9-AA88-86F637222F8D',\n",
    "}\n",
    "\n",
    "\n",
    "response = requests.get(url, headers=headers)\n",
    "data = json.loads(response.text)"
   ]
  },
  {
   "cell_type": "code",
   "execution_count": 66,
   "id": "601b464a",
   "metadata": {},
   "outputs": [],
   "source": [
    "df = pd.DataFrame(data)\n",
    "df = df.drop(['time_period_end', 'time_open', 'time_close'], axis=1)"
   ]
  },
  {
   "cell_type": "code",
   "execution_count": 67,
   "id": "3f315c55",
   "metadata": {},
   "outputs": [
    {
     "data": {
      "text/html": [
       "<div>\n",
       "<style scoped>\n",
       "    .dataframe tbody tr th:only-of-type {\n",
       "        vertical-align: middle;\n",
       "    }\n",
       "\n",
       "    .dataframe tbody tr th {\n",
       "        vertical-align: top;\n",
       "    }\n",
       "\n",
       "    .dataframe thead th {\n",
       "        text-align: right;\n",
       "    }\n",
       "</style>\n",
       "<table border=\"1\" class=\"dataframe\">\n",
       "  <thead>\n",
       "    <tr style=\"text-align: right;\">\n",
       "      <th></th>\n",
       "      <th>price_open</th>\n",
       "      <th>price_high</th>\n",
       "      <th>price_low</th>\n",
       "      <th>price_close</th>\n",
       "      <th>volume_traded</th>\n",
       "      <th>trades_count</th>\n",
       "    </tr>\n",
       "    <tr>\n",
       "      <th>Date</th>\n",
       "      <th></th>\n",
       "      <th></th>\n",
       "      <th></th>\n",
       "      <th></th>\n",
       "      <th></th>\n",
       "      <th></th>\n",
       "    </tr>\n",
       "  </thead>\n",
       "  <tbody>\n",
       "    <tr>\n",
       "      <th>2019-05-03</th>\n",
       "      <td>0.067104</td>\n",
       "      <td>0.074000</td>\n",
       "      <td>0.066500</td>\n",
       "      <td>0.068826</td>\n",
       "      <td>1.105210e+07</td>\n",
       "      <td>1673</td>\n",
       "    </tr>\n",
       "    <tr>\n",
       "      <th>2019-05-04</th>\n",
       "      <td>0.069083</td>\n",
       "      <td>0.070949</td>\n",
       "      <td>0.065203</td>\n",
       "      <td>0.066269</td>\n",
       "      <td>8.567252e+06</td>\n",
       "      <td>1145</td>\n",
       "    </tr>\n",
       "    <tr>\n",
       "      <th>2019-05-05</th>\n",
       "      <td>0.066259</td>\n",
       "      <td>0.067266</td>\n",
       "      <td>0.064820</td>\n",
       "      <td>0.065500</td>\n",
       "      <td>3.166601e+06</td>\n",
       "      <td>388</td>\n",
       "    </tr>\n",
       "    <tr>\n",
       "      <th>2019-05-06</th>\n",
       "      <td>0.065252</td>\n",
       "      <td>0.068150</td>\n",
       "      <td>0.062891</td>\n",
       "      <td>0.066150</td>\n",
       "      <td>4.416848e+06</td>\n",
       "      <td>774</td>\n",
       "    </tr>\n",
       "    <tr>\n",
       "      <th>2019-05-07</th>\n",
       "      <td>0.066446</td>\n",
       "      <td>0.068239</td>\n",
       "      <td>0.062900</td>\n",
       "      <td>0.063100</td>\n",
       "      <td>5.940077e+06</td>\n",
       "      <td>1024</td>\n",
       "    </tr>\n",
       "  </tbody>\n",
       "</table>\n",
       "</div>"
      ],
      "text/plain": [
       "            price_open  price_high  price_low  price_close  volume_traded  \\\n",
       "Date                                                                        \n",
       "2019-05-03    0.067104    0.074000   0.066500     0.068826   1.105210e+07   \n",
       "2019-05-04    0.069083    0.070949   0.065203     0.066269   8.567252e+06   \n",
       "2019-05-05    0.066259    0.067266   0.064820     0.065500   3.166601e+06   \n",
       "2019-05-06    0.065252    0.068150   0.062891     0.066150   4.416848e+06   \n",
       "2019-05-07    0.066446    0.068239   0.062900     0.063100   5.940077e+06   \n",
       "\n",
       "            trades_count  \n",
       "Date                      \n",
       "2019-05-03          1673  \n",
       "2019-05-04          1145  \n",
       "2019-05-05           388  \n",
       "2019-05-06           774  \n",
       "2019-05-07          1024  "
      ]
     },
     "execution_count": 67,
     "metadata": {},
     "output_type": "execute_result"
    }
   ],
   "source": [
    "df['Date'] = pd.to_datetime(df['time_period_start']).dt.date\n",
    "df = df.set_index(pd.DatetimeIndex(df['Date'])).drop(['time_period_start', 'Date'], axis=1)\n",
    "df.head()"
   ]
  },
  {
   "cell_type": "code",
   "execution_count": 95,
   "id": "9484aeff",
   "metadata": {},
   "outputs": [
    {
     "data": {
      "text/plain": [
       "<AxesSubplot:xlabel='Date'>"
      ]
     },
     "execution_count": 95,
     "metadata": {},
     "output_type": "execute_result"
    },
    {
     "data": {
      "image/png": "[encoded data removed]",
      "text/plain": [
       "<Figure size 432x288 with 1 Axes>"
      ]
     },
     "metadata": {
      "needs_background": "light"
     },
     "output_type": "display_data"
    }
   ],
   "source": [
    "df['price_close'].plot()"
   ]
  },
  {
   "cell_type": "code",
   "execution_count": 94,
   "id": "26aff294",
   "metadata": {},
   "outputs": [],
   "source": [
    "X = df['price_close'].apply(np.log).values\n",
    "forecast = 7\n",
    "X_train, X_test = X[1:len(X)-forecast], X[len(X)-forecast:]"
   ]
  },
  {
   "cell_type": "code",
   "execution_count": 141,
   "id": "75803120",
   "metadata": {},
   "outputs": [],
   "source": [
    "def hit_rate(true, pred):\n",
    "    is_neg = lambda x: 0 if x > 0 else 1\n",
    "    pos_true = []\n",
    "    pos_hat = []\n",
    "    for t in range(len(true)-1):\n",
    "        pos_true.append(is_neg(np.sign(true[t] - true[t+1])))\n",
    "        pos_hat.append(is_neg(np.sign(pred[t] - pred[t+1])))\n",
    "    subtracted = np.abs(np.subtract(pos_hat, pos_true))\n",
    "    rate = 1 - sum(subtracted)/len(subtracted)\n",
    "    return rate\n",
    "\n",
    "def model_selection(data, forecast):\n",
    "    X_train, X_test = data[1:len(data)-forecast], data[len(data)-forecast:]\n",
    "    \n",
    "    # find lag values which maximize hit rate\n",
    "    rates = []\n",
    "    for lag in range(1,int(len(X_train)/2)-1):\n",
    "        autoreg = AutoReg(X_train, lags=lag, old_names=True).fit()\n",
    "        X_hat = autoreg.forecast(forecast)\n",
    "        rates.append(hit_rate(X_test, X_hat))\n",
    "    \n",
    "    max_hit_lags = [i for i, j in enumerate(rates) if j == max(rates)]\n",
    "    \n",
    "    # find lag values which minimize MSE\n",
    "    mses = []\n",
    "    for lag in max_hit_lags:\n",
    "        autoreg = AutoReg(X_train, lags=lag, old_names=True).fit()\n",
    "        X_hat = autoreg.forecast(forecast)\n",
    "        mses.append(mean_squared_error(X_test, X_hat))\n",
    "    \n",
    "    min_mse_lags = [max_hit_lags[i] for i, j in enumerate(mses) if j == min(mses)]\n",
    "    \n",
    "    # Fit model\n",
    "    autoreg = AutoReg(X_train, lags=min_mse_lags[0], old_names=True).fit()\n",
    "    X_hat = autoreg.forecast(forecast)\n",
    "    \n",
    "    plt.plot(X_test, marker='o', label='Observed')\n",
    "    plt.plot(X_hat, marker='o', label='Predicted')\n",
    "    plt.legend()\n",
    "    print(\"Lag:\", min_mse_lags[0])\n",
    "    print(\"Hit rate:\", rates[min_mse_lags[0]])\n",
    "    print(\"Mean Squared Error:\", min(mses))\n",
    "    \n",
    "    return min_mse_lags[0]"
   ]
  },
  {
   "cell_type": "code",
   "execution_count": 144,
   "id": "c51a432a",
   "metadata": {},
   "outputs": [
    {
     "name": "stdout",
     "output_type": "stream",
     "text": [
      "Lag: 17\n",
      "Hit rate: 0.8333333333333334\n",
      "Mean Squared Error: 0.0026602372205052106\n"
     ]
    },
    {
     "data": {
      "image/png": "[encoded data removed]",
      "text/plain": [
       "<Figure size 432x288 with 1 Axes>"
      ]
     },
     "metadata": {
      "needs_background": "light"
     },
     "output_type": "display_data"
    }
   ],
   "source": [
    "lag_order = model_selection(X, 7)"
   ]
  },
  {
   "cell_type": "code",
   "execution_count": 158,
   "id": "96c1cc29",
   "metadata": {},
   "outputs": [
    {
     "data": {
      "text/plain": [
       "[<matplotlib.lines.Line2D at 0x286e2994df0>]"
      ]
     },
     "execution_count": 158,
     "metadata": {},
     "output_type": "execute_result"
    },
    {
     "data": {
      "image/png": "[encoded data removed]",
      "text/plain": [
       "<Figure size 432x288 with 1 Axes>"
      ]
     },
     "metadata": {
      "needs_background": "light"
     },
     "output_type": "display_data"
    }
   ],
   "source": [
    "autoreg = AutoReg(X[:-7], lags=lag_order, old_names=True).fit()\n",
    "X_hat = autoreg.forecast(7)\n",
    "plt.plot(X_hat, marker='o')"
   ]
  }
 ],
 "metadata": {
  "kernelspec": {
   "display_name": "Python 3",
   "language": "python",
   "name": "python3"
  },
  "language_info": {
   "codemirror_mode": {
    "name": "ipython",
    "version": 3
   },
   "file_extension": ".py",
   "mimetype": "text/x-python",
   "name": "python",
   "nbconvert_exporter": "python",
   "pygments_lexer": "ipython3",
   "version": "3.8.8"
  }
 },
 "nbformat": 4,
 "nbformat_minor": 5
}
