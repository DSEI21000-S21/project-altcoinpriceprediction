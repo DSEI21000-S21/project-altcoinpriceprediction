{
 "cells": [
  {
   "cell_type": "markdown",
   "id": "aaf1e459",
   "metadata": {},
   "source": [
    "# CoinAPI"
   ]
  },
  {
   "cell_type": "code",
   "execution_count": 2,
   "id": "4f23155c",
   "metadata": {},
   "outputs": [],
   "source": [
    "import numpy as np\n",
    "import pandas as pd\n",
    "import matplotlib.pyplot as plt\n",
    "from sklearn.model_selection import train_test_split\n",
    "from sklearn.metrics import mean_squared_error\n",
    "import seaborn as sns\n",
    "from statsmodels.tsa.ar_model import AutoReg\n",
    "import matplotlib.dates as mdates\n",
    "import datetime"
   ]
  },
  {
   "cell_type": "code",
   "execution_count": 63,
   "id": "1aa84e23",
   "metadata": {},
   "outputs": [],
   "source": [
    "import requests\n",
    "import json\n",
    "\n",
    "with open('key', 'r') as file:\n",
    "    ckey = file.read()\n",
    "symbol_id = 'ADA'\n",
    "period_id = '1DAY'\n",
    "time_start = '2019-05-03T00:00:00'\n",
    "time_end = '2021-05-06T00:00:00'\n",
    "limit = '1000'\n",
    "\n",
    "url = f'https://rest.coinapi.io/v1/ohlcv/{symbol_id}/USD/history?period_id={period_id}&time_start={time_start}&time_end={time_end}&limit={limit}'\n",
    "#url = 'https://rest.coinapi.io/v1/symbols'\n",
    "\n",
    "headers = {\n",
    "  'Accepts': 'application/json',\n",
    "  'X-CoinAPI-Key': ckey,\n",
    "}\n",
    "\n",
    "\n",
    "response = requests.get(url, headers=headers)\n",
    "data = json.loads(response.text)"
   ]
  },
  {
   "cell_type": "code",
   "execution_count": 4,
   "id": "281e9464",
   "metadata": {},
   "outputs": [],
   "source": [
    "df = pd.DataFrame(data)\n",
    "df = df.drop(['time_period_end', 'time_open', 'time_close'], axis=1)"
   ]
  },
  {
   "cell_type": "code",
   "execution_count": 5,
   "id": "6afcb87a",
   "metadata": {},
   "outputs": [
    {
     "data": {
      "text/html": [
       "<div>\n",
       "<style scoped>\n",
       "    .dataframe tbody tr th:only-of-type {\n",
       "        vertical-align: middle;\n",
       "    }\n",
       "\n",
       "    .dataframe tbody tr th {\n",
       "        vertical-align: top;\n",
       "    }\n",
       "\n",
       "    .dataframe thead th {\n",
       "        text-align: right;\n",
       "    }\n",
       "</style>\n",
       "<table border=\"1\" class=\"dataframe\">\n",
       "  <thead>\n",
       "    <tr style=\"text-align: right;\">\n",
       "      <th></th>\n",
       "      <th>price_open</th>\n",
       "      <th>price_high</th>\n",
       "      <th>price_low</th>\n",
       "      <th>price_close</th>\n",
       "      <th>volume_traded</th>\n",
       "      <th>trades_count</th>\n",
       "    </tr>\n",
       "    <tr>\n",
       "      <th>Date</th>\n",
       "      <th></th>\n",
       "      <th></th>\n",
       "      <th></th>\n",
       "      <th></th>\n",
       "      <th></th>\n",
       "      <th></th>\n",
       "    </tr>\n",
       "  </thead>\n",
       "  <tbody>\n",
       "    <tr>\n",
       "      <th>2019-05-03</th>\n",
       "      <td>0.067104</td>\n",
       "      <td>0.074000</td>\n",
       "      <td>0.066500</td>\n",
       "      <td>0.068826</td>\n",
       "      <td>1.105210e+07</td>\n",
       "      <td>1673</td>\n",
       "    </tr>\n",
       "    <tr>\n",
       "      <th>2019-05-04</th>\n",
       "      <td>0.069083</td>\n",
       "      <td>0.070949</td>\n",
       "      <td>0.065203</td>\n",
       "      <td>0.066269</td>\n",
       "      <td>8.567252e+06</td>\n",
       "      <td>1145</td>\n",
       "    </tr>\n",
       "    <tr>\n",
       "      <th>2019-05-05</th>\n",
       "      <td>0.066259</td>\n",
       "      <td>0.067266</td>\n",
       "      <td>0.064820</td>\n",
       "      <td>0.065500</td>\n",
       "      <td>3.166601e+06</td>\n",
       "      <td>388</td>\n",
       "    </tr>\n",
       "    <tr>\n",
       "      <th>2019-05-06</th>\n",
       "      <td>0.065252</td>\n",
       "      <td>0.068150</td>\n",
       "      <td>0.062891</td>\n",
       "      <td>0.066150</td>\n",
       "      <td>4.416848e+06</td>\n",
       "      <td>774</td>\n",
       "    </tr>\n",
       "    <tr>\n",
       "      <th>2019-05-07</th>\n",
       "      <td>0.066446</td>\n",
       "      <td>0.068239</td>\n",
       "      <td>0.062900</td>\n",
       "      <td>0.063100</td>\n",
       "      <td>5.940077e+06</td>\n",
       "      <td>1024</td>\n",
       "    </tr>\n",
       "  </tbody>\n",
       "</table>\n",
       "</div>"
      ],
      "text/plain": [
       "            price_open  price_high  price_low  price_close  volume_traded  \\\n",
       "Date                                                                        \n",
       "2019-05-03    0.067104    0.074000   0.066500     0.068826   1.105210e+07   \n",
       "2019-05-04    0.069083    0.070949   0.065203     0.066269   8.567252e+06   \n",
       "2019-05-05    0.066259    0.067266   0.064820     0.065500   3.166601e+06   \n",
       "2019-05-06    0.065252    0.068150   0.062891     0.066150   4.416848e+06   \n",
       "2019-05-07    0.066446    0.068239   0.062900     0.063100   5.940077e+06   \n",
       "\n",
       "            trades_count  \n",
       "Date                      \n",
       "2019-05-03          1673  \n",
       "2019-05-04          1145  \n",
       "2019-05-05           388  \n",
       "2019-05-06           774  \n",
       "2019-05-07          1024  "
      ]
     },
     "execution_count": 5,
     "metadata": {},
     "output_type": "execute_result"
    }
   ],
   "source": [
    "df['Date'] = pd.to_datetime(df['time_period_start']).dt.date\n",
    "df = df.set_index(pd.DatetimeIndex(df['Date'])).drop(['time_period_start', 'Date'], axis=1)\n",
    "df.head()"
   ]
  },
  {
   "cell_type": "code",
   "execution_count": 212,
   "id": "68519d86",
   "metadata": {},
   "outputs": [
    {
     "data": {
      "text/html": [
       "<div>\n",
       "<style scoped>\n",
       "    .dataframe tbody tr th:only-of-type {\n",
       "        vertical-align: middle;\n",
       "    }\n",
       "\n",
       "    .dataframe tbody tr th {\n",
       "        vertical-align: top;\n",
       "    }\n",
       "\n",
       "    .dataframe thead th {\n",
       "        text-align: right;\n",
       "    }\n",
       "</style>\n",
       "<table border=\"1\" class=\"dataframe\">\n",
       "  <thead>\n",
       "    <tr style=\"text-align: right;\">\n",
       "      <th></th>\n",
       "      <th>price_open</th>\n",
       "      <th>price_high</th>\n",
       "      <th>price_low</th>\n",
       "      <th>price_close</th>\n",
       "      <th>volume_traded</th>\n",
       "      <th>trades_count</th>\n",
       "    </tr>\n",
       "    <tr>\n",
       "      <th>Date</th>\n",
       "      <th></th>\n",
       "      <th></th>\n",
       "      <th></th>\n",
       "      <th></th>\n",
       "      <th></th>\n",
       "      <th></th>\n",
       "    </tr>\n",
       "  </thead>\n",
       "  <tbody>\n",
       "    <tr>\n",
       "      <th>2021-05-01</th>\n",
       "      <td>1.3556</td>\n",
       "      <td>1.3700</td>\n",
       "      <td>1.310000</td>\n",
       "      <td>1.3537</td>\n",
       "      <td>5.661885e+07</td>\n",
       "      <td>114347</td>\n",
       "    </tr>\n",
       "    <tr>\n",
       "      <th>2021-05-02</th>\n",
       "      <td>1.3535</td>\n",
       "      <td>1.3575</td>\n",
       "      <td>1.295265</td>\n",
       "      <td>1.3284</td>\n",
       "      <td>4.534578e+07</td>\n",
       "      <td>91729</td>\n",
       "    </tr>\n",
       "    <tr>\n",
       "      <th>2021-05-03</th>\n",
       "      <td>1.3284</td>\n",
       "      <td>1.3816</td>\n",
       "      <td>1.322300</td>\n",
       "      <td>1.3634</td>\n",
       "      <td>7.371871e+07</td>\n",
       "      <td>132431</td>\n",
       "    </tr>\n",
       "    <tr>\n",
       "      <th>2021-05-04</th>\n",
       "      <td>1.3643</td>\n",
       "      <td>1.3681</td>\n",
       "      <td>1.257660</td>\n",
       "      <td>1.2719</td>\n",
       "      <td>1.145964e+08</td>\n",
       "      <td>186570</td>\n",
       "    </tr>\n",
       "    <tr>\n",
       "      <th>2021-05-05</th>\n",
       "      <td>1.2716</td>\n",
       "      <td>1.5000</td>\n",
       "      <td>1.260900</td>\n",
       "      <td>1.4813</td>\n",
       "      <td>2.003925e+08</td>\n",
       "      <td>283363</td>\n",
       "    </tr>\n",
       "  </tbody>\n",
       "</table>\n",
       "</div>"
      ],
      "text/plain": [
       "            price_open  price_high  price_low  price_close  volume_traded  \\\n",
       "Date                                                                        \n",
       "2021-05-01      1.3556      1.3700   1.310000       1.3537   5.661885e+07   \n",
       "2021-05-02      1.3535      1.3575   1.295265       1.3284   4.534578e+07   \n",
       "2021-05-03      1.3284      1.3816   1.322300       1.3634   7.371871e+07   \n",
       "2021-05-04      1.3643      1.3681   1.257660       1.2719   1.145964e+08   \n",
       "2021-05-05      1.2716      1.5000   1.260900       1.4813   2.003925e+08   \n",
       "\n",
       "            trades_count  \n",
       "Date                      \n",
       "2021-05-01        114347  \n",
       "2021-05-02         91729  \n",
       "2021-05-03        132431  \n",
       "2021-05-04        186570  \n",
       "2021-05-05        283363  "
      ]
     },
     "execution_count": 212,
     "metadata": {},
     "output_type": "execute_result"
    }
   ],
   "source": [
    "df.tail()"
   ]
  },
  {
   "cell_type": "code",
   "execution_count": 213,
   "id": "ff95c9d0",
   "metadata": {},
   "outputs": [
    {
     "data": {
      "text/plain": [
       "<AxesSubplot:xlabel='Date'>"
      ]
     },
     "execution_count": 213,
     "metadata": {},
     "output_type": "execute_result"
    },
    {
     "data": {
      "image/png": "[encoded data removed]",
      "text/plain": [
       "<Figure size 432x288 with 1 Axes>"
      ]
     },
     "metadata": {
      "needs_background": "light"
     },
     "output_type": "display_data"
    }
   ],
   "source": [
    "df['price_close'].plot()"
   ]
  },
  {
   "cell_type": "markdown",
   "id": "c06c05fb",
   "metadata": {},
   "source": [
    "## Simple Autoregression Model Selection Function"
   ]
  },
  {
   "cell_type": "code",
   "execution_count": 6,
   "id": "e6f8b84e",
   "metadata": {},
   "outputs": [],
   "source": [
    "def hit_rate(true, pred):\n",
    "    is_neg = lambda x: 0 if x > 0 else 1\n",
    "    pos_true = []\n",
    "    pos_hat = []\n",
    "    for t in range(len(true)-1):\n",
    "        pos_true.append(is_neg(np.sign(true[t] - true[t+1])))\n",
    "        pos_hat.append(is_neg(np.sign(pred[t] - pred[t+1])))\n",
    "    subtracted = np.abs(np.subtract(pos_hat, pos_true))\n",
    "    rate = 1 - sum(subtracted)/len(subtracted)\n",
    "    return rate\n",
    "\n",
    "def find_returns(true, pred):\n",
    "    ret_true = []\n",
    "    ret_hat = []\n",
    "    for t in range(len(true)-1):\n",
    "        ret_true.append(((true[t+1] - true[t])/true[t])*100)\n",
    "        ret_hat.append(((pred[t+1] - pred[t])/pred[t])*100)\n",
    "    mse = mean_squared_error(ret_true, ret_hat)\n",
    "    return ret_true, ret_hat, mse\n",
    "        \n",
    "\n",
    "def model_selection(data, forecast, dates, optimization='RET'):\n",
    "    X_train, X_test = data[1:len(data)-forecast], data[len(data)-forecast:]\n",
    "    dates_test = dates[len(dates)-forecast:]\n",
    "    # find lag values which maximize hit rate\n",
    "    rates = []\n",
    "    for lag in range(1,int(len(X_train)/2)-1):\n",
    "        autoreg = AutoReg(X_train, lags=lag, old_names=True).fit()\n",
    "        X_hat = autoreg.forecast(forecast)\n",
    "        rates.append(hit_rate(X_test, X_hat))\n",
    "    \n",
    "    max_hit_lags = [i for i, j in enumerate(rates) if j == max(rates)]\n",
    "    \n",
    "    # find lag values which maximize correct returns\n",
    "    returns = []\n",
    "    for lag in max_hit_lags:\n",
    "        autoreg = AutoReg(X_train, lags=lag, old_names=True).fit()\n",
    "        X_hat = np.exp(autoreg.forecast(forecast))\n",
    "        returns.append(find_returns(np.exp(X_test), X_hat))\n",
    "    \n",
    "    if optimization == 'RET':\n",
    "        mses = [ret[2] for ret in returns]\n",
    "        min_mse_lags = [max_hit_lags[i] for i,j in enumerate(mses) if j == min(mses)]\n",
    "        \n",
    "    elif optimization == 'MSE':\n",
    "        # find lag values which minimize close price MSE\n",
    "        mses = []\n",
    "        for lag in max_hit_lags:\n",
    "            autoreg = AutoReg(X_train, lags=lag, old_names=True).fit()\n",
    "            X_hat = autoreg.forecast(forecast)\n",
    "            mses.append(mean_squared_error(X_test, X_hat))\n",
    "    \n",
    "        min_mse_lags = [max_hit_lags[i] for i, j in enumerate(mses) if j == min(mses)]\n",
    "    \n",
    "    best_returns = [returns[i] for i,j in enumerate(mses) if j == min(mses)]\n",
    "    \n",
    "    # Fit model\n",
    "    lag_order = min_mse_lags[0]\n",
    "    autoreg = AutoReg(X_train, lags=lag_order, old_names=True).fit()\n",
    "    X_hat = autoreg.forecast(forecast)\n",
    "    \n",
    "    df_returns = pd.DataFrame(data={'returns_true':best_returns[0][0] , 'returns_pred':best_returns[0][1]})\n",
    "    \n",
    "    plt.gca().xaxis.set_major_formatter(mdates.DateFormatter('%m/%d/%Y'))\n",
    "    #plt.gca().xaxis.set_major_locator(mdates.DayLocator())\n",
    "    plt.plot(dates_test, np.exp(X_test), marker='o', label='Observed')\n",
    "    plt.plot(dates_test, np.exp(X_hat), marker='o', label='Predicted')\n",
    "    plt.title(f'{len(X_test)}-Day Prediction')\n",
    "    plt.ylabel('Close Price (USD)')\n",
    "    plt.xlabel('Date')\n",
    "    plt.xticks(fontsize=10)\n",
    "    plt.legend()\n",
    "    plt.gcf().autofmt_xdate()\n",
    "    \n",
    "    print(\"Lag:\", lag_order)\n",
    "    print(\"Hit rate:\", rates[lag_order])\n",
    "    print(\"Mean Squared Error:\", min(mses))\n",
    "    print(df_returns.head())\n",
    "    \n",
    "    \n",
    "    return min_mse_lags[0], df_returns"
   ]
  },
  {
   "cell_type": "markdown",
   "id": "de0049d7",
   "metadata": {},
   "source": [
    "## Transaction Cost / Profit"
   ]
  },
  {
   "cell_type": "code",
   "execution_count": 58,
   "id": "a7173df1",
   "metadata": {},
   "outputs": [],
   "source": [
    "def hilo(pred_data):\n",
    "    actions = []\n",
    "    bought = False\n",
    "    for t in range(len(pred_data)):\n",
    "        if t == (len(pred_data)-1):\n",
    "            if pred_data[t] > pred_data[t-1]:\n",
    "                if bought:\n",
    "                    actions.append((pred_data[t], 'sell'))\n",
    "            else:\n",
    "                if bought:\n",
    "                    pass\n",
    "                else:\n",
    "                    actions.append((pred_data[t], 'wait'))\n",
    "            continue\n",
    "        if pred_data[t+1] >= pred_data[t]:\n",
    "            if bought:\n",
    "                actions.append((pred_data[t], 'hold'))\n",
    "            else:\n",
    "                actions.append((pred_data[t], 'buy'))\n",
    "                bought = True\n",
    "        else:\n",
    "            if bought:\n",
    "                actions.append((pred_data[t], 'sell'))\n",
    "                bought = False\n",
    "            else:\n",
    "                actions.append((pred_data[t], 'wait'))\n",
    "    return actions\n",
    "\n",
    "def transactions(actions, returns, capital):\n",
    "    money = capital\n",
    "    holdings = []\n",
    "    total_percent = 0.0\n",
    "    r = 0\n",
    "    for action in actions:\n",
    "        if 'buy' in action[1]:\n",
    "            bought = True\n",
    "            total_percent += returns[r]\n",
    "            holdings.append(money)\n",
    "        elif 'sell' in action[1]:\n",
    "            money = money + (money*(total_percent/100))\n",
    "            total_percent = 0.0\n",
    "            holdings.append(money)\n",
    "        elif 'hold' in action[1]:\n",
    "            total_percent += returns[r]\n",
    "            holdings.append(money + (money*(total_percent/100)))\n",
    "        r += 1\n",
    "    return holdings, money - capital\n",
    "            \n",
    "def short_term_trade_ar(data, forecast, capital, dates, optimization='RET'):\n",
    "    \n",
    "    # model selection (lag order based on minimization)\n",
    "    lag_order, df_returns = model_selection(data, forecast, dates, optimization)\n",
    "    \n",
    "    autoreg = AutoReg(X, lags=lag_order, old_names=True).fit()\n",
    "    X_hat = np.exp(autoreg.forecast(forecast))\n",
    "    \n",
    "    # plotting new out-of-set prediction\n",
    "    forecasted_dates = [dates[-1] + datetime.timedelta(days=t) for t in range(1,forecast+1)]\n",
    "    \n",
    "    trade_actions = hilo(X_hat)\n",
    "    \n",
    "    \n",
    "    plt.figure(0)\n",
    "    plt.gca().xaxis.set_major_formatter(mdates.DateFormatter('%m/%d/%Y'))\n",
    "    #plt.gca().xaxis.set_major_locator(mdates.DayLocator())\n",
    "    plt.plot(forecasted_dates,X_hat, marker='o')\n",
    "    plt.xlabel('Date')\n",
    "    plt.ylabel('Close Price (USD)')\n",
    "    plt.title(f'{forecast}-Day Forecast')\n",
    "    plt.xticks(fontsize=10)\n",
    "    plt.gcf().autofmt_xdate()\n",
    "    \n",
    "    returns = []\n",
    "    for t in range(len(X_hat)-1):\n",
    "        returns.append(((X_hat[t+1] - X_hat[t])/X_hat[t])*100)\n",
    "        \n",
    "    prices, profit = transactions(trade_actions, returns, capital)\n",
    "    print(f\"Profit (USD):{profit}\")\n",
    "    \n",
    "    \n",
    "    \n",
    "    return trade_actions, returns, profit\n",
    "        "
   ]
  },
  {
   "cell_type": "code",
   "execution_count": 48,
   "id": "650faf15",
   "metadata": {},
   "outputs": [
    {
     "name": "stdout",
     "output_type": "stream",
     "text": [
      "Lag: 283\n",
      "Hit rate: 1.0\n",
      "Mean Squared Error: 0.0001781971957236702\n",
      "   returns_true  returns_pred\n",
      "0     16.463558     16.476908\n"
     ]
    },
    {
     "data": {
      "image/png": "[encoded data removed]",
      "text/plain": [
       "<Figure size 432x288 with 1 Axes>"
      ]
     },
     "metadata": {
      "needs_background": "light"
     },
     "output_type": "display_data"
    },
    {
     "data": {
      "image/png": "[encoded data removed]",
      "text/plain": [
       "<Figure size 432x288 with 1 Axes>"
      ]
     },
     "metadata": {
      "needs_background": "light"
     },
     "output_type": "display_data"
    }
   ],
   "source": [
    "X = df['price_close'].apply(np.log).values\n",
    "hilo_info, returns_info = short_term_trade_ar(X, 2, 1000, df.index, 'RET')"
   ]
  },
  {
   "cell_type": "code",
   "execution_count": 49,
   "id": "f531a630",
   "metadata": {},
   "outputs": [
    {
     "name": "stdout",
     "output_type": "stream",
     "text": [
      "[(1.5159311285750312, 'buy'), (1.60372510131538, 'sell')]\n",
      "[5.791422254312746]\n"
     ]
    },
    {
     "data": {
      "text/html": [
       "<div>\n",
       "<style scoped>\n",
       "    .dataframe tbody tr th:only-of-type {\n",
       "        vertical-align: middle;\n",
       "    }\n",
       "\n",
       "    .dataframe tbody tr th {\n",
       "        vertical-align: top;\n",
       "    }\n",
       "\n",
       "    .dataframe thead th {\n",
       "        text-align: right;\n",
       "    }\n",
       "</style>\n",
       "<table border=\"1\" class=\"dataframe\">\n",
       "  <thead>\n",
       "    <tr style=\"text-align: right;\">\n",
       "      <th></th>\n",
       "      <th>0</th>\n",
       "      <th>1</th>\n",
       "    </tr>\n",
       "  </thead>\n",
       "  <tbody>\n",
       "    <tr>\n",
       "      <th>0</th>\n",
       "      <td>1.515931</td>\n",
       "      <td>buy</td>\n",
       "    </tr>\n",
       "    <tr>\n",
       "      <th>1</th>\n",
       "      <td>1.603725</td>\n",
       "      <td>sell</td>\n",
       "    </tr>\n",
       "  </tbody>\n",
       "</table>\n",
       "</div>"
      ],
      "text/plain": [
       "          0     1\n",
       "0  1.515931   buy\n",
       "1  1.603725  sell"
      ]
     },
     "execution_count": 49,
     "metadata": {},
     "output_type": "execute_result"
    }
   ],
   "source": [
    "print(hilo_info)\n",
    "print(returns_info)\n",
    "pd.DataFrame(hilo_info)"
   ]
  },
  {
   "cell_type": "code",
   "execution_count": 57,
   "id": "e32df609",
   "metadata": {},
   "outputs": [
    {
     "data": {
      "text/html": [
       "<div>\n",
       "<style scoped>\n",
       "    .dataframe tbody tr th:only-of-type {\n",
       "        vertical-align: middle;\n",
       "    }\n",
       "\n",
       "    .dataframe tbody tr th {\n",
       "        vertical-align: top;\n",
       "    }\n",
       "\n",
       "    .dataframe thead th {\n",
       "        text-align: right;\n",
       "    }\n",
       "</style>\n",
       "<table border=\"1\" class=\"dataframe\">\n",
       "  <thead>\n",
       "    <tr style=\"text-align: right;\">\n",
       "      <th></th>\n",
       "      <th>0</th>\n",
       "      <th>1</th>\n",
       "      <th>2</th>\n",
       "    </tr>\n",
       "  </thead>\n",
       "  <tbody>\n",
       "    <tr>\n",
       "      <th>0</th>\n",
       "      <td>1.515931</td>\n",
       "      <td>1.603725</td>\n",
       "      <td>100.000000</td>\n",
       "    </tr>\n",
       "    <tr>\n",
       "      <th>1</th>\n",
       "      <td>buy</td>\n",
       "      <td>sell</td>\n",
       "      <td>105.791422</td>\n",
       "    </tr>\n",
       "  </tbody>\n",
       "</table>\n",
       "</div>"
      ],
      "text/plain": [
       "          0         1           2\n",
       "0  1.515931  1.603725  100.000000\n",
       "1       buy      sell  105.791422"
      ]
     },
     "execution_count": 57,
     "metadata": {},
     "output_type": "execute_result"
    }
   ],
   "source": [
    "transactions(hilo_info, returns_info, 100)\n",
    "pd.DataFrame("
   ]
  },
  {
   "cell_type": "code",
   "execution_count": 38,
   "id": "31382377",
   "metadata": {
    "scrolled": true
   },
   "outputs": [
    {
     "data": {
      "text/plain": [
       "[2.891970534553761,\n",
       " -0.17291610293206397,\n",
       " 2.8800655732132645,\n",
       " -0.4192309800186083,\n",
       " 1.6224364214374205,\n",
       " 1.2537460454880376,\n",
       " 0.16537073160581967,\n",
       " 1.0407200172233102,\n",
       " 1.4202752550285516,\n",
       " 2.067303229468744,\n",
       " 0.9002271666563856,\n",
       " 0.6391272575494142,\n",
       " 1.1015626808059804]"
      ]
     },
     "execution_count": 38,
     "metadata": {},
     "output_type": "execute_result"
    }
   ],
   "source": [
    "returns_info"
   ]
  }
 ],
 "metadata": {
  "kernelspec": {
   "display_name": "Python 3",
   "language": "python",
   "name": "python3"
  },
  "language_info": {
   "codemirror_mode": {
    "name": "ipython",
    "version": 3
   },
   "file_extension": ".py",
   "mimetype": "text/x-python",
   "name": "python",
   "nbconvert_exporter": "python",
   "pygments_lexer": "ipython3",
   "version": "3.8.8"
  }
 },
 "nbformat": 4,
 "nbformat_minor": 5
}
