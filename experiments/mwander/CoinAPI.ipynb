{
 "cells": [
  {
   "cell_type": "markdown",
   "id": "2538de62",
   "metadata": {},
   "source": [
    "# CoinAPI"
   ]
  },
  {
   "cell_type": "code",
   "execution_count": 73,
   "id": "c577c7a8",
   "metadata": {},
   "outputs": [],
   "source": [
    "import numpy as np\n",
    "import pandas as pd\n",
    "import matplotlib.pyplot as plt\n",
    "from sklearn.model_selection import train_test_split\n",
    "from sklearn.metrics import mean_squared_error\n",
    "import seaborn as sns\n",
    "from statsmodels.tsa.ar_model import AutoReg"
   ]
  },
  {
   "cell_type": "code",
   "execution_count": 65,
   "id": "28fea57d",
   "metadata": {},
   "outputs": [],
   "source": [
    "import requests\n",
    "import json\n",
    "\n",
    "symbol_id = 'ADA'\n",
    "period_id = '1DAY'\n",
    "time_start = '2019-05-03T00:00:00'\n",
    "time_end = '2021-05-04T00:00:00'\n",
    "limit = '1000'\n",
    "\n",
    "url = f'https://rest.coinapi.io/v1/ohlcv/{symbol_id}/USD/history?period_id={period_id}&time_start={time_start}&time_end={time_end}&limit={limit}'\n",
    "#url = 'https://rest.coinapi.io/v1/symbols'\n",
    "\n",
    "headers = {\n",
    "  'Accepts': 'application/json',\n",
    "  'X-CoinAPI-Key': 'B578CC73-E598-48F9-AA88-86F637222F8D',\n",
    "}\n",
    "\n",
    "\n",
    "response = requests.get(url, headers=headers)\n",
    "data = json.loads(response.text)"
   ]
  },
  {
   "cell_type": "code",
   "execution_count": 66,
   "id": "8908e7e2",
   "metadata": {},
   "outputs": [],
   "source": [
    "df = pd.DataFrame(data)\n",
    "df = df.drop(['time_period_end', 'time_open', 'time_close'], axis=1)"
   ]
  },
  {
   "cell_type": "code",
   "execution_count": 67,
   "id": "b31fd973",
   "metadata": {},
   "outputs": [
    {
     "data": {
      "text/html": [
       "<div>\n",
       "<style scoped>\n",
       "    .dataframe tbody tr th:only-of-type {\n",
       "        vertical-align: middle;\n",
       "    }\n",
       "\n",
       "    .dataframe tbody tr th {\n",
       "        vertical-align: top;\n",
       "    }\n",
       "\n",
       "    .dataframe thead th {\n",
       "        text-align: right;\n",
       "    }\n",
       "</style>\n",
       "<table border=\"1\" class=\"dataframe\">\n",
       "  <thead>\n",
       "    <tr style=\"text-align: right;\">\n",
       "      <th></th>\n",
       "      <th>price_open</th>\n",
       "      <th>price_high</th>\n",
       "      <th>price_low</th>\n",
       "      <th>price_close</th>\n",
       "      <th>volume_traded</th>\n",
       "      <th>trades_count</th>\n",
       "    </tr>\n",
       "    <tr>\n",
       "      <th>Date</th>\n",
       "      <th></th>\n",
       "      <th></th>\n",
       "      <th></th>\n",
       "      <th></th>\n",
       "      <th></th>\n",
       "      <th></th>\n",
       "    </tr>\n",
       "  </thead>\n",
       "  <tbody>\n",
       "    <tr>\n",
       "      <th>2019-05-03</th>\n",
       "      <td>0.067104</td>\n",
       "      <td>0.074000</td>\n",
       "      <td>0.066500</td>\n",
       "      <td>0.068826</td>\n",
       "      <td>1.105210e+07</td>\n",
       "      <td>1673</td>\n",
       "    </tr>\n",
       "    <tr>\n",
       "      <th>2019-05-04</th>\n",
       "      <td>0.069083</td>\n",
       "      <td>0.070949</td>\n",
       "      <td>0.065203</td>\n",
       "      <td>0.066269</td>\n",
       "      <td>8.567252e+06</td>\n",
       "      <td>1145</td>\n",
       "    </tr>\n",
       "    <tr>\n",
       "      <th>2019-05-05</th>\n",
       "      <td>0.066259</td>\n",
       "      <td>0.067266</td>\n",
       "      <td>0.064820</td>\n",
       "      <td>0.065500</td>\n",
       "      <td>3.166601e+06</td>\n",
       "      <td>388</td>\n",
       "    </tr>\n",
       "    <tr>\n",
       "      <th>2019-05-06</th>\n",
       "      <td>0.065252</td>\n",
       "      <td>0.068150</td>\n",
       "      <td>0.062891</td>\n",
       "      <td>0.066150</td>\n",
       "      <td>4.416848e+06</td>\n",
       "      <td>774</td>\n",
       "    </tr>\n",
       "    <tr>\n",
       "      <th>2019-05-07</th>\n",
       "      <td>0.066446</td>\n",
       "      <td>0.068239</td>\n",
       "      <td>0.062900</td>\n",
       "      <td>0.063100</td>\n",
       "      <td>5.940077e+06</td>\n",
       "      <td>1024</td>\n",
       "    </tr>\n",
       "  </tbody>\n",
       "</table>\n",
       "</div>"
      ],
      "text/plain": [
       "            price_open  price_high  price_low  price_close  volume_traded  \\\n",
       "Date                                                                        \n",
       "2019-05-03    0.067104    0.074000   0.066500     0.068826   1.105210e+07   \n",
       "2019-05-04    0.069083    0.070949   0.065203     0.066269   8.567252e+06   \n",
       "2019-05-05    0.066259    0.067266   0.064820     0.065500   3.166601e+06   \n",
       "2019-05-06    0.065252    0.068150   0.062891     0.066150   4.416848e+06   \n",
       "2019-05-07    0.066446    0.068239   0.062900     0.063100   5.940077e+06   \n",
       "\n",
       "            trades_count  \n",
       "Date                      \n",
       "2019-05-03          1673  \n",
       "2019-05-04          1145  \n",
       "2019-05-05           388  \n",
       "2019-05-06           774  \n",
       "2019-05-07          1024  "
      ]
     },
     "execution_count": 67,
     "metadata": {},
     "output_type": "execute_result"
    }
   ],
   "source": [
    "df['Date'] = pd.to_datetime(df['time_period_start']).dt.date\n",
    "df = df.set_index(pd.DatetimeIndex(df['Date'])).drop(['time_period_start', 'Date'], axis=1)\n",
    "df.head()"
   ]
  },
  {
   "cell_type": "code",
   "execution_count": 160,
   "id": "005c5ddf",
   "metadata": {},
   "outputs": [
    {
     "data": {
      "text/html": [
       "<div>\n",
       "<style scoped>\n",
       "    .dataframe tbody tr th:only-of-type {\n",
       "        vertical-align: middle;\n",
       "    }\n",
       "\n",
       "    .dataframe tbody tr th {\n",
       "        vertical-align: top;\n",
       "    }\n",
       "\n",
       "    .dataframe thead th {\n",
       "        text-align: right;\n",
       "    }\n",
       "</style>\n",
       "<table border=\"1\" class=\"dataframe\">\n",
       "  <thead>\n",
       "    <tr style=\"text-align: right;\">\n",
       "      <th></th>\n",
       "      <th>price_open</th>\n",
       "      <th>price_high</th>\n",
       "      <th>price_low</th>\n",
       "      <th>price_close</th>\n",
       "      <th>volume_traded</th>\n",
       "      <th>trades_count</th>\n",
       "    </tr>\n",
       "    <tr>\n",
       "      <th>Date</th>\n",
       "      <th></th>\n",
       "      <th></th>\n",
       "      <th></th>\n",
       "      <th></th>\n",
       "      <th></th>\n",
       "      <th></th>\n",
       "    </tr>\n",
       "  </thead>\n",
       "  <tbody>\n",
       "    <tr>\n",
       "      <th>2021-04-29</th>\n",
       "      <td>1.3390</td>\n",
       "      <td>1.412400</td>\n",
       "      <td>1.267658</td>\n",
       "      <td>1.3076</td>\n",
       "      <td>1.323343e+08</td>\n",
       "      <td>158451</td>\n",
       "    </tr>\n",
       "    <tr>\n",
       "      <th>2021-04-30</th>\n",
       "      <td>1.3066</td>\n",
       "      <td>1.373046</td>\n",
       "      <td>1.287936</td>\n",
       "      <td>1.3556</td>\n",
       "      <td>7.658501e+07</td>\n",
       "      <td>123272</td>\n",
       "    </tr>\n",
       "    <tr>\n",
       "      <th>2021-05-01</th>\n",
       "      <td>1.3556</td>\n",
       "      <td>1.370000</td>\n",
       "      <td>1.310000</td>\n",
       "      <td>1.3537</td>\n",
       "      <td>5.661885e+07</td>\n",
       "      <td>114347</td>\n",
       "    </tr>\n",
       "    <tr>\n",
       "      <th>2021-05-02</th>\n",
       "      <td>1.3535</td>\n",
       "      <td>1.357500</td>\n",
       "      <td>1.295265</td>\n",
       "      <td>1.3284</td>\n",
       "      <td>4.534578e+07</td>\n",
       "      <td>91729</td>\n",
       "    </tr>\n",
       "    <tr>\n",
       "      <th>2021-05-03</th>\n",
       "      <td>1.3284</td>\n",
       "      <td>1.381600</td>\n",
       "      <td>1.322300</td>\n",
       "      <td>1.3634</td>\n",
       "      <td>7.371871e+07</td>\n",
       "      <td>132431</td>\n",
       "    </tr>\n",
       "  </tbody>\n",
       "</table>\n",
       "</div>"
      ],
      "text/plain": [
       "            price_open  price_high  price_low  price_close  volume_traded  \\\n",
       "Date                                                                        \n",
       "2021-04-29      1.3390    1.412400   1.267658       1.3076   1.323343e+08   \n",
       "2021-04-30      1.3066    1.373046   1.287936       1.3556   7.658501e+07   \n",
       "2021-05-01      1.3556    1.370000   1.310000       1.3537   5.661885e+07   \n",
       "2021-05-02      1.3535    1.357500   1.295265       1.3284   4.534578e+07   \n",
       "2021-05-03      1.3284    1.381600   1.322300       1.3634   7.371871e+07   \n",
       "\n",
       "            trades_count  \n",
       "Date                      \n",
       "2021-04-29        158451  \n",
       "2021-04-30        123272  \n",
       "2021-05-01        114347  \n",
       "2021-05-02         91729  \n",
       "2021-05-03        132431  "
      ]
     },
     "execution_count": 160,
     "metadata": {},
     "output_type": "execute_result"
    }
   ],
   "source": [
    "df.tail()"
   ]
  },
  {
   "cell_type": "code",
   "execution_count": 95,
   "id": "6eddd0fe",
   "metadata": {},
   "outputs": [
    {
     "data": {
      "text/plain": [
       "<AxesSubplot:xlabel='Date'>"
      ]
     },
     "execution_count": 95,
     "metadata": {},
     "output_type": "execute_result"
    },
    {
     "data": {
      "image/png": "[encoded data removed]",
      "text/plain": [
       "<Figure size 432x288 with 1 Axes>"
      ]
     },
     "metadata": {
      "needs_background": "light"
     },
     "output_type": "display_data"
    }
   ],
   "source": [
    "df['price_close'].plot()"
   ]
  },
  {
   "cell_type": "code",
   "execution_count": 94,
   "id": "8ca5c350",
   "metadata": {},
   "outputs": [],
   "source": [
    "X = df['price_close'].apply(np.log).values\n",
    "forecast = 7\n",
    "X_train, X_test = X[1:len(X)-forecast], X[len(X)-forecast:]"
   ]
  },
  {
   "cell_type": "code",
   "execution_count": 171,
   "id": "d45fc41c",
   "metadata": {},
   "outputs": [],
   "source": [
    "def hit_rate(true, pred):\n",
    "    is_neg = lambda x: 0 if x > 0 else 1\n",
    "    pos_true = []\n",
    "    pos_hat = []\n",
    "    for t in range(len(true)-1):\n",
    "        pos_true.append(is_neg(np.sign(true[t] - true[t+1])))\n",
    "        pos_hat.append(is_neg(np.sign(pred[t] - pred[t+1])))\n",
    "    subtracted = np.abs(np.subtract(pos_hat, pos_true))\n",
    "    rate = 1 - sum(subtracted)/len(subtracted)\n",
    "    return rate\n",
    "\n",
    "def model_selection(data, forecast):\n",
    "    X_train, X_test = data[1:len(data)-forecast], data[len(data)-forecast:]\n",
    "    \n",
    "    # find lag values which maximize hit rate\n",
    "    rates = []\n",
    "    for lag in range(1,int(len(X_train)/2)-1):\n",
    "        autoreg = AutoReg(X_train, lags=lag, old_names=True).fit()\n",
    "        X_hat = autoreg.forecast(forecast)\n",
    "        rates.append(hit_rate(X_test, X_hat))\n",
    "    \n",
    "    max_hit_lags = [i for i, j in enumerate(rates) if j == max(rates)]\n",
    "    \n",
    "    # find lag values which minimize MSE\n",
    "    mses = []\n",
    "    for lag in max_hit_lags:\n",
    "        autoreg = AutoReg(X_train, lags=lag, old_names=True).fit()\n",
    "        X_hat = autoreg.forecast(forecast)\n",
    "        mses.append(mean_squared_error(X_test, X_hat))\n",
    "    \n",
    "    min_mse_lags = [max_hit_lags[i] for i, j in enumerate(mses) if j == min(mses)]\n",
    "    \n",
    "    # Fit model\n",
    "    autoreg = AutoReg(X_train, lags=min_mse_lags[0], old_names=True).fit()\n",
    "    X_hat = autoreg.forecast(forecast)\n",
    "    \n",
    "    plt.plot(X_test, marker='o', label='Observed')\n",
    "    plt.plot(X_hat, marker='o', label='Predicted')\n",
    "    plt.legend()\n",
    "    print(\"Lag:\", min_mse_lags[0])\n",
    "    print(\"Hit rate:\", rates[min_mse_lags[0]])\n",
    "    print(\"Mean Squared Error:\", min(mses))\n",
    "    \n",
    "    return min_mse_lags[0]"
   ]
  },
  {
   "cell_type": "code",
   "execution_count": 172,
   "id": "c5185143",
   "metadata": {},
   "outputs": [
    {
     "name": "stdout",
     "output_type": "stream",
     "text": [
      "Lag: 17\n",
      "Hit rate: 0.8333333333333334\n",
      "Mean Squared Error: 0.0026602372205052106\n"
     ]
    },
    {
     "data": {
      "image/png": "[encoded data removed]",
      "text/plain": [
       "<Figure size 432x288 with 1 Axes>"
      ]
     },
     "metadata": {
      "needs_background": "light"
     },
     "output_type": "display_data"
    }
   ],
   "source": [
    "lag_order = model_selection(X, 7)"
   ]
  },
  {
   "cell_type": "code",
   "execution_count": 173,
   "id": "982ec01e",
   "metadata": {},
   "outputs": [
    {
     "data": {
      "text/plain": [
       "Text(0.5, 0, 'Days Since ')"
      ]
     },
     "execution_count": 173,
     "metadata": {},
     "output_type": "execute_result"
    },
    {
     "data": {
      "image/png": "[encoded data removed]",
      "text/plain": [
       "<Figure size 432x288 with 1 Axes>"
      ]
     },
     "metadata": {
      "needs_background": "light"
     },
     "output_type": "display_data"
    }
   ],
   "source": [
    "autoreg = AutoReg(X, lags=lag_order, old_names=True).fit()\n",
    "X_hat = autoreg.forecast(7)\n",
    "plt.plot(np.exp(X_hat), marker='o')\n",
    "plt.xlabel('Days Since ')"
   ]
  },
  {
   "cell_type": "code",
   "execution_count": 161,
   "id": "16d85104",
   "metadata": {},
   "outputs": [
    {
     "data": {
      "text/plain": [
       "array([0.068826, 0.066269, 0.0655  , 0.06615 , 0.0631  , 0.064019,\n",
       "       0.061305, 0.063069, 0.075305, 0.070487, 0.072947, 0.0849  ,\n",
       "       0.094181, 0.087906, 0.083012, 0.0789  , 0.086824, 0.085107,\n",
       "       0.084652, 0.07726 , 0.080885, 0.08099 , 0.080427, 0.086162,\n",
       "       0.09048 , 0.093   , 0.090921, 0.083934, 0.089212, 0.090178,\n",
       "       0.0965  , 0.087513, 0.082288, 0.082756, 0.083005, 0.085436,\n",
       "       0.083839, 0.079137, 0.085481, 0.088085, 0.096481, 0.0893  ,\n",
       "       0.090591, 0.091441, 0.092117, 0.093448, 0.0887  , 0.08974 ,\n",
       "       0.087526, 0.089762, 0.093867, 0.096167, 0.0978  , 0.09596 ,\n",
       "       0.096416, 0.084912, 0.08855 , 0.08953 , 0.082022, 0.08311 ,\n",
       "       0.080532, 0.082733, 0.077477, 0.0765  , 0.07726 , 0.080156,\n",
       "       0.080242, 0.078143, 0.071533, 0.064872, 0.069532, 0.06664 ,\n",
       "       0.062183, 0.059247, 0.051754, 0.055107, 0.058694, 0.059908,\n",
       "       0.062769, 0.061185, 0.05938 , 0.055618, 0.05873 , 0.058702,\n",
       "       0.0629  , 0.05978 , 0.05935 , 0.060293, 0.059986, 0.060128,\n",
       "       0.05872 , 0.057556, 0.05764 , 0.056348, 0.056418, 0.053462,\n",
       "       0.052031, 0.052091, 0.0476  , 0.05183 , 0.054842, 0.053   ,\n",
       "       0.052577, 0.047036, 0.047422, 0.046711, 0.047345, 0.050574,\n",
       "       0.050144, 0.04919 , 0.047186, 0.049299, 0.0499  , 0.050102,\n",
       "       0.04942 , 0.049663, 0.049798, 0.04588 , 0.04468 , 0.044719,\n",
       "       0.044879, 0.04455 , 0.045469, 0.046908, 0.045371, 0.044323,\n",
       "       0.044406, 0.04606 , 0.046643, 0.04688 , 0.046531, 0.04472 ,\n",
       "       0.045471, 0.045981, 0.046566, 0.046578, 0.047156, 0.048939,\n",
       "       0.052953, 0.052335, 0.052506, 0.051818, 0.048976, 0.046158,\n",
       "       0.037537, 0.038967, 0.037857, 0.03931 , 0.0387  , 0.037458,\n",
       "       0.038933, 0.038302, 0.039471, 0.038273, 0.039527, 0.039546,\n",
       "       0.038879, 0.041681, 0.04135 , 0.042741, 0.041654, 0.040094,\n",
       "       0.040477, 0.041126, 0.041522, 0.039661, 0.038593, 0.039226,\n",
       "       0.038049, 0.039027, 0.039594, 0.039275, 0.03876 , 0.036382,\n",
       "       0.037423, 0.041165, 0.040832, 0.042219, 0.042309, 0.043248,\n",
       "       0.041704, 0.04138 , 0.042219, 0.042507, 0.041844, 0.04317 ,\n",
       "       0.04436 , 0.04493 , 0.043381, 0.042086, 0.04227 , 0.043933,\n",
       "       0.0431  , 0.043571, 0.04304 , 0.042866, 0.043971, 0.043946,\n",
       "       0.045007, 0.043178, 0.0422  , 0.040901, 0.038273, 0.036936,\n",
       "       0.03781 , 0.035114, 0.0359  , 0.036679, 0.039045, 0.039195,\n",
       "       0.041256, 0.040458, 0.039632, 0.03801 , 0.037807, 0.037239,\n",
       "       0.037729, 0.038318, 0.038535, 0.038677, 0.037331, 0.036451,\n",
       "       0.036691, 0.036528, 0.037113, 0.036148, 0.036474, 0.034155,\n",
       "       0.03155 , 0.034281, 0.032976, 0.033798, 0.033124, 0.034462,\n",
       "       0.032914, 0.033951, 0.033337, 0.034075, 0.032897, 0.033649,\n",
       "       0.034274, 0.033341, 0.032672, 0.033411, 0.032693, 0.033847,\n",
       "       0.034301, 0.034487, 0.037379, 0.037139, 0.036445, 0.036198,\n",
       "       0.036955, 0.036778, 0.03779 , 0.036843, 0.041724, 0.04286 ,\n",
       "       0.041389, 0.044911, 0.044933, 0.042077, 0.044136, 0.04625 ,\n",
       "       0.045461, 0.04333 , 0.044966, 0.043141, 0.04453 , 0.047713,\n",
       "       0.05301 , 0.053121, 0.0561  , 0.053794, 0.056096, 0.055797,\n",
       "       0.057025, 0.055781, 0.059166, 0.059942, 0.059857, 0.060046,\n",
       "       0.062004, 0.060408, 0.063813, 0.068361, 0.06892 , 0.070851,\n",
       "       0.063761, 0.061897, 0.060309, 0.062902, 0.0575  , 0.058215,\n",
       "       0.058809, 0.058516, 0.061802, 0.058642, 0.056381, 0.049195,\n",
       "       0.049404, 0.048864, 0.047284, 0.045723, 0.049083, 0.04868 ,\n",
       "       0.04879 , 0.051059, 0.05154 , 0.048979, 0.042818, 0.041489,\n",
       "       0.041307, 0.039746, 0.023319, 0.028419, 0.025698, 0.027022,\n",
       "       0.024215, 0.026006, 0.026146, 0.03043 , 0.029412, 0.029427,\n",
       "       0.027165, 0.029141, 0.030254, 0.029495, 0.030917, 0.028937,\n",
       "       0.029928, 0.028166, 0.029702, 0.030575, 0.031   , 0.031946,\n",
       "       0.032262, 0.032592, 0.032005, 0.036084, 0.035191, 0.036509,\n",
       "       0.03617 , 0.033161, 0.033529, 0.0335  , 0.033205, 0.033021,\n",
       "       0.0318  , 0.034398, 0.0345  , 0.036565, 0.0356  , 0.03399 ,\n",
       "       0.034635, 0.036665, 0.04081 , 0.041764, 0.04217 , 0.0459  ,\n",
       "       0.046617, 0.046957, 0.05155 , 0.047481, 0.050994, 0.05097 ,\n",
       "       0.048973, 0.049587, 0.049542, 0.04907 , 0.051281, 0.052144,\n",
       "       0.051513, 0.047705, 0.047944, 0.050492, 0.051678, 0.051111,\n",
       "       0.05028 , 0.051055, 0.051267, 0.054204, 0.056897, 0.056877,\n",
       "       0.052086, 0.055704, 0.054901, 0.051478, 0.05384 , 0.053603,\n",
       "       0.055055, 0.064835, 0.064433, 0.077038, 0.074002, 0.081078,\n",
       "       0.078558, 0.085333, 0.0889  , 0.085221, 0.086166, 0.086606,\n",
       "       0.086475, 0.08306 , 0.083609, 0.075099, 0.079141, 0.079   ,\n",
       "       0.076279, 0.078207, 0.079065, 0.083155, 0.081991, 0.079831,\n",
       "       0.079401, 0.078343, 0.08385 , 0.082599, 0.082445, 0.081446,\n",
       "       0.08047 , 0.077255, 0.080205, 0.083865, 0.083837, 0.097   ,\n",
       "       0.093   , 0.0966  , 0.100138, 0.098425, 0.105176, 0.117618,\n",
       "       0.130113, 0.124183, 0.11866 , 0.12536 , 0.127061, 0.124305,\n",
       "       0.132186, 0.130503, 0.125903, 0.122566, 0.122996, 0.124047,\n",
       "       0.117803, 0.123316, 0.1245  , 0.124177, 0.122149, 0.143972,\n",
       "       0.148672, 0.139   , 0.1491  , 0.140019, 0.14156 , 0.140104,\n",
       "       0.145155, 0.134879, 0.140988, 0.143588, 0.142424, 0.1447  ,\n",
       "       0.139049, 0.146922, 0.145336, 0.143873, 0.136846, 0.13662 ,\n",
       "       0.139768, 0.138517, 0.138408, 0.138938, 0.140726, 0.137218,\n",
       "       0.129678, 0.134305, 0.123109, 0.125193, 0.121538, 0.123714,\n",
       "       0.11252 , 0.114312, 0.107363, 0.109315, 0.11644 , 0.117619,\n",
       "       0.122566, 0.124504, 0.115147, 0.095056, 0.101794, 0.08992 ,\n",
       "       0.09262 , 0.09348 , 0.091067, 0.093289, 0.097115, 0.096935,\n",
       "       0.097709, 0.095081, 0.096678, 0.093201, 0.091431, 0.094186,\n",
       "       0.091098, 0.0914  , 0.089416, 0.079894, 0.081547, 0.076527,\n",
       "       0.082657, 0.097014, 0.095525, 0.101343, 0.100433, 0.1012  ,\n",
       "       0.10136 , 0.098138, 0.092936, 0.093332, 0.096881, 0.097573,\n",
       "       0.092979, 0.093708, 0.09633 , 0.101469, 0.104967, 0.10661 ,\n",
       "       0.109512, 0.109427, 0.10719 , 0.1067  , 0.104188, 0.105921,\n",
       "       0.107476, 0.108702, 0.102457, 0.106149, 0.110951, 0.108105,\n",
       "       0.108059, 0.106595, 0.103145, 0.102641, 0.099   , 0.095347,\n",
       "       0.093396, 0.093183, 0.098273, 0.09246 , 0.093665, 0.095597,\n",
       "       0.097698, 0.109411, 0.101338, 0.106518, 0.1054  , 0.105919,\n",
       "       0.106046, 0.10478 , 0.106539, 0.104397, 0.100516, 0.1039  ,\n",
       "       0.109706, 0.106694, 0.10595 , 0.118538, 0.13379 , 0.146129,\n",
       "       0.154502, 0.167378, 0.155216, 0.140736, 0.141822, 0.165275,\n",
       "       0.167087, 0.172279, 0.155525, 0.158589, 0.164211, 0.147778,\n",
       "       0.160067, 0.158762, 0.153981, 0.141   , 0.148118, 0.141806,\n",
       "       0.1392  , 0.14414 , 0.153765, 0.15858 , 0.153999, 0.168444,\n",
       "       0.163492, 0.165283, 0.164523, 0.162371, 0.1528  , 0.156969,\n",
       "       0.13663 , 0.153249, 0.15746 , 0.158137, 0.15406 , 0.17605 ,\n",
       "       0.190482, 0.183967, 0.181689, 0.17555 , 0.177523, 0.206796,\n",
       "       0.2261  , 0.259869, 0.334207, 0.299293, 0.304143, 0.331768,\n",
       "       0.30154 , 0.275419, 0.288926, 0.312503, 0.311178, 0.302767,\n",
       "       0.350409, 0.381833, 0.370589, 0.368518, 0.375427, 0.308   ,\n",
       "       0.349574, 0.34562 , 0.353761, 0.343   , 0.344232, 0.3125  ,\n",
       "       0.345002, 0.347549, 0.364039, 0.345201, 0.408881, 0.42539 ,\n",
       "       0.44265 , 0.440175, 0.541   , 0.635   , 0.66356 , 0.678177,\n",
       "       0.70669 , 0.941623, 0.929935, 0.928184, 0.9137  , 0.845862,\n",
       "       0.859795, 0.871539, 0.893023, 0.913916, 0.926   , 1.116133,\n",
       "       1.10084 , 1.098356, 0.96314 , 1.049579, 1.072966, 1.242939,\n",
       "       1.318693, 1.315604, 1.296865, 1.225994, 1.215688, 1.112608,\n",
       "       1.158052, 1.12848 , 1.132198, 1.118559, 1.199001, 1.132359,\n",
       "       1.125934, 1.032901, 1.100964, 1.05333 , 1.031434, 1.25    ,\n",
       "       1.379147, 1.230974, 1.3076  , 1.2013  , 1.1885  , 1.1027  ,\n",
       "       1.1178  , 1.0674  , 1.0963  , 1.2144  , 1.1768  , 1.1903  ,\n",
       "       1.2032  , 1.2135  , 1.1934  , 1.1842  , 1.1908  , 1.1637  ,\n",
       "       1.1817  , 1.2123  , 1.2566  , 1.1745  , 1.2195  , 1.2027  ,\n",
       "       1.2176  , 1.2647  , 1.3153  , 1.414   , 1.4512  , 1.4803  ,\n",
       "       1.413   , 1.3772  , 1.2804  , 1.1963  , 1.2689  , 1.2042  ,\n",
       "       1.1459  , 1.16    , 1.1047  , 1.0927  , 1.239   ])"
      ]
     },
     "execution_count": 161,
     "metadata": {},
     "output_type": "execute_result"
    }
   ],
   "source": [
    "np.exp(X[:-7])"
   ]
  }
 ],
 "metadata": {
  "kernelspec": {
   "display_name": "Python 3",
   "language": "python",
   "name": "python3"
  },
  "language_info": {
   "codemirror_mode": {
    "name": "ipython",
    "version": 3
   },
   "file_extension": ".py",
   "mimetype": "text/x-python",
   "name": "python",
   "nbconvert_exporter": "python",
   "pygments_lexer": "ipython3",
   "version": "3.8.8"
  }
 },
 "nbformat": 4,
 "nbformat_minor": 5
}
