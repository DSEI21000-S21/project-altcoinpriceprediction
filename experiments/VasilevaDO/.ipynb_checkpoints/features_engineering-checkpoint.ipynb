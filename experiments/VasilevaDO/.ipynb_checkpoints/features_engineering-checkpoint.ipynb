{
 "cells": [
  {
   "cell_type": "code",
   "execution_count": 1,
   "metadata": {},
   "outputs": [],
   "source": [
    "import pandas as pd\n",
    "from sklearn import preprocessing\n",
    "\n"
   ]
  },
  {
   "cell_type": "code",
   "execution_count": 2,
   "metadata": {},
   "outputs": [],
   "source": [
    "gain = lambda x: x if x > 0 else 0 # works as a map function or in list comprehension\n",
    "loss = lambda x: abs(x) if x < 0 else 0 # works as a map function or in list comprehension\n",
    "# Relative Strength Index \n",
    "def rsi(crypto):    \n",
    "    # Create a list, fill first 14 values with 'None'\n",
    "    rsi_list = [None for i in range(14)]\n",
    "    # Change as an input\n",
    "    crypro = crypto.Change\n",
    "    \n",
    "    # Calculating first RSI\n",
    "    avg_gain = sum([i for i in crypto[1:15] if i > 0])/14\n",
    "    avg_loss = sum([abs(i) for i in crypto[1:15] if i < 0])/14\n",
    "    rs = avg_gain / avg_loss\n",
    "    rsi = 100 - ( 100 / ( 1 + rs ))\n",
    "    rsi_list.append(rsi)\n",
    "    \n",
    "    # Calculating following RSI's\n",
    "    for i in range(15, len(crypto)):\n",
    "        avg_gain = (avg_gain * 13 + gain(crypto[i]))/14\n",
    "        avg_loss = (avg_loss * 13 + loss(crypto[i]))/14\n",
    "        rs = avg_gain / avg_loss\n",
    "        rsi = 100 - ( 100 / ( 1 + rs ))\n",
    "        rsi_list.append(rsi)\n",
    "    \n",
    "    return rsi_list   \n",
    " \n",
    "# Moving Average Convergence/Divergence        \n",
    "def macd(crypto):\n",
    "    exp1 = bit_data.Close.ewm(span=12, adjust=False).mean()\n",
    "    exp2 = bit_data.Close.ewm(span=26, adjust=False).mean()\n",
    "    macd = exp1-exp2\n",
    "    signal = macd.ewm(span=9, adjust=False).mean()\n",
    "    return macd, signal\n",
    " \n",
    "# Bollinger Bands    \n",
    "def bollinger_bands(crypto, window=21):\n",
    "    rolling_mean = crypto.Close.rolling(window).mean()\n",
    "    rolling_std = crypto.Close.rolling(window).std()\n",
    "    upper_band = rolling_mean + (rolling_std*2)\n",
    "    lower_band = rolling_mean - (rolling_std*2)\n",
    "    return upper_band, lower_band\n",
    " \n",
    "# Moving Average (7 days period)    \n",
    "def ma7(crypto):\n",
    "    return crypto.Close.rolling(7).mean()\n",
    "  \n",
    "# Moving Average (21 days period)  \n",
    "def ma21(crypto):\n",
    "    return crypto.Close.rolling(21).mean()\n",
    "    \n",
    "def momentum(data, n_days):\n",
    "    m = [None for i in range(n_days)]    \n",
    "    for i in range(len(data) - n_days):\n",
    "        end = i + n_days\n",
    "        m.append(data[i] - n_days)\n",
    "    return m"
   ]
  },
  {
   "cell_type": "code",
   "execution_count": null,
   "metadata": {},
   "outputs": [],
   "source": []
  }
 ],
 "metadata": {
  "kernelspec": {
   "display_name": "Python 3",
   "language": "python",
   "name": "python3"
  },
  "language_info": {
   "codemirror_mode": {
    "name": "ipython",
    "version": 3
   },
   "file_extension": ".py",
   "mimetype": "text/x-python",
   "name": "python",
   "nbconvert_exporter": "python",
   "pygments_lexer": "ipython3",
   "version": "3.8.3"
  }
 },
 "nbformat": 4,
 "nbformat_minor": 4
}
