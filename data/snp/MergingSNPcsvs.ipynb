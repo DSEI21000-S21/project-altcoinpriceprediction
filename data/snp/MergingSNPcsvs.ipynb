{
 "cells": [
  {
   "cell_type": "code",
   "execution_count": 23,
   "metadata": {},
   "outputs": [],
   "source": [
    "import pandas as pd\n",
    "import glob\n",
    "import os\n",
    "import numpy as np"
   ]
  },
  {
   "cell_type": "code",
   "execution_count": 24,
   "metadata": {},
   "outputs": [
    {
     "name": "stdout",
     "output_type": "stream",
     "text": [
      "['C:\\\\Users\\\\Michael\\\\Documents\\\\School\\\\CCNY DSE\\\\Spring 2021\\\\DSE_I2100_Applied_Machine_Learning_and_Data_Mining\\\\Project\\\\project-altcoinpriceprediction\\\\data\\\\snp\\\\Download Data - INDEX_US_S&P US_SPX (1).csv', 'C:\\\\Users\\\\Michael\\\\Documents\\\\School\\\\CCNY DSE\\\\Spring 2021\\\\DSE_I2100_Applied_Machine_Learning_and_Data_Mining\\\\Project\\\\project-altcoinpriceprediction\\\\data\\\\snp\\\\Download Data - INDEX_US_S&P US_SPX (2).csv', 'C:\\\\Users\\\\Michael\\\\Documents\\\\School\\\\CCNY DSE\\\\Spring 2021\\\\DSE_I2100_Applied_Machine_Learning_and_Data_Mining\\\\Project\\\\project-altcoinpriceprediction\\\\data\\\\snp\\\\Download Data - INDEX_US_S&P US_SPX (3).csv', 'C:\\\\Users\\\\Michael\\\\Documents\\\\School\\\\CCNY DSE\\\\Spring 2021\\\\DSE_I2100_Applied_Machine_Learning_and_Data_Mining\\\\Project\\\\project-altcoinpriceprediction\\\\data\\\\snp\\\\Download Data - INDEX_US_S&P US_SPX (4).csv', 'C:\\\\Users\\\\Michael\\\\Documents\\\\School\\\\CCNY DSE\\\\Spring 2021\\\\DSE_I2100_Applied_Machine_Learning_and_Data_Mining\\\\Project\\\\project-altcoinpriceprediction\\\\data\\\\snp\\\\Download Data - INDEX_US_S&P US_SPX (5).csv', 'C:\\\\Users\\\\Michael\\\\Documents\\\\School\\\\CCNY DSE\\\\Spring 2021\\\\DSE_I2100_Applied_Machine_Learning_and_Data_Mining\\\\Project\\\\project-altcoinpriceprediction\\\\data\\\\snp\\\\Download Data - INDEX_US_S&P US_SPX (6).csv', 'C:\\\\Users\\\\Michael\\\\Documents\\\\School\\\\CCNY DSE\\\\Spring 2021\\\\DSE_I2100_Applied_Machine_Learning_and_Data_Mining\\\\Project\\\\project-altcoinpriceprediction\\\\data\\\\snp\\\\Download Data - INDEX_US_S&P US_SPX (7).csv', 'C:\\\\Users\\\\Michael\\\\Documents\\\\School\\\\CCNY DSE\\\\Spring 2021\\\\DSE_I2100_Applied_Machine_Learning_and_Data_Mining\\\\Project\\\\project-altcoinpriceprediction\\\\data\\\\snp\\\\Download Data - INDEX_US_S&P US_SPX.csv']\n"
     ]
    },
    {
     "data": {
      "text/html": [
       "<div>\n",
       "<style scoped>\n",
       "    .dataframe tbody tr th:only-of-type {\n",
       "        vertical-align: middle;\n",
       "    }\n",
       "\n",
       "    .dataframe tbody tr th {\n",
       "        vertical-align: top;\n",
       "    }\n",
       "\n",
       "    .dataframe thead th {\n",
       "        text-align: right;\n",
       "    }\n",
       "</style>\n",
       "<table border=\"1\" class=\"dataframe\">\n",
       "  <thead>\n",
       "    <tr style=\"text-align: right;\">\n",
       "      <th></th>\n",
       "      <th>Date</th>\n",
       "      <th>Open</th>\n",
       "      <th>High</th>\n",
       "      <th>Low</th>\n",
       "      <th>Close</th>\n",
       "    </tr>\n",
       "  </thead>\n",
       "  <tbody>\n",
       "    <tr>\n",
       "      <th>0</th>\n",
       "      <td>12/31/2015</td>\n",
       "      <td>2,060.59</td>\n",
       "      <td>2,062.54</td>\n",
       "      <td>2,043.62</td>\n",
       "      <td>2,043.94</td>\n",
       "    </tr>\n",
       "    <tr>\n",
       "      <th>1</th>\n",
       "      <td>12/30/2015</td>\n",
       "      <td>2,077.34</td>\n",
       "      <td>2,077.34</td>\n",
       "      <td>2,061.97</td>\n",
       "      <td>2,063.36</td>\n",
       "    </tr>\n",
       "    <tr>\n",
       "      <th>2</th>\n",
       "      <td>12/29/2015</td>\n",
       "      <td>2,060.54</td>\n",
       "      <td>2,081.56</td>\n",
       "      <td>2,060.54</td>\n",
       "      <td>2,078.36</td>\n",
       "    </tr>\n",
       "    <tr>\n",
       "      <th>3</th>\n",
       "      <td>12/28/2015</td>\n",
       "      <td>2,057.77</td>\n",
       "      <td>2,057.77</td>\n",
       "      <td>2,044.20</td>\n",
       "      <td>2,056.50</td>\n",
       "    </tr>\n",
       "    <tr>\n",
       "      <th>4</th>\n",
       "      <td>12/24/2015</td>\n",
       "      <td>2,063.52</td>\n",
       "      <td>2,067.36</td>\n",
       "      <td>2,058.73</td>\n",
       "      <td>2,060.99</td>\n",
       "    </tr>\n",
       "    <tr>\n",
       "      <th>...</th>\n",
       "      <td>...</td>\n",
       "      <td>...</td>\n",
       "      <td>...</td>\n",
       "      <td>...</td>\n",
       "      <td>...</td>\n",
       "    </tr>\n",
       "    <tr>\n",
       "      <th>246</th>\n",
       "      <td>01/09/2017</td>\n",
       "      <td>2,273.59</td>\n",
       "      <td>2,275.49</td>\n",
       "      <td>2,268.90</td>\n",
       "      <td>2,268.90</td>\n",
       "    </tr>\n",
       "    <tr>\n",
       "      <th>247</th>\n",
       "      <td>01/06/2017</td>\n",
       "      <td>2,271.14</td>\n",
       "      <td>2,282.10</td>\n",
       "      <td>2,264.06</td>\n",
       "      <td>2,276.98</td>\n",
       "    </tr>\n",
       "    <tr>\n",
       "      <th>248</th>\n",
       "      <td>01/05/2017</td>\n",
       "      <td>2,268.18</td>\n",
       "      <td>2,271.50</td>\n",
       "      <td>2,260.45</td>\n",
       "      <td>2,269.00</td>\n",
       "    </tr>\n",
       "    <tr>\n",
       "      <th>249</th>\n",
       "      <td>01/04/2017</td>\n",
       "      <td>2,261.60</td>\n",
       "      <td>2,272.82</td>\n",
       "      <td>2,261.60</td>\n",
       "      <td>2,270.75</td>\n",
       "    </tr>\n",
       "    <tr>\n",
       "      <th>250</th>\n",
       "      <td>01/03/2017</td>\n",
       "      <td>2,251.57</td>\n",
       "      <td>2,263.88</td>\n",
       "      <td>2,245.13</td>\n",
       "      <td>2,257.83</td>\n",
       "    </tr>\n",
       "  </tbody>\n",
       "</table>\n",
       "<p>1841 rows × 5 columns</p>\n",
       "</div>"
      ],
      "text/plain": [
       "           Date      Open      High       Low     Close\n",
       "0    12/31/2015  2,060.59  2,062.54  2,043.62  2,043.94\n",
       "1    12/30/2015  2,077.34  2,077.34  2,061.97  2,063.36\n",
       "2    12/29/2015  2,060.54  2,081.56  2,060.54  2,078.36\n",
       "3    12/28/2015  2,057.77  2,057.77  2,044.20  2,056.50\n",
       "4    12/24/2015  2,063.52  2,067.36  2,058.73  2,060.99\n",
       "..          ...       ...       ...       ...       ...\n",
       "246  01/09/2017  2,273.59  2,275.49  2,268.90  2,268.90\n",
       "247  01/06/2017  2,271.14  2,282.10  2,264.06  2,276.98\n",
       "248  01/05/2017  2,268.18  2,271.50  2,260.45  2,269.00\n",
       "249  01/04/2017  2,261.60  2,272.82  2,261.60  2,270.75\n",
       "250  01/03/2017  2,251.57  2,263.88  2,245.13  2,257.83\n",
       "\n",
       "[1841 rows x 5 columns]"
      ]
     },
     "execution_count": 24,
     "metadata": {},
     "output_type": "execute_result"
    }
   ],
   "source": [
    "# Market watch snp 500 historical data\n",
    "all_files = glob.glob(os.path.join(os.getcwd(), '*.csv'))\n",
    "print(all_files)\n",
    "df = pd.concat((pd.read_csv(f) for f in all_files))\n",
    "\n",
    "df"
   ]
  },
  {
   "cell_type": "code",
   "execution_count": 25,
   "metadata": {},
   "outputs": [],
   "source": [
    "df.index = pd.to_datetime(df['Date'])\n",
    "df = df.drop('Date', axis=1).sort_index()"
   ]
  },
  {
   "cell_type": "code",
   "execution_count": 26,
   "metadata": {},
   "outputs": [],
   "source": [
    "dates = pd.date_range('01-01-2013', '4-23-2021')\n",
    "df = df.reindex(dates, fill_value=np.nan)\n",
    "#df.iloc[0, :] = [2082.11, 2085.58, 2057.94, 2058.90]"
   ]
  },
  {
   "cell_type": "code",
   "execution_count": 27,
   "metadata": {},
   "outputs": [
    {
     "data": {
      "text/plain": [
       "DatetimeIndex(['2013-01-01', '2013-01-02', '2013-01-03', '2013-01-04',\n",
       "               '2013-01-05', '2013-01-06', '2013-01-07', '2013-01-08',\n",
       "               '2013-01-09', '2013-01-10',\n",
       "               ...\n",
       "               '2021-04-14', '2021-04-15', '2021-04-16', '2021-04-17',\n",
       "               '2021-04-18', '2021-04-19', '2021-04-20', '2021-04-21',\n",
       "               '2021-04-22', '2021-04-23'],\n",
       "              dtype='datetime64[ns]', length=3035, freq='D')"
      ]
     },
     "execution_count": 27,
     "metadata": {},
     "output_type": "execute_result"
    }
   ],
   "source": [
    "df.index"
   ]
  },
  {
   "cell_type": "code",
   "execution_count": 28,
   "metadata": {},
   "outputs": [],
   "source": [
    "df = df.fillna(method='ffill')"
   ]
  },
  {
   "cell_type": "code",
   "execution_count": 29,
   "metadata": {},
   "outputs": [],
   "source": [
    "rem_comma = lambda s: s.replace(',', '') if isinstance(s, str) else s\n",
    "df = df.applymap(rem_comma).applymap(float)"
   ]
  },
  {
   "cell_type": "code",
   "execution_count": 30,
   "metadata": {},
   "outputs": [
    {
     "data": {
      "text/html": [
       "<div>\n",
       "<style scoped>\n",
       "    .dataframe tbody tr th:only-of-type {\n",
       "        vertical-align: middle;\n",
       "    }\n",
       "\n",
       "    .dataframe tbody tr th {\n",
       "        vertical-align: top;\n",
       "    }\n",
       "\n",
       "    .dataframe thead th {\n",
       "        text-align: right;\n",
       "    }\n",
       "</style>\n",
       "<table border=\"1\" class=\"dataframe\">\n",
       "  <thead>\n",
       "    <tr style=\"text-align: right;\">\n",
       "      <th></th>\n",
       "      <th>Open</th>\n",
       "      <th>High</th>\n",
       "      <th>Low</th>\n",
       "      <th>Close</th>\n",
       "    </tr>\n",
       "  </thead>\n",
       "  <tbody>\n",
       "    <tr>\n",
       "      <th>2013-01-01</th>\n",
       "      <td>1402.43</td>\n",
       "      <td>1426.74</td>\n",
       "      <td>1398.11</td>\n",
       "      <td>1426.19</td>\n",
       "    </tr>\n",
       "    <tr>\n",
       "      <th>2013-01-02</th>\n",
       "      <td>1426.19</td>\n",
       "      <td>1462.43</td>\n",
       "      <td>1426.19</td>\n",
       "      <td>1462.42</td>\n",
       "    </tr>\n",
       "    <tr>\n",
       "      <th>2013-01-03</th>\n",
       "      <td>1462.42</td>\n",
       "      <td>1465.47</td>\n",
       "      <td>1455.53</td>\n",
       "      <td>1459.37</td>\n",
       "    </tr>\n",
       "    <tr>\n",
       "      <th>2013-01-04</th>\n",
       "      <td>1459.37</td>\n",
       "      <td>1467.94</td>\n",
       "      <td>1458.99</td>\n",
       "      <td>1466.47</td>\n",
       "    </tr>\n",
       "    <tr>\n",
       "      <th>2013-01-05</th>\n",
       "      <td>1459.37</td>\n",
       "      <td>1467.94</td>\n",
       "      <td>1458.99</td>\n",
       "      <td>1466.47</td>\n",
       "    </tr>\n",
       "    <tr>\n",
       "      <th>...</th>\n",
       "      <td>...</td>\n",
       "      <td>...</td>\n",
       "      <td>...</td>\n",
       "      <td>...</td>\n",
       "    </tr>\n",
       "    <tr>\n",
       "      <th>2021-04-19</th>\n",
       "      <td>4179.80</td>\n",
       "      <td>4180.81</td>\n",
       "      <td>4150.47</td>\n",
       "      <td>4163.26</td>\n",
       "    </tr>\n",
       "    <tr>\n",
       "      <th>2021-04-20</th>\n",
       "      <td>4159.18</td>\n",
       "      <td>4159.18</td>\n",
       "      <td>4118.38</td>\n",
       "      <td>4134.94</td>\n",
       "    </tr>\n",
       "    <tr>\n",
       "      <th>2021-04-21</th>\n",
       "      <td>4128.42</td>\n",
       "      <td>4175.02</td>\n",
       "      <td>4126.35</td>\n",
       "      <td>4173.42</td>\n",
       "    </tr>\n",
       "    <tr>\n",
       "      <th>2021-04-22</th>\n",
       "      <td>4170.46</td>\n",
       "      <td>4179.57</td>\n",
       "      <td>4123.69</td>\n",
       "      <td>4134.98</td>\n",
       "    </tr>\n",
       "    <tr>\n",
       "      <th>2021-04-23</th>\n",
       "      <td>4138.78</td>\n",
       "      <td>4194.17</td>\n",
       "      <td>4138.78</td>\n",
       "      <td>4180.17</td>\n",
       "    </tr>\n",
       "  </tbody>\n",
       "</table>\n",
       "<p>3035 rows × 4 columns</p>\n",
       "</div>"
      ],
      "text/plain": [
       "               Open     High      Low    Close\n",
       "2013-01-01  1402.43  1426.74  1398.11  1426.19\n",
       "2013-01-02  1426.19  1462.43  1426.19  1462.42\n",
       "2013-01-03  1462.42  1465.47  1455.53  1459.37\n",
       "2013-01-04  1459.37  1467.94  1458.99  1466.47\n",
       "2013-01-05  1459.37  1467.94  1458.99  1466.47\n",
       "...             ...      ...      ...      ...\n",
       "2021-04-19  4179.80  4180.81  4150.47  4163.26\n",
       "2021-04-20  4159.18  4159.18  4118.38  4134.94\n",
       "2021-04-21  4128.42  4175.02  4126.35  4173.42\n",
       "2021-04-22  4170.46  4179.57  4123.69  4134.98\n",
       "2021-04-23  4138.78  4194.17  4138.78  4180.17\n",
       "\n",
       "[3035 rows x 4 columns]"
      ]
     },
     "execution_count": 30,
     "metadata": {},
     "output_type": "execute_result"
    }
   ],
   "source": [
    "df"
   ]
  },
  {
   "cell_type": "code",
   "execution_count": 34,
   "metadata": {},
   "outputs": [
    {
     "data": {
      "text/plain": [
       "<AxesSubplot:>"
      ]
     },
     "execution_count": 34,
     "metadata": {},
     "output_type": "execute_result"
    },
    {
     "data": {
      "image/png": "[encoded data removed]",
      "text/plain": [
       "<Figure size 432x288 with 1 Axes>"
      ]
     },
     "metadata": {
      "needs_background": "light"
     },
     "output_type": "display_data"
    }
   ],
   "source": [
    "df['Close'].plot()"
   ]
  },
  {
   "cell_type": "code",
   "execution_count": 35,
   "metadata": {},
   "outputs": [],
   "source": [
    "df.to_csv('snp500_2013_2021.csv')"
   ]
  },
  {
   "cell_type": "code",
   "execution_count": 18,
   "metadata": {},
   "outputs": [
    {
     "data": {
      "text/plain": [
       "['.ipynb_checkpoints',\n",
       " 'Download Data - INDEX_US_S&P US_SPX (1).csv',\n",
       " 'Download Data - INDEX_US_S&P US_SPX (2).csv',\n",
       " 'Download Data - INDEX_US_S&P US_SPX (3).csv',\n",
       " 'Download Data - INDEX_US_S&P US_SPX (4).csv',\n",
       " 'Download Data - INDEX_US_S&P US_SPX (5).csv',\n",
       " 'Download Data - INDEX_US_S&P US_SPX (6).csv',\n",
       " 'Download Data - INDEX_US_S&P US_SPX (7).csv',\n",
       " 'Download Data - INDEX_US_S&P US_SPX.csv',\n",
       " 'Untitled.ipynb']"
      ]
     },
     "execution_count": 18,
     "metadata": {},
     "output_type": "execute_result"
    }
   ],
   "source": [
    "os.listdir()"
   ]
  }
 ],
 "metadata": {
  "kernelspec": {
   "display_name": "Python 3",
   "language": "python",
   "name": "python3"
  },
  "language_info": {
   "codemirror_mode": {
    "name": "ipython",
    "version": 3
   },
   "file_extension": ".py",
   "mimetype": "text/x-python",
   "name": "python",
   "nbconvert_exporter": "python",
   "pygments_lexer": "ipython3",
   "version": "3.8.5"
  }
 },
 "nbformat": 4,
 "nbformat_minor": 4
}
