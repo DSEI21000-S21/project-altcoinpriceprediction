{
 "cells": [
  {
   "cell_type": "markdown",
   "metadata": {},
   "source": [
    "# What is Pair Trading?\n"
   ]
  },
  {
   "cell_type": "markdown",
   "metadata": {},
   "source": [
    "- Pair Trading works by betting that 2 or more securities will diverge and coverge in price\n",
    "- Pairs Trading is a market-neutral strategy (meaning market direction doesn’t  matter) and involves pairing a long and short position on strongly correlated stocks.\n",
    "- Today, by using technology as well as drawing on fundamentals, probabilities, statistics and technical analysis – pairs traders attempt to identify relationships between two instruments, determine the direction of the relationship and execute trades based on the data presented.\n",
    "- Simply put, pairs trading involves finding two stocks whose price movements have been highly correlated, and then, when the correlation is perceived to have (temporarily) weakened, taking a long position in one and a simultaneous short position in the other\n",
    "- Find two stocks whose prices have moved together historically. When the spread between them widens, short the winner and buy the loser. If history repeats itself, prices will converge and the arbitrageur will profit."
   ]
  },
  {
   "cell_type": "markdown",
   "metadata": {},
   "source": [
    "# Choosing the Pairs"
   ]
  },
  {
   "cell_type": "markdown",
   "metadata": {},
   "source": [
    "- The first step in choosing the pair is to find two stocks that have historically demonstrated a strong degree of correlation in price movement. As a starting point, many traders will look for stocks in the same sector or even better, in the same industry group. Stocks in unrelated industries tend to have weaker correlations than those in the same industry.\n"
   ]
  },
  {
   "cell_type": "markdown",
   "metadata": {},
   "source": [
    "# Possible questions to answer?"
   ]
  },
  {
   "cell_type": "markdown",
   "metadata": {},
   "source": [
    "- What are the correlations and pairs of coins?\n",
    "- Trading one coin, selling it to buy more (perhaps higher-priced) coins?\n",
    "- Movement of altcoins based on bitcoin/ethereum/litecoin?\n",
    "- What is the movement of altcoins in relation to one another, best pair trades to make?"
   ]
  },
  {
   "cell_type": "markdown",
   "metadata": {},
   "source": [
    "# DataSet Content "
   ]
  },
  {
   "cell_type": "markdown",
   "metadata": {},
   "source": [
    "Price history is available on a daily basis from April 28, 2013. This dataset has the historical price information of some of the top crypto currencies by market capitalization.\n",
    "\n",
    "https://www.kaggle.com/sudalairajkumar/cryptocurrencypricehistory\n",
    "        \n",
    "- Date : date of observation\n",
    "- Open : Opening price on the given day\n",
    "- High : Highest price on the given day\n",
    "- Low : Lowest price on the given day\n",
    "- Close : Closing price on the given day\n",
    "- Volume : Volume of transactions on the given day\n",
    "- Market Cap : Market capitalization in USD"
   ]
  },
  {
   "cell_type": "markdown",
   "metadata": {},
   "source": [
    "\n"
   ]
  }
 ],
 "metadata": {
  "kernelspec": {
   "display_name": "Python 3",
   "language": "python",
   "name": "python3"
  },
  "language_info": {
   "codemirror_mode": {
    "name": "ipython",
    "version": 3
   },
   "file_extension": ".py",
   "mimetype": "text/x-python",
   "name": "python",
   "nbconvert_exporter": "python",
   "pygments_lexer": "ipython3",
   "version": "3.8.8"
  }
 },
 "nbformat": 4,
 "nbformat_minor": 4
}
