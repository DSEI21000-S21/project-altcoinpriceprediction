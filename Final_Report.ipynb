{
 "cells": [
  {
   "cell_type": "markdown",
   "id": "8b472923",
   "metadata": {},
   "source": [
    "# Altcoin Price Prediction Project - Report\n",
    "Can we predict the price of altcoin cryptocurrencies, and profit by trading them based on the forecast?"
   ]
  },
  {
   "cell_type": "markdown",
   "id": "eec7f398",
   "metadata": {},
   "source": [
    "## Abstract"
   ]
  },
  {
   "cell_type": "markdown",
   "id": "65e6f7eb",
   "metadata": {},
   "source": [
<<<<<<< HEAD
    "A cryptocurrency is a digital or virtual currency that is secured by cryptography, which makes it nearly impossible to counterfeit or double-spend. Many cryptocurrencies are decentralized networks based on blockchain technology—a distributed ledger enforced by a disparate network of computers. A defining feature of cryptocurrencies is that they are generally not issued by any central authority, rendering them theoretically immune to government interference or manipulation. The first blockchain-based cryptocurrency was Bitcoin, which still remains the most popular and most valuable. Today, there are thousands of alternate cryptocurrencies with various functions and specifications. Some of the competing cryptocurrencies spawned by Bitcoin’s success, known as \"altcoins,\" include Litecoin, Peercoin, and Namecoin, as well as Ethereum, Cardano, and EOS. Today, the aggregate value of all the cryptocurrencies in existence is around $1.5 trillion—Bitcoin currently represents more than 60% of the total value. "
   ]
  },
  {
   "cell_type": "markdown",
   "id": "098b9f30",
   "metadata": {},
   "source": [
    "Either high-cap or low-cap cryptocurrencies are investment opportunities. This project's main objective is to develop models that are capable of predicting altcoin cryptocurrency close prices, as well as forecast prices. Altcoins generally have high volatility and large price swings, which are conducive to short-term trading. We look at short / long term trading and low-cap coins. Additionally, there a function will be utilize that measures the profit considering that there is a transaction fee to pay for each transaction. \n"
=======
    "With cryptocurrency interest on the rise, there are many investment (short-term or long-term) opportunities to be had, especially due to the volatility of certain digital assets. The cryptocurrency market is tough to predict, just as the stock market, so we aim to create simple and complex models which are capable of forecasting low-cap coins and altcoins, which are generally subject to larger price swings. Using these models, the ultimate goal is to profit through trading these assets. We do this using autoregression, MACD and Bollinger Bands, and LSTM models. We test on historical price data of many different cryptocurrencies, and forecast using more recent data gathered from CoinAPI."
>>>>>>> 16bb9a8c4e2ed13431f117eb5b4564a580a054a6
   ]
  },
  {
   "cell_type": "markdown",
   "id": "90ece70d",
   "metadata": {},
   "source": [
    "## Introduction"
   ]
  },
  {
   "cell_type": "markdown",
   "id": "61223b95",
   "metadata": {},
   "source": [
    "The objective is to build a model that informs an investor's decision making with regards to buying or selling cryptocurrency to make a profit. "
   ]
  },
  {
   "cell_type": "markdown",
   "id": "f6c934d5",
   "metadata": {},
   "source": [
    "## Background"
   ]
  },
  {
   "cell_type": "markdown",
   "id": "38227bf2",
   "metadata": {},
   "source": [
    "## Data"
<<<<<<< HEAD
   ]
  },
  {
   "cell_type": "markdown",
   "id": "0104ad02",
   "metadata": {},
   "source": [
    "The analysis will only focus on the pricing information, leaving aside any factor which may impact the price of Bitcoin, like for example, news, which can play a very important rule. Price history is available on a daily basis from 2013. The datasets that are used for this project has the historical price information of some of the top crypto currencies by market capitalization.\n",
    "- Date : date of observation\n",
    "- Open : Opening price on the given day\n",
    "- High : Highest price on the given day\n",
    "- Low : Lowest price on the given day\n",
    "- Close : Closing price on the given day\n",
    "- Volume : Volume of transactions on the given day\n",
    "- Market Cap : Market capitalization in USD"
   ]
  },
  {
   "cell_type": "markdown",
   "id": "680e5121",
   "metadata": {},
   "source": [
    "The data was derived from [Blockchain's website](http://www.blockchain.com/explorer), which includes the variables mentioned above. "
=======
>>>>>>> 16bb9a8c4e2ed13431f117eb5b4564a580a054a6
   ]
  },
  {
   "cell_type": "markdown",
<<<<<<< HEAD
   "id": "4bfd3634",
=======
   "id": "0104ad02",
>>>>>>> 16bb9a8c4e2ed13431f117eb5b4564a580a054a6
   "metadata": {},
   "source": [
    "## Methods"
   ]
  },
  {
   "cell_type": "markdown",
<<<<<<< HEAD
   "id": "f4a7a696",
=======
   "id": "680e5121",
>>>>>>> 16bb9a8c4e2ed13431f117eb5b4564a580a054a6
   "metadata": {},
   "source": [
    "### Autoregression model"
   ]
  },
  {
   "cell_type": "markdown",
<<<<<<< HEAD
   "id": "26805952",
=======
   "id": "4bfd3634",
>>>>>>> 16bb9a8c4e2ed13431f117eb5b4564a580a054a6
   "metadata": {},
   "source": [
    "### LSTM Model \n",
    "Long-Short Term Memory (LSTM) is a type of RNN that allows us to process not only single data points (such as images) but also entire sequences of data (such as speech or video). They are a great choice for time series forecasting, and they are the type of architecture we will be using today. For this particular model, Dogecoin will be used as an experiment to test the model's performance. Let's begin by how the dataset looks like."
   ]
  },
  {
   "cell_type": "code",
   "execution_count": 10,
   "id": "04bf2887",
   "metadata": {},
   "outputs": [],
   "source": [
    "import pandas as pd\n",
    "from IPython.display import Markdown as md"
   ]
  },
  {
   "cell_type": "code",
   "execution_count": 7,
   "id": "db9a8066",
   "metadata": {},
   "outputs": [],
   "source": [
    "df = pd.read_csv('coin_Dogecoin.csv')\n",
    "df = df.set_index(pd.DatetimeIndex(df['Date']))\n",
    "df = df[['Close']]"
   ]
  },
  {
   "cell_type": "code",
   "execution_count": 8,
   "id": "cc58cf8a",
   "metadata": {},
   "outputs": [
    {
     "data": {
      "text/html": [
       "<div>\n",
       "<style scoped>\n",
       "    .dataframe tbody tr th:only-of-type {\n",
       "        vertical-align: middle;\n",
       "    }\n",
       "\n",
       "    .dataframe tbody tr th {\n",
       "        vertical-align: top;\n",
       "    }\n",
       "\n",
       "    .dataframe thead th {\n",
       "        text-align: right;\n",
       "    }\n",
       "</style>\n",
       "<table border=\"1\" class=\"dataframe\">\n",
       "  <thead>\n",
       "    <tr style=\"text-align: right;\">\n",
       "      <th></th>\n",
       "      <th>Close</th>\n",
       "    </tr>\n",
       "    <tr>\n",
       "      <th>Date</th>\n",
       "      <th></th>\n",
       "    </tr>\n",
       "  </thead>\n",
       "  <tbody>\n",
       "    <tr>\n",
       "      <th>2013-12-16 23:59:59</th>\n",
       "      <td>0.000205</td>\n",
       "    </tr>\n",
       "    <tr>\n",
       "      <th>2013-12-17 23:59:59</th>\n",
       "      <td>0.000269</td>\n",
       "    </tr>\n",
       "    <tr>\n",
       "      <th>2013-12-18 23:59:59</th>\n",
       "      <td>0.000362</td>\n",
       "    </tr>\n",
       "    <tr>\n",
       "      <th>2013-12-19 23:59:59</th>\n",
       "      <td>0.001162</td>\n",
       "    </tr>\n",
       "    <tr>\n",
       "      <th>2013-12-20 23:59:59</th>\n",
       "      <td>0.000704</td>\n",
       "    </tr>\n",
       "  </tbody>\n",
       "</table>\n",
       "</div>"
      ],
      "text/plain": [
       "                        Close\n",
       "Date                         \n",
       "2013-12-16 23:59:59  0.000205\n",
       "2013-12-17 23:59:59  0.000269\n",
       "2013-12-18 23:59:59  0.000362\n",
       "2013-12-19 23:59:59  0.001162\n",
       "2013-12-20 23:59:59  0.000704"
      ]
     },
     "execution_count": 8,
     "metadata": {},
     "output_type": "execute_result"
    }
   ],
   "source": [
    "df.head()"
   ]
  },
  {
   "cell_type": "code",
   "execution_count": 18,
   "id": "d6dbf49c",
   "metadata": {},
   "outputs": [
    {
     "data": {
      "text/markdown": [
       "The data consists of 2631 observations, which means roughly 7 years."
      ],
      "text/plain": [
       "<IPython.core.display.Markdown object>"
      ]
     },
     "execution_count": 18,
     "metadata": {},
     "output_type": "execute_result"
    }
   ],
   "source": [
    "md(\"The data consists of {} observations, which means roughly {} years.\".format(len(df),round(len(df)/365)))"
   ]
  },
  {
   "cell_type": "code",
   "execution_count": null,
   "id": "27d5fe7d",
   "metadata": {},
   "outputs": [],
   "source": []
  },
  {
   "cell_type": "markdown",
   "id": "be371e6d",
   "metadata": {},
   "source": [
    "## Evaluation"
   ]
  },
  {
   "cell_type": "markdown",
   "id": "89dbce86",
   "metadata": {},
   "source": [
    "## Conclusion"
   ]
  },
  {
   "cell_type": "markdown",
   "id": "f415de26",
   "metadata": {},
   "source": [
    "## Attribution"
   ]
  }
 ],
 "metadata": {
  "kernelspec": {
   "display_name": "Python 3",
   "language": "python",
   "name": "python3"
  },
  "language_info": {
   "codemirror_mode": {
    "name": "ipython",
    "version": 3
   },
   "file_extension": ".py",
   "mimetype": "text/x-python",
   "name": "python",
   "nbconvert_exporter": "python",
   "pygments_lexer": "ipython3",
<<<<<<< HEAD
   "version": "3.8.5"
=======
   "version": "3.8.8"
>>>>>>> 16bb9a8c4e2ed13431f117eb5b4564a580a054a6
  }
 },
 "nbformat": 4,
 "nbformat_minor": 5
}
