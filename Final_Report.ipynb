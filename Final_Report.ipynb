{
 "cells": [
  {
   "cell_type": "markdown",
   "id": "8b472923",
   "metadata": {},
   "source": [
    "# Altcoin Price Prediction Project - Report\n",
    "Can we predict the price of altcoin cryptocurrencies, and profit by trading them based on the forecast?"
   ]
  },
  {
   "cell_type": "markdown",
   "id": "eec7f398",
   "metadata": {},
   "source": [
    "## Abstract"
   ]
  },
  {
   "cell_type": "markdown",
   "id": "098b9f30",
   "metadata": {},
   "source": [
    "Either high-cap or low-cap cryptocurrencies are investment opportunities. This project's main objective is to develop models that are capable of predicting altcoin cryptocurrency close prices, as well as forecast prices. Altcoins generally have high volatility and large price swings, which are conducive to short-term trading. We look at short / long term trading and low-cap coins. Additionally, there a function will be utilize that measures the profit considering that there is a transaction fee to pay for each transaction. \n",
    "With cryptocurrency interest on the rise, there are many investment (short-term or long-term) opportunities to be had, especially due to the volatility of certain digital assets. The cryptocurrency market is tough to predict, just as the stock market, so we aim to create simple and complex models which are capable of forecasting low-cap coins and altcoins, which are generally subject to larger price swings. Using these models, the ultimate goal is to profit through trading these assets. We do this using autoregression, MACD and Bollinger Bands, and LSTM models. We test on historical price data of many different cryptocurrencies, and forecast using more recent data gathered from CoinAPI."
   ]
  },
  {
   "cell_type": "markdown",
   "id": "90ece70d",
   "metadata": {},
   "source": [
    "## Introduction"
   ]
  },
  {
   "cell_type": "markdown",
   "id": "61223b95",
   "metadata": {},
   "source": [
    "The objective is to build a model that informs an investor's decision making with regards to buying or selling cryptocurrency to make a profit. "
   ]
  },
  {
   "cell_type": "markdown",
   "id": "f6c934d5",
   "metadata": {},
   "source": [
    "## Background"
   ]
  },
  {
   "cell_type": "markdown",
   "id": "38227bf2",
   "metadata": {},
   "source": [
    "## Data"
   ]
  },
  {
   "cell_type": "markdown",
   "id": "0104ad02",
   "metadata": {},
   "source": [
    "The analysis will only focus on the pricing information, leaving aside any factor which may impact the price of Bitcoin, like for example, news, which can play a very important rule. Price history is available on a daily basis from 2013. The datasets that are used for this project has the historical price information of some of the top crypto currencies by market capitalization.\n",
    "- Date : date of observation\n",
    "- Open : Opening price on the given day\n",
    "- High : Highest price on the given day\n",
    "- Low : Lowest price on the given day\n",
    "- Close : Closing price on the given day\n",
    "- Volume : Volume of transactions on the given day\n",
    "- Market Cap : Market capitalization in USD"
   ]
  },
  {
   "cell_type": "markdown",
   "id": "680e5121",
   "metadata": {},
   "source": [
    "The data was derived from [Blockchain's website](http://www.blockchain.com/explorer), which includes the variables mentioned above. "
   ]
  },
  {
   "cell_type": "markdown",
   "id": "acb7f5e2",
   "metadata": {},
   "source": [
    "There are generally no missing values in the historical data, so no imputation is necessary. For autoregression, the data is loaded into a dataframe and a datetime index is created out of the date values provided. Additionally, the closing price, which is the only endogenous variable used in the autoregression model, is scaled using the natural logarithm, and time-series differenced."
   ]
  },
  {
   "cell_type": "markdown",
   "id": "7c52e6f6",
   "metadata": {},
   "source": [
    "## Methods"
   ]
  },
  {
   "cell_type": "markdown",
   "id": "5b48cf5",
   "metadata": {},
   "source": [
    "### Autoregression model"
   ]
  },
  {
   "cell_type": "markdown",
   "id": "fa6077a6",
   "metadata": {},
   "source": [
    "The most simple model to apply to this problem is an autoregression model, imported from the statsmodel python package. First, the close price feature variable of an example coin, Cardano / ADA, is explored visually through plots. Namely, a lag plot and an autocorrelation plot, to see if the time-series we have is suitable for autoregression."
   ]
  },
  {
   "cell_type": "code",
   "execution_count": 5,
   "id": "03c060a3",
   "metadata": {},
   "outputs": [
    {
     "data": {
      "text/html": [
       "<div>\n",
       "<style scoped>\n",
       "    .dataframe tbody tr th:only-of-type {\n",
       "        vertical-align: middle;\n",
       "    }\n",
       "\n",
       "    .dataframe tbody tr th {\n",
       "        vertical-align: top;\n",
       "    }\n",
       "\n",
       "    .dataframe thead th {\n",
       "        text-align: right;\n",
       "    }\n",
       "</style>\n",
       "<table border=\"1\" class=\"dataframe\">\n",
       "  <thead>\n",
       "    <tr style=\"text-align: right;\">\n",
       "      <th></th>\n",
       "      <th>Name</th>\n",
       "      <th>Symbol</th>\n",
       "      <th>High</th>\n",
       "      <th>Low</th>\n",
       "      <th>Open</th>\n",
       "      <th>Close</th>\n",
       "      <th>Volume</th>\n",
       "      <th>Marketcap</th>\n",
       "    </tr>\n",
       "    <tr>\n",
       "      <th>Date</th>\n",
       "      <th></th>\n",
       "      <th></th>\n",
       "      <th></th>\n",
       "      <th></th>\n",
       "      <th></th>\n",
       "      <th></th>\n",
       "      <th></th>\n",
       "      <th></th>\n",
       "    </tr>\n",
       "  </thead>\n",
       "  <tbody>\n",
       "    <tr>\n",
       "      <th>2017-10-02</th>\n",
       "      <td>Cardano</td>\n",
       "      <td>ADA</td>\n",
       "      <td>0.030088</td>\n",
       "      <td>0.019969</td>\n",
       "      <td>0.024607</td>\n",
       "      <td>0.025932</td>\n",
       "      <td>57641300.0</td>\n",
       "      <td>6.288991e+08</td>\n",
       "    </tr>\n",
       "    <tr>\n",
       "      <th>2017-10-03</th>\n",
       "      <td>Cardano</td>\n",
       "      <td>ADA</td>\n",
       "      <td>0.027425</td>\n",
       "      <td>0.020690</td>\n",
       "      <td>0.025757</td>\n",
       "      <td>0.020816</td>\n",
       "      <td>16997800.0</td>\n",
       "      <td>5.396927e+08</td>\n",
       "    </tr>\n",
       "    <tr>\n",
       "      <th>2017-10-04</th>\n",
       "      <td>Cardano</td>\n",
       "      <td>ADA</td>\n",
       "      <td>0.022806</td>\n",
       "      <td>0.020864</td>\n",
       "      <td>0.020864</td>\n",
       "      <td>0.021931</td>\n",
       "      <td>9000050.0</td>\n",
       "      <td>5.686195e+08</td>\n",
       "    </tr>\n",
       "    <tr>\n",
       "      <th>2017-10-05</th>\n",
       "      <td>Cardano</td>\n",
       "      <td>ADA</td>\n",
       "      <td>0.022154</td>\n",
       "      <td>0.020859</td>\n",
       "      <td>0.021951</td>\n",
       "      <td>0.021489</td>\n",
       "      <td>5562510.0</td>\n",
       "      <td>5.571390e+08</td>\n",
       "    </tr>\n",
       "    <tr>\n",
       "      <th>2017-10-06</th>\n",
       "      <td>Cardano</td>\n",
       "      <td>ADA</td>\n",
       "      <td>0.021542</td>\n",
       "      <td>0.018360</td>\n",
       "      <td>0.021359</td>\n",
       "      <td>0.018539</td>\n",
       "      <td>7780710.0</td>\n",
       "      <td>4.806646e+08</td>\n",
       "    </tr>\n",
       "  </tbody>\n",
       "</table>\n",
       "</div>"
      ],
      "text/plain": [
       "               Name Symbol      High       Low      Open     Close  \\\n",
       "Date                                                                 \n",
       "2017-10-02  Cardano    ADA  0.030088  0.019969  0.024607  0.025932   \n",
       "2017-10-03  Cardano    ADA  0.027425  0.020690  0.025757  0.020816   \n",
       "2017-10-04  Cardano    ADA  0.022806  0.020864  0.020864  0.021931   \n",
       "2017-10-05  Cardano    ADA  0.022154  0.020859  0.021951  0.021489   \n",
       "2017-10-06  Cardano    ADA  0.021542  0.018360  0.021359  0.018539   \n",
       "\n",
       "                Volume     Marketcap  \n",
       "Date                                  \n",
       "2017-10-02  57641300.0  6.288991e+08  \n",
       "2017-10-03  16997800.0  5.396927e+08  \n",
       "2017-10-04   9000050.0  5.686195e+08  \n",
       "2017-10-05   5562510.0  5.571390e+08  \n",
       "2017-10-06   7780710.0  4.806646e+08  "
      ]
     },
     "execution_count": 5,
     "metadata": {},
     "output_type": "execute_result"
    }
   ],
   "source": [
    "import numpy as np\n",
    "import pandas as pd\n",
    "import matplotlib.pyplot as plt\n",
    "from sklearn.model_selection import train_test_split\n",
    "from sklearn.metrics import mean_squared_error\n",
    "import seaborn as sns\n",
    "from statsmodels.tsa.ar_model import AutoReg\n",
    "import matplotlib.dates as mdates\n",
    "import datetime\n",
    "\n",
    "df = pd.read_csv('data/cryptocurrencypricehistory/coin_Cardano.csv')\n",
    "df['Date'] = pd.to_datetime(df['Date']).dt.date\n",
    "df = df.set_index(pd.DatetimeIndex(df['Date'])).drop('Date', axis=1).drop('SNo', axis=1)\n",
    "df.head()"
   ]
  },
  {
   "cell_type": "code",
   "execution_count": 6,
   "id": "aebc354e",
   "metadata": {},
   "outputs": [
    {
     "data": {
      "text/plain": [
       "Text(0.5, 1.0, 'Lag Plot (Log Close Price)')"
      ]
     },
     "execution_count": 6,
     "metadata": {},
     "output_type": "execute_result"
    },
    {
     "data": {
      "image/png": "[encoded data removed]",
      "text/plain": [
       "<Figure size 432x288 with 1 Axes>"
      ]
     },
     "metadata": {
      "needs_background": "light"
     },
     "output_type": "display_data"
    }
   ],
   "source": [
    "pd.plotting.lag_plot(np.log(df['Close']))\n",
    "plt.title('Lag Plot (Log Close Price)')"
   ]
  },
  {
   "cell_type": "markdown",
   "id": "420a5627",
   "metadata": {},
   "source": [
    "The correlation in the lag plot (lag of 1) suggests that an autoregressive model is appropriate. Next, the autocorrelation plot shows some possible values of lag orders for the model."
   ]
  },
  {
   "cell_type": "code",
   "execution_count": 7,
   "id": "c2bd6cfb",
   "metadata": {},
   "outputs": [
    {
     "data": {
      "text/plain": [
       "Text(0.5, 1.0, 'Autocorrelation Plot (Log Close Price)')"
      ]
     },
     "execution_count": 7,
     "metadata": {},
     "output_type": "execute_result"
    },
    {
     "data": {
      "image/png": "[encoded data removed]",
      "text/plain": [
       "<Figure size 432x288 with 1 Axes>"
      ]
     },
     "metadata": {
      "needs_background": "light"
     },
     "output_type": "display_data"
    }
   ],
   "source": [
    "pd.plotting.autocorrelation_plot(np.log(df['Close']))\n",
    "plt.title('Autocorrelation Plot (Log Close Price)')"
   ]
  },
  {
   "cell_type": "markdown",
   "id": "6cf70542",
   "metadata": {},
   "source": [
    "The autocorrelation plot shows that the correlation among the current value and the past ~200 values is statistically significant, and that the significance past a lag of 200 varies and may not be as significant as the previous values. Finally, an Augmented Dickey–Fuller test is used to test for stationarity of the data. The autoregression model should not be used on a non-stationary time series, so this is a way to see if we need to difference the close price series before training the model."
   ]
  },
  {
   "cell_type": "code",
   "execution_count": 8,
   "id": "30a92e36",
   "metadata": {},
   "outputs": [
    {
     "name": "stdout",
     "output_type": "stream",
     "text": [
      "ADF-Statistic: -0.7128723298932104\n",
      "p-value: 0.8433870805859085\n",
      "Critical Values {'1%': -3.435716995109265, '5%': -2.8639100200710828, '10%': -2.568031835031368}\n"
     ]
    }
   ],
   "source": [
    "from statsmodels.tsa.stattools import adfuller\n",
    "adf_test = adfuller(df['Close'].values)\n",
    "print('ADF-Statistic:',adf_test[0])\n",
    "print('p-value:',adf_test[1])\n",
    "print('Critical Values', adf_test[4])"
   ]
  },
  {
   "cell_type": "markdown",
   "id": "81ccf32c",
   "metadata": {},
   "source": [
    "This suggests that the close price of ADA is not stationary. The pandas series method .diff() will be used to difference the close price."
   ]
  },
  {
   "cell_type": "code",
   "execution_count": 10,
   "id": "1e0ba5ad",
   "metadata": {},
   "outputs": [
    {
     "name": "stdout",
     "output_type": "stream",
     "text": [
      "ADF-Statistic: -4.295559943375205\n",
      "p-value: 0.0004521428023148032\n",
      "Critical Values {'1%': -3.435716995109265, '5%': -2.8639100200710828, '10%': -2.568031835031368}\n"
     ]
    }
   ],
   "source": [
    "adf_test = adfuller(df['Close'].diff().dropna().values)\n",
    "print('ADF-Statistic:',adf_test[0])\n",
    "print('p-value:',adf_test[1])\n",
    "print('Critical Values', adf_test[4])"
   ]
  },
  {
   "cell_type": "markdown",
   "id": "f23724ea",
   "metadata": {},
   "source": [
    "This suggests that after differencing, the close price series is now stationary."
   ]
  },
  {
   "cell_type": "markdown",
   "id": "d30132e1",
   "metadata": {},
   "source": [
    "Now, a function is used to train the model over a range of lag values, and selects the best lag values by maximizing the hit rate, or the amount of days on which the model correctly predicts the sign of the percent change of the asset. Then, it minimizes the mean squared error of the predictions and selects the appropriate lag value, which also depends on the amount of days forecasted."
   ]
  },
  {
   "cell_type": "markdown",
   "id": "4bfd3634",
   "metadata": {},
   "source": [
    "### LSTM Model \n",
    "Long-Short Term Memory (LSTM) is a type of RNN that allows us to process not only single data points (such as images) but also entire sequences of data (such as speech or video). They are a great choice for time series forecasting, and they are the type of architecture we will be using today. For this particular model, Dogecoin will be used as an experiment to test the model's performance. Let's begin by how the dataset looks like."
   ]
  },
  {
   "cell_type": "code",
   "execution_count": 2,
   "id": "04bf2887",
   "metadata": {},
   "outputs": [],
   "source": [
    "import pandas as pd\n",
    "from IPython.display import Markdown as md"
   ]
  },
  {
   "cell_type": "code",
   "execution_count": 7,
   "id": "db9a8066",
   "metadata": {},
   "outputs": [],
   "source": [
    "df = pd.read_csv('coin_Dogecoin.csv')\n",
    "df = df.set_index(pd.DatetimeIndex(df['Date']))\n",
    "df = df[['Close']]"
   ]
  },
  {
   "cell_type": "code",
   "execution_count": 8,
   "id": "cc58cf8a",
   "metadata": {},
   "outputs": [
    {
     "data": {
      "text/html": [
       "<div>\n",
       "<style scoped>\n",
       "    .dataframe tbody tr th:only-of-type {\n",
       "        vertical-align: middle;\n",
       "    }\n",
       "\n",
       "    .dataframe tbody tr th {\n",
       "        vertical-align: top;\n",
       "    }\n",
       "\n",
       "    .dataframe thead th {\n",
       "        text-align: right;\n",
       "    }\n",
       "</style>\n",
       "<table border=\"1\" class=\"dataframe\">\n",
       "  <thead>\n",
       "    <tr style=\"text-align: right;\">\n",
       "      <th></th>\n",
       "      <th>Close</th>\n",
       "    </tr>\n",
       "    <tr>\n",
       "      <th>Date</th>\n",
       "      <th></th>\n",
       "    </tr>\n",
       "  </thead>\n",
       "  <tbody>\n",
       "    <tr>\n",
       "      <th>2013-12-16 23:59:59</th>\n",
       "      <td>0.000205</td>\n",
       "    </tr>\n",
       "    <tr>\n",
       "      <th>2013-12-17 23:59:59</th>\n",
       "      <td>0.000269</td>\n",
       "    </tr>\n",
       "    <tr>\n",
       "      <th>2013-12-18 23:59:59</th>\n",
       "      <td>0.000362</td>\n",
       "    </tr>\n",
       "    <tr>\n",
       "      <th>2013-12-19 23:59:59</th>\n",
       "      <td>0.001162</td>\n",
       "    </tr>\n",
       "    <tr>\n",
       "      <th>2013-12-20 23:59:59</th>\n",
       "      <td>0.000704</td>\n",
       "    </tr>\n",
       "  </tbody>\n",
       "</table>\n",
       "</div>"
      ],
      "text/plain": [
       "                        Close\n",
       "Date                         \n",
       "2013-12-16 23:59:59  0.000205\n",
       "2013-12-17 23:59:59  0.000269\n",
       "2013-12-18 23:59:59  0.000362\n",
       "2013-12-19 23:59:59  0.001162\n",
       "2013-12-20 23:59:59  0.000704"
      ]
     },
     "execution_count": 8,
     "metadata": {},
     "output_type": "execute_result"
    }
   ],
   "source": [
    "df.head()"
   ]
  },
  {
   "cell_type": "code",
   "execution_count": 18,
   "id": "d6dbf49c",
   "metadata": {},
   "outputs": [
    {
     "data": {
      "text/markdown": [
       "The data consists of 2631 observations, which means roughly 7 years."
      ],
      "text/plain": [
       "<IPython.core.display.Markdown object>"
      ]
     },
     "execution_count": 18,
     "metadata": {},
     "output_type": "execute_result"
    }
   ],
   "source": [
    "md(\"The data consists of {} observations, which means roughly {} years.\".format(len(df),round(len(df)/365)))"
   ]
  },
  {
   "cell_type": "markdown",
   "id": "be371e6d",
   "metadata": {},
   "source": [
    "## Evaluation"
   ]
  },
  {
   "cell_type": "markdown",
   "id": "89dbce86",
   "metadata": {},
   "source": [
    "## Conclusion"
   ]
  },
  {
   "cell_type": "markdown",
   "id": "f415de26",
   "metadata": {},
   "source": [
    "## Attribution"
   ]
  }
 ],
 "metadata": {
  "kernelspec": {
   "display_name": "Python 3",
   "language": "python",
   "name": "python3"
  },
  "language_info": {
   "codemirror_mode": {
    "name": "ipython",
    "version": 3
   },
   "file_extension": ".py",
   "mimetype": "text/x-python",
   "name": "python",
   "nbconvert_exporter": "python",
   "pygments_lexer": "ipython3",
   "version": "3.8.8"
  }
 },
 "nbformat": 4,
 "nbformat_minor": 5
}
