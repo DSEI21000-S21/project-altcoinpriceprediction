{
 "cells": [
  {
   "cell_type": "markdown",
   "id": "8b472923",
   "metadata": {},
   "source": [
    "# Altcoin Price Prediction Project - Report\n",
    "Can we predict the price of altcoin cryptocurrencies, and profit by trading them based on the forecast?"
   ]
  },
  {
   "cell_type": "markdown",
   "id": "eec7f398",
   "metadata": {},
   "source": [
    "## Abstract"
   ]
  },
  {
   "cell_type": "markdown",
   "id": "65e6f7eb",
   "metadata": {},
   "source": [
    "With cryptocurrency interest on the rise, there are many investment (short-term or long-term) opportunities to be had, especially due to the volatility of certain digital assets. The cryptocurrency market is tough to predict, just as the stock market, so we aim to create simple and complex models which are capable of forecasting low-cap coins and altcoins, which are generally subject to larger price swings. Using these models, the ultimate goal is to profit through trading these assets. We do this using autoregression, MACD and Bollinger Bands, and LSTM models. We test on historical price data of many different cryptocurrencies, and forecast using more recent data gathered from CoinAPI."
   ]
  },
  {
   "cell_type": "markdown",
   "id": "90ece70d",
   "metadata": {},
   "source": [
    "## Introduction"
   ]
  },
  {
   "cell_type": "markdown",
   "id": "61223b95",
   "metadata": {},
   "source": [
    "The objective is to build a model that informs an investor's decision making with regards to buying or selling cryptocurrency to make a profit. "
   ]
  },
  {
   "cell_type": "markdown",
   "id": "f6c934d5",
   "metadata": {},
   "source": [
    "## Background"
   ]
  },
  {
   "cell_type": "markdown",
   "id": "38227bf2",
   "metadata": {},
   "source": [
    "## Data"
   ]
  },
  {
   "cell_type": "markdown",
   "id": "0104ad02",
   "metadata": {},
   "source": [
    "The analysis will only focus on the pricing information, leaving aside any factor which may impact the price of Bitcoin, like for example, news, which can play a very important rule. Price history is available on a daily basis from 2013. The datasets that are used for this project has the historical price information of some of the top crypto currencies by market capitalization.\n",
    "- Date : date of observation\n",
    "- Open : Opening price on the given day\n",
    "- High : Highest price on the given day\n",
    "- Low : Lowest price on the given day\n",
    "- Close : Closing price on the given day\n",
    "- Volume : Volume of transactions on the given day\n",
    "- Market Cap : Market capitalization in USD"
   ]
  },
  {
   "cell_type": "markdown",
   "id": "680e5121",
   "metadata": {},
   "source": [
    "The data was derived from [Blockchain's website](http://www.blockchain.com/explorer), which includes the variables mentioned above. "
   ]
  },
  {
   "cell_type": "markdown",
   "id": "4bfd3634",
   "metadata": {},
   "source": [
    "## Methods"
   ]
  },
  {
   "cell_type": "markdown",
   "id": "be371e6d",
   "metadata": {},
   "source": [
    "## Evaluation"
   ]
  },
  {
   "cell_type": "markdown",
   "id": "89dbce86",
   "metadata": {},
   "source": [
    "## Conclusion"
   ]
  },
  {
   "cell_type": "markdown",
   "id": "f415de26",
   "metadata": {},
   "source": [
    "## Attribution"
   ]
  }
 ],
 "metadata": {
  "kernelspec": {
   "display_name": "Python 3",
   "language": "python",
   "name": "python3"
  },
  "language_info": {
   "codemirror_mode": {
    "name": "ipython",
    "version": 3
   },
   "file_extension": ".py",
   "mimetype": "text/x-python",
   "name": "python",
   "nbconvert_exporter": "python",
   "pygments_lexer": "ipython3",
   "version": "3.8.8"
  }
 },
 "nbformat": 4,
 "nbformat_minor": 5
}
