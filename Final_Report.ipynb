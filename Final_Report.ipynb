{
 "cells": [
  {
   "cell_type": "markdown",
   "metadata": {},
   "source": [
    "# Altcoin Price Prediction Project - Report\n",
    "Can we predict the price of altcoin cryptocurrencies, and profit by trading them based on the forecast?"
   ]
  },
  {
   "cell_type": "markdown",
   "metadata": {},
   "source": [
    "## Abstract"
   ]
  },
  {
   "cell_type": "markdown",
<<<<<<< HEAD
   "id": "ca6c02ca",
=======
>>>>>>> e40c50bfb7f8e67aac859056f4dd3915c9c5d186
   "metadata": {},
   "source": [
    "A cryptocurrency is a digital or virtual currency that is secured by cryptography, which makes it nearly impossible to counterfeit or double-spend. Many cryptocurrencies are decentralized networks based on blockchain technology—a distributed ledger enforced by a disparate network of computers. A defining feature of cryptocurrencies is that they are generally not issued by any central authority, rendering them theoretically immune to government interference or manipulation. The first blockchain-based cryptocurrency was Bitcoin, which still remains the most popular and most valuable. Today, there are thousands of alternate cryptocurrencies with various functions and specifications. Some of the competing cryptocurrencies spawned by Bitcoin’s success, known as \"altcoins,\" include Litecoin, Peercoin, and Namecoin, as well as Ethereum, Cardano, and EOS. Today, the aggregate value of all the cryptocurrencies in existence is around $1.5 trillion—Bitcoin currently represents more than 60% of the total value. "
   ]
  },
  {
   "cell_type": "markdown",
<<<<<<< HEAD
   "id": "91b4d980",
=======
>>>>>>> e40c50bfb7f8e67aac859056f4dd3915c9c5d186
   "metadata": {},
   "source": [
    "Either high-cap or low-cap cryptocurrencies are investment opportunities. This project's main objective is to develop models that are capable of predicting altcoin cryptocurrency close prices, as well as forecast prices. Altcoins generally have high volatility and large price swings, which are conducive to short-term trading. We look at short / long term trading and low-cap coins. Additionally, there a function will be utilize that measures the profit considering that there is a transaction fee to pay for each transaction. \n"
   ]
  },
  {
   "cell_type": "markdown",
   "metadata": {},
   "source": [
    "## Introduction"
   ]
  },
  {
   "cell_type": "markdown",
<<<<<<< HEAD
   "id": "da23a7b9",
   "metadata": {},
   "source": [
    "The objective is to build a model that informs an investor's decision making with regards to buying or selling cryptocurrency to make a profit. "
   ]
  },
  {
   "cell_type": "markdown",
   "id": "f6c934d5",
=======
>>>>>>> e40c50bfb7f8e67aac859056f4dd3915c9c5d186
   "metadata": {},
   "source": [
    "## Background"
   ]
  },
  {
   "cell_type": "markdown",
   "metadata": {},
   "source": [
    "## Data\n"
   ]
  },
  {
   "cell_type": "markdown",
   "metadata": {},
   "source": [
    "\n",
    "The dataset has one csv file for each currency. Price history is available on a daily basis starting from April 28, 2013. This dataset has the historical price information of some of the top crypto currencies by market capitalization. Sourced from CoinMarketCap.com"
   ]
  },
  {
   "cell_type": "markdown",
   "metadata": {},
   "source": [
    "https://www.kaggle.com/sudalairajkumar/cryptocurrencypricehistory"
   ]
  },
  {
   "cell_type": "markdown",
<<<<<<< HEAD
   "id": "ed5c8da9",
   "metadata": {},
   "source": [
    "The analysis will only focus on the pricing information, leaving aside any factor which may impact the price of Bitcoin, like for example, news, which can play a very important rule. Price history is available on a daily basis from 2013. The datasets that are used for this project has the historical price information of some of the top crypto currencies by market capitalization.\n",
    "- Date : date of observation\n",
    "- Open : Opening price on the given day\n",
    "- High : Highest price on the given day\n",
    "- Low : Lowest price on the given day\n",
    "- Close : Closing price on the given day\n",
    "- Volume : Volume of transactions on the given day\n",
    "- Market Cap : Market capitalization in USD"
   ]
  },
  {
   "cell_type": "markdown",
   "id": "d881822f",
   "metadata": {},
   "source": [
    "The data was derived from [Blockchain's website](http://www.blockchain.com/explorer), which includes the variables mentioned above. "
   ]
  },
  {
   "cell_type": "markdown",
   "id": "4bfd3634",
=======
>>>>>>> e40c50bfb7f8e67aac859056f4dd3915c9c5d186
   "metadata": {},
   "source": [
    "## Methods"
   ]
  },
  {
   "cell_type": "markdown",
   "metadata": {},
   "source": [
    "## Evaluation"
   ]
  },
  {
   "cell_type": "markdown",
   "metadata": {},
   "source": [
    "## Conclusion"
   ]
  },
  {
   "cell_type": "markdown",
   "metadata": {},
   "source": [
    "## Attribution"
   ]
  }
 ],
 "metadata": {
  "kernelspec": {
   "display_name": "Python 3",
   "language": "python",
   "name": "python3"
  },
  "language_info": {
   "codemirror_mode": {
    "name": "ipython",
    "version": 3
   },
   "file_extension": ".py",
   "mimetype": "text/x-python",
   "name": "python",
   "nbconvert_exporter": "python",
   "pygments_lexer": "ipython3",
   "version": "3.8.3"
  }
 },
 "nbformat": 4,
 "nbformat_minor": 5
}
